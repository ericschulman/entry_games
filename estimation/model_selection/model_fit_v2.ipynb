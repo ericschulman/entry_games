{
 "cells": [
  {
   "cell_type": "code",
   "execution_count": 1,
   "metadata": {},
   "outputs": [],
   "source": [
    "%load_ext autoreload\n",
    "%autoreload 2\n",
    "\n",
    "import numpy as np\n",
    "import pandas as pd\n",
    "import datetime\n",
    "#graphing\n",
    "import matplotlib.pyplot as plt\n",
    "#stats\n",
    "import statsmodels.api as sm\n",
    "from statsmodels.base.model import GenericLikelihoodModel\n",
    "\n",
    "#import testing\n",
    "import sys\n",
    "sys.path.append(\"../\")\n",
    "import selection_tests"
   ]
  },
  {
   "cell_type": "code",
   "execution_count": 2,
   "metadata": {},
   "outputs": [
    {
     "name": "stderr",
     "output_type": "stream",
     "text": [
      "/home/erichschulman/anaconda3/lib/python3.9/site-packages/statsmodels/tsa/tsatools.py:142: FutureWarning: In a future version of pandas all arguments of concat except for the argument 'objs' will be keyword-only\n",
      "  x = pd.concat(x[::order], 1)\n"
     ]
    }
   ],
   "source": [
    "# Add warehouse data\n",
    "entry2_data = pd.read_csv(\"../data/entry_loc2.csv\")\n",
    "entry2_data = entry2_data.dropna()\n",
    "entry2_data['HD entry'] = 1*(entry2_data['HD'] > 0)\n",
    "entry2_data['LOW entry'] = 1*(entry2_data['LOW'] > 0)\n",
    "entry2_data['log income'] = np.log(1 + entry2_data['income_per_capita'])\n",
    "entry2_data['log population'] = np.log(1 + entry2_data['population'])\n",
    "entry2_data['log hd warehouse'] = np.log(1 + entry2_data['hd warehouse distance'])\n",
    "entry2_data['log low warehouse'] = np.log(1 + entry2_data['low warehouse distance'])\n",
    "entry2_data = entry2_data[(entry2_data['population']>=10000) & (entry2_data['income_per_capita']>=15000)]\n",
    "entry2_data = entry2_data[(entry2_data['lon'] <= -30) & (entry2_data['lat'] >= 25) ]\n",
    "entry2_data = sm.add_constant(entry2_data)"
   ]
  },
  {
   "cell_type": "code",
   "execution_count": 3,
   "metadata": {},
   "outputs": [
    {
     "name": "stdout",
     "output_type": "stream",
     "text": [
      "Optimization terminated successfully.\n",
      "         Current function value: 0.516223\n",
      "         Iterations 6\n",
      "Optimization terminated successfully.\n",
      "         Current function value: 0.521237\n",
      "         Iterations 6\n",
      "[-1.09364059e+01 -5.08298059e-03  9.45608270e-01  8.33899479e-03\n",
      "  4.47877722e+00 -1.15220618e+00  5.79471773e-01  5.06419108e-03\n",
      "  1.33141327e+00  1.35747936e+00]\n",
      "Warning: Maximum number of iterations has been exceeded.\n"
     ]
    },
    {
     "name": "stderr",
     "output_type": "stream",
     "text": [
      "/home/erichschulman/anaconda3/lib/python3.9/site-packages/statsmodels/base/model.py:566: ConvergenceWarning: Maximum Likelihood optimization failed to converge. Check mle_retvals\n",
      "  warnings.warn(\"Maximum Likelihood optimization failed to \"\n"
     ]
    },
    {
     "data": {
      "text/html": [
       "<table class=\"simpletable\">\n",
       "<caption>NashLogit Results</caption>\n",
       "<tr>\n",
       "  <th>Dep. Variable:</th>    <td>['HD entry', 'LOW entry']</td> <th>  Log-Likelihood:    </th> <td> -3166.0</td>\n",
       "</tr>\n",
       "<tr>\n",
       "  <th>Model:</th>                    <td>NashLogit</td>         <th>  AIC:               </th> <td>   6342.</td>\n",
       "</tr>\n",
       "<tr>\n",
       "  <th>Method:</th>              <td>Maximum Likelihood</td>     <th>  BIC:               </th> <td>   6372.</td>\n",
       "</tr>\n",
       "<tr>\n",
       "  <th>Date:</th>                 <td>Mon, 09 May 2022</td>      <th>                     </th>     <td> </td>   \n",
       "</tr>\n",
       "<tr>\n",
       "  <th>Time:</th>                     <td>21:53:18</td>          <th>                     </th>     <td> </td>   \n",
       "</tr>\n",
       "<tr>\n",
       "  <th>No. Observations:</th>          <td>  2952</td>           <th>                     </th>     <td> </td>   \n",
       "</tr>\n",
       "<tr>\n",
       "  <th>Df Residuals:</th>              <td>  2947</td>           <th>                     </th>     <td> </td>   \n",
       "</tr>\n",
       "<tr>\n",
       "  <th>Df Model:</th>                  <td>     4</td>           <th>                     </th>     <td> </td>   \n",
       "</tr>\n",
       "</table>\n",
       "<table class=\"simpletable\">\n",
       "<tr>\n",
       "          <td></td>             <th>coef</th>     <th>std err</th>      <th>z</th>      <th>P>|z|</th>  <th>[0.025</th>    <th>0.975]</th>  \n",
       "</tr>\n",
       "<tr>\n",
       "  <th>const</th>             <td>  -12.0313</td> <td>    1.921</td> <td>   -6.264</td> <td> 0.000</td> <td>  -15.796</td> <td>   -8.267</td>\n",
       "</tr>\n",
       "<tr>\n",
       "  <th>log income</th>        <td>   -0.0071</td> <td>    0.262</td> <td>   -0.027</td> <td> 0.978</td> <td>   -0.520</td> <td>    0.505</td>\n",
       "</tr>\n",
       "<tr>\n",
       "  <th>log population</th>    <td>    1.0879</td> <td>    0.142</td> <td>    7.656</td> <td> 0.000</td> <td>    0.809</td> <td>    1.366</td>\n",
       "</tr>\n",
       "<tr>\n",
       "  <th>log hd warehouse</th>  <td>    0.0112</td> <td>    0.044</td> <td>    0.254</td> <td> 0.800</td> <td>   -0.075</td> <td>    0.097</td>\n",
       "</tr>\n",
       "<tr>\n",
       "  <th>const</th>             <td>    4.4993</td> <td>    2.384</td> <td>    1.887</td> <td> 0.059</td> <td>   -0.173</td> <td>    9.172</td>\n",
       "</tr>\n",
       "<tr>\n",
       "  <th>log income</th>        <td>   -1.1881</td> <td>    0.143</td> <td>   -8.332</td> <td> 0.000</td> <td>   -1.468</td> <td>   -0.909</td>\n",
       "</tr>\n",
       "<tr>\n",
       "  <th>log population</th>    <td>    0.6217</td> <td>    0.188</td> <td>    3.309</td> <td> 0.001</td> <td>    0.253</td> <td>    0.990</td>\n",
       "</tr>\n",
       "<tr>\n",
       "  <th>log low warehouse</th> <td>    0.0036</td> <td>    0.047</td> <td>    0.077</td> <td> 0.938</td> <td>   -0.088</td> <td>    0.095</td>\n",
       "</tr>\n",
       "<tr>\n",
       "  <th>par0</th>              <td>    0.2723</td> <td>    1.059</td> <td>    0.257</td> <td> 0.797</td> <td>   -1.803</td> <td>    2.347</td>\n",
       "</tr>\n",
       "<tr>\n",
       "  <th>par1</th>              <td>    1.1499</td> <td>    0.868</td> <td>    1.324</td> <td> 0.185</td> <td>   -0.552</td> <td>    2.852</td>\n",
       "</tr>\n",
       "</table>"
      ],
      "text/plain": [
       "<class 'statsmodels.iolib.summary.Summary'>\n",
       "\"\"\"\n",
       "                                  NashLogit Results                                  \n",
       "=====================================================================================\n",
       "Dep. Variable:     ['HD entry', 'LOW entry']   Log-Likelihood:                -3166.0\n",
       "Model:                             NashLogit   AIC:                             6342.\n",
       "Method:                   Maximum Likelihood   BIC:                             6372.\n",
       "Date:                       Mon, 09 May 2022                                         \n",
       "Time:                               21:53:18                                         \n",
       "No. Observations:                       2952                                         \n",
       "Df Residuals:                           2947                                         \n",
       "Df Model:                                  4                                         \n",
       "=====================================================================================\n",
       "                        coef    std err          z      P>|z|      [0.025      0.975]\n",
       "-------------------------------------------------------------------------------------\n",
       "const               -12.0313      1.921     -6.264      0.000     -15.796      -8.267\n",
       "log income           -0.0071      0.262     -0.027      0.978      -0.520       0.505\n",
       "log population        1.0879      0.142      7.656      0.000       0.809       1.366\n",
       "log hd warehouse      0.0112      0.044      0.254      0.800      -0.075       0.097\n",
       "const                 4.4993      2.384      1.887      0.059      -0.173       9.172\n",
       "log income           -1.1881      0.143     -8.332      0.000      -1.468      -0.909\n",
       "log population        0.6217      0.188      3.309      0.001       0.253       0.990\n",
       "log low warehouse     0.0036      0.047      0.077      0.938      -0.088       0.095\n",
       "par0                  0.2723      1.059      0.257      0.797      -1.803       2.347\n",
       "par1                  1.1499      0.868      1.324      0.185      -0.552       2.852\n",
       "=====================================================================================\n",
       "\"\"\""
      ]
     },
     "execution_count": 3,
     "metadata": {},
     "output_type": "execute_result"
    }
   ],
   "source": [
    "# Fit the NashLogit model\n",
    "x = entry2_data[['const','log income','log population','log hd warehouse',\n",
    "                 'const','log income','log population','log low warehouse']].copy()\n",
    "y = entry2_data[['HD entry','LOW entry']]\n",
    "NashLogit_model = selection_tests.NashLogit(y,x).fit()\n",
    "NashLogit_model.summary()"
   ]
  },
  {
   "cell_type": "code",
   "execution_count": 4,
   "metadata": {},
   "outputs": [
    {
     "name": "stdout",
     "output_type": "stream",
     "text": [
      "Optimization terminated successfully.\n",
      "         Current function value: 0.516223\n",
      "         Iterations 6\n",
      "Optimization terminated successfully.\n",
      "         Current function value: 0.521237\n",
      "         Iterations 6\n",
      "[-1.09364059e+01 -5.08298059e-03  9.45608270e-01  8.33899479e-03\n",
      "  4.47877722e+00 -1.15220618e+00  5.79471773e-01  5.06419108e-03\n",
      "  1.33141327e+00  1.35747936e+00]\n",
      "Warning: Maximum number of iterations has been exceeded.\n"
     ]
    },
    {
     "name": "stderr",
     "output_type": "stream",
     "text": [
      "/home/erichschulman/anaconda3/lib/python3.9/site-packages/statsmodels/base/model.py:566: ConvergenceWarning: Maximum Likelihood optimization failed to converge. Check mle_retvals\n",
      "  warnings.warn(\"Maximum Likelihood optimization failed to \"\n"
     ]
    },
    {
     "data": {
      "text/html": [
       "<table class=\"simpletable\">\n",
       "<caption>BayesNashLogit Results</caption>\n",
       "<tr>\n",
       "  <th>Dep. Variable:</th>    <td>['HD entry', 'LOW entry']</td> <th>  Log-Likelihood:    </th> <td> -3263.8</td>\n",
       "</tr>\n",
       "<tr>\n",
       "  <th>Model:</th>                 <td>BayesNashLogit</td>       <th>  AIC:               </th> <td>   6538.</td>\n",
       "</tr>\n",
       "<tr>\n",
       "  <th>Method:</th>              <td>Maximum Likelihood</td>     <th>  BIC:               </th> <td>   6568.</td>\n",
       "</tr>\n",
       "<tr>\n",
       "  <th>Date:</th>                 <td>Mon, 09 May 2022</td>      <th>                     </th>     <td> </td>   \n",
       "</tr>\n",
       "<tr>\n",
       "  <th>Time:</th>                     <td>21:53:21</td>          <th>                     </th>     <td> </td>   \n",
       "</tr>\n",
       "<tr>\n",
       "  <th>No. Observations:</th>          <td>  2952</td>           <th>                     </th>     <td> </td>   \n",
       "</tr>\n",
       "<tr>\n",
       "  <th>Df Residuals:</th>              <td>  2947</td>           <th>                     </th>     <td> </td>   \n",
       "</tr>\n",
       "<tr>\n",
       "  <th>Df Model:</th>                  <td>     4</td>           <th>                     </th>     <td> </td>   \n",
       "</tr>\n",
       "</table>\n",
       "<table class=\"simpletable\">\n",
       "<tr>\n",
       "          <td></td>             <th>coef</th>     <th>std err</th>      <th>z</th>      <th>P>|z|</th>  <th>[0.025</th>    <th>0.975]</th>  \n",
       "</tr>\n",
       "<tr>\n",
       "  <th>const</th>             <td>  -11.5888</td> <td>    1.435</td> <td>   -8.076</td> <td> 0.000</td> <td>  -14.401</td> <td>   -8.776</td>\n",
       "</tr>\n",
       "<tr>\n",
       "  <th>log income</th>        <td>   -0.0049</td> <td>    0.225</td> <td>   -0.022</td> <td> 0.983</td> <td>   -0.445</td> <td>    0.435</td>\n",
       "</tr>\n",
       "<tr>\n",
       "  <th>log population</th>    <td>    1.0414</td> <td>    0.169</td> <td>    6.149</td> <td> 0.000</td> <td>    0.709</td> <td>    1.373</td>\n",
       "</tr>\n",
       "<tr>\n",
       "  <th>log hd warehouse</th>  <td>    0.0097</td> <td>    0.026</td> <td>    0.380</td> <td> 0.704</td> <td>   -0.040</td> <td>    0.060</td>\n",
       "</tr>\n",
       "<tr>\n",
       "  <th>const</th>             <td>   11.0586</td> <td>    4.017</td> <td>    2.753</td> <td> 0.006</td> <td>    3.186</td> <td>   18.932</td>\n",
       "</tr>\n",
       "<tr>\n",
       "  <th>log income</th>        <td>   -0.9576</td> <td>    0.179</td> <td>   -5.336</td> <td> 0.000</td> <td>   -1.309</td> <td>   -0.606</td>\n",
       "</tr>\n",
       "<tr>\n",
       "  <th>log population</th>    <td>   -0.3762</td> <td>    0.417</td> <td>   -0.903</td> <td> 0.366</td> <td>   -1.193</td> <td>    0.440</td>\n",
       "</tr>\n",
       "<tr>\n",
       "  <th>log low warehouse</th> <td>   -0.0030</td> <td>    0.044</td> <td>   -0.067</td> <td> 0.947</td> <td>   -0.090</td> <td>    0.084</td>\n",
       "</tr>\n",
       "<tr>\n",
       "  <th>par0</th>              <td>    0.4752</td> <td>    0.925</td> <td>    0.514</td> <td> 0.607</td> <td>   -1.338</td> <td>    2.288</td>\n",
       "</tr>\n",
       "<tr>\n",
       "  <th>par1</th>              <td>    5.3113</td> <td>    1.902</td> <td>    2.792</td> <td> 0.005</td> <td>    1.583</td> <td>    9.039</td>\n",
       "</tr>\n",
       "</table>"
      ],
      "text/plain": [
       "<class 'statsmodels.iolib.summary.Summary'>\n",
       "\"\"\"\n",
       "                                BayesNashLogit Results                               \n",
       "=====================================================================================\n",
       "Dep. Variable:     ['HD entry', 'LOW entry']   Log-Likelihood:                -3263.8\n",
       "Model:                        BayesNashLogit   AIC:                             6538.\n",
       "Method:                   Maximum Likelihood   BIC:                             6568.\n",
       "Date:                       Mon, 09 May 2022                                         \n",
       "Time:                               21:53:21                                         \n",
       "No. Observations:                       2952                                         \n",
       "Df Residuals:                           2947                                         \n",
       "Df Model:                                  4                                         \n",
       "=====================================================================================\n",
       "                        coef    std err          z      P>|z|      [0.025      0.975]\n",
       "-------------------------------------------------------------------------------------\n",
       "const               -11.5888      1.435     -8.076      0.000     -14.401      -8.776\n",
       "log income           -0.0049      0.225     -0.022      0.983      -0.445       0.435\n",
       "log population        1.0414      0.169      6.149      0.000       0.709       1.373\n",
       "log hd warehouse      0.0097      0.026      0.380      0.704      -0.040       0.060\n",
       "const                11.0586      4.017      2.753      0.006       3.186      18.932\n",
       "log income           -0.9576      0.179     -5.336      0.000      -1.309      -0.606\n",
       "log population       -0.3762      0.417     -0.903      0.366      -1.193       0.440\n",
       "log low warehouse    -0.0030      0.044     -0.067      0.947      -0.090       0.084\n",
       "par0                  0.4752      0.925      0.514      0.607      -1.338       2.288\n",
       "par1                  5.3113      1.902      2.792      0.005       1.583       9.039\n",
       "=====================================================================================\n",
       "\"\"\""
      ]
     },
     "execution_count": 4,
     "metadata": {},
     "output_type": "execute_result"
    }
   ],
   "source": [
    "# Fit the BayesNashLogit model\n",
    "x = entry2_data[['const','log income','log population','log hd warehouse', \n",
    "                 'const','log income','log population','log low warehouse']].copy()\n",
    "y = entry2_data[['HD entry','LOW entry']]\n",
    "BayesNashLogit_model = selection_tests.BayesNashLogit(y,x).fit()\n",
    "BayesNashLogit_model.summary()"
   ]
  },
  {
   "cell_type": "code",
   "execution_count": 5,
   "metadata": {},
   "outputs": [
    {
     "name": "stdout",
     "output_type": "stream",
     "text": [
      "Optimization terminated successfully.\n",
      "         Current function value: 0.525555\n",
      "         Iterations 6\n",
      "Optimization terminated successfully.\n",
      "         Current function value: 0.522770\n",
      "         Iterations 6\n",
      "[-0.91542172  0.83363423 -0.06999424 -0.76926613  0.62122087  0.02688035\n",
      "  1.28519899  1.31829695]\n"
     ]
    },
    {
     "name": "stderr",
     "output_type": "stream",
     "text": [
      "/home/erichschulman/anaconda3/lib/python3.9/site-packages/statsmodels/base/model.py:547: HessianInversionWarning: Inverting hessian failed, no bse or cov_params available\n",
      "  warnings.warn('Inverting hessian failed, no bse or cov_params '\n",
      "/home/erichschulman/anaconda3/lib/python3.9/site-packages/statsmodels/base/model.py:566: ConvergenceWarning: Maximum Likelihood optimization failed to converge. Check mle_retvals\n",
      "  warnings.warn(\"Maximum Likelihood optimization failed to \"\n"
     ]
    },
    {
     "name": "stdout",
     "output_type": "stream",
     "text": [
      "Optimization terminated successfully.\n",
      "         Current function value: 0.525555\n",
      "         Iterations 6\n",
      "Optimization terminated successfully.\n",
      "         Current function value: 0.522770\n",
      "         Iterations 6\n",
      "[-0.91542172  0.83363423 -0.06999424 -0.76926613  0.62122087  0.02688035\n",
      "  1.28519899  1.31829695]\n"
     ]
    },
    {
     "name": "stderr",
     "output_type": "stream",
     "text": [
      "/home/erichschulman/anaconda3/lib/python3.9/site-packages/statsmodels/base/model.py:547: HessianInversionWarning: Inverting hessian failed, no bse or cov_params available\n",
      "  warnings.warn('Inverting hessian failed, no bse or cov_params '\n",
      "/home/erichschulman/anaconda3/lib/python3.9/site-packages/statsmodels/base/model.py:566: ConvergenceWarning: Maximum Likelihood optimization failed to converge. Check mle_retvals\n",
      "  warnings.warn(\"Maximum Likelihood optimization failed to \"\n"
     ]
    },
    {
     "name": "stdout",
     "output_type": "stream",
     "text": [
      "regular: test, llr, omega ----\n",
      "6.448955996262684 96.06088800956829 0.27415679026572204\n",
      "---- \n"
     ]
    },
    {
     "data": {
      "text/plain": [
       "(1, 6.448955996262684)"
      ]
     },
     "execution_count": 5,
     "metadata": {},
     "output_type": "execute_result"
    }
   ],
   "source": [
    "# Fit the regular test model\n",
    "# Fit the BayesNashLogit model\n",
    "x = entry2_data[['log income','log population','log hd warehouse', \n",
    "                 'log income','log population','log low warehouse']].copy()\n",
    "y = entry2_data[['HD entry','LOW entry']]\n",
    "regular_test_model = selection_tests.regular_test(y,x,selection_tests.setup_test)\n",
    "regular_test_model"
   ]
  },
  {
   "cell_type": "code",
   "execution_count": 6,
   "metadata": {},
   "outputs": [
    {
     "name": "stdout",
     "output_type": "stream",
     "text": [
      "Optimization terminated successfully.\n",
      "         Current function value: 0.525555\n",
      "         Iterations 6\n",
      "Optimization terminated successfully.\n",
      "         Current function value: 0.522770\n",
      "         Iterations 6\n",
      "[-0.91542172  0.83363423 -0.06999424 -0.76926613  0.62122087  0.02688035\n",
      "  1.28519899  1.31829695]\n"
     ]
    },
    {
     "name": "stderr",
     "output_type": "stream",
     "text": [
      "/home/erichschulman/anaconda3/lib/python3.9/site-packages/statsmodels/base/model.py:547: HessianInversionWarning: Inverting hessian failed, no bse or cov_params available\n",
      "  warnings.warn('Inverting hessian failed, no bse or cov_params '\n",
      "/home/erichschulman/anaconda3/lib/python3.9/site-packages/statsmodels/base/model.py:566: ConvergenceWarning: Maximum Likelihood optimization failed to converge. Check mle_retvals\n",
      "  warnings.warn(\"Maximum Likelihood optimization failed to \"\n"
     ]
    },
    {
     "name": "stdout",
     "output_type": "stream",
     "text": [
      "Optimization terminated successfully.\n",
      "         Current function value: 0.525555\n",
      "         Iterations 6\n",
      "Optimization terminated successfully.\n",
      "         Current function value: 0.522770\n",
      "         Iterations 6\n",
      "[-0.91542172  0.83363423 -0.06999424 -0.76926613  0.62122087  0.02688035\n",
      "  1.28519899  1.31829695]\n"
     ]
    },
    {
     "name": "stderr",
     "output_type": "stream",
     "text": [
      "/home/erichschulman/anaconda3/lib/python3.9/site-packages/statsmodels/base/model.py:547: HessianInversionWarning: Inverting hessian failed, no bse or cov_params available\n",
      "  warnings.warn('Inverting hessian failed, no bse or cov_params '\n",
      "/home/erichschulman/anaconda3/lib/python3.9/site-packages/statsmodels/base/model.py:566: ConvergenceWarning: Maximum Likelihood optimization failed to converge. Check mle_retvals\n",
      "  warnings.warn(\"Maximum Likelihood optimization failed to \"\n"
     ]
    },
    {
     "data": {
      "text/plain": [
       "(1, 4.620603405854806, 7.866766675289476)"
      ]
     },
     "execution_count": 6,
     "metadata": {},
     "output_type": "execute_result"
    }
   ],
   "source": [
    "# Fit the bootstrap test model\n",
    "x = entry2_data[['log income','log population','log hd warehouse', 'log income','log population','log low warehouse']].copy()\n",
    "y = entry2_data[['HD entry','LOW entry']]\n",
    "bootstrap_test_model = selection_tests.bootstrap_test(y,x,selection_tests.setup_test, trials=100)\n",
    "bootstrap_test_model"
   ]
  },
  {
   "cell_type": "code",
   "execution_count": 7,
   "metadata": {
    "scrolled": false
   },
   "outputs": [
    {
     "name": "stdout",
     "output_type": "stream",
     "text": [
      "Optimization terminated successfully.\n",
      "         Current function value: 0.525555\n",
      "         Iterations 6\n",
      "Optimization terminated successfully.\n",
      "         Current function value: 0.522770\n",
      "         Iterations 6\n",
      "[-0.91542172  0.83363423 -0.06999424 -0.76926613  0.62122087  0.02688035\n",
      "  1.28519899  1.31829695]\n"
     ]
    },
    {
     "name": "stderr",
     "output_type": "stream",
     "text": [
      "/home/erichschulman/anaconda3/lib/python3.9/site-packages/statsmodels/base/model.py:547: HessianInversionWarning: Inverting hessian failed, no bse or cov_params available\n",
      "  warnings.warn('Inverting hessian failed, no bse or cov_params '\n",
      "/home/erichschulman/anaconda3/lib/python3.9/site-packages/statsmodels/base/model.py:566: ConvergenceWarning: Maximum Likelihood optimization failed to converge. Check mle_retvals\n",
      "  warnings.warn(\"Maximum Likelihood optimization failed to \"\n"
     ]
    },
    {
     "name": "stdout",
     "output_type": "stream",
     "text": [
      "Optimization terminated successfully.\n",
      "         Current function value: 0.525555\n",
      "         Iterations 6\n",
      "Optimization terminated successfully.\n",
      "         Current function value: 0.522770\n",
      "         Iterations 6\n",
      "[-0.91542172  0.83363423 -0.06999424 -0.76926613  0.62122087  0.02688035\n",
      "  1.28519899  1.31829695]\n"
     ]
    },
    {
     "name": "stderr",
     "output_type": "stream",
     "text": [
      "/home/erichschulman/anaconda3/lib/python3.9/site-packages/statsmodels/base/model.py:547: HessianInversionWarning: Inverting hessian failed, no bse or cov_params available\n",
      "  warnings.warn('Inverting hessian failed, no bse or cov_params '\n",
      "/home/erichschulman/anaconda3/lib/python3.9/site-packages/statsmodels/base/model.py:566: ConvergenceWarning: Maximum Likelihood optimization failed to converge. Check mle_retvals\n",
      "  warnings.warn(\"Maximum Likelihood optimization failed to \"\n"
     ]
    },
    {
     "name": "stdout",
     "output_type": "stream",
     "text": [
      "Optimization terminated successfully.\n",
      "         Current function value: 0.525555\n",
      "         Iterations 6\n",
      "Optimization terminated successfully.\n",
      "         Current function value: 0.522770\n",
      "         Iterations 6\n",
      "[-0.91542172  0.83363423 -0.06999424 -0.76926613  0.62122087  0.02688035\n",
      "  1.28519899  1.31829695]\n"
     ]
    },
    {
     "name": "stderr",
     "output_type": "stream",
     "text": [
      "/home/erichschulman/anaconda3/lib/python3.9/site-packages/statsmodels/base/model.py:547: HessianInversionWarning: Inverting hessian failed, no bse or cov_params available\n",
      "  warnings.warn('Inverting hessian failed, no bse or cov_params '\n",
      "/home/erichschulman/anaconda3/lib/python3.9/site-packages/statsmodels/base/model.py:566: ConvergenceWarning: Maximum Likelihood optimization failed to converge. Check mle_retvals\n",
      "  warnings.warn(\"Maximum Likelihood optimization failed to \"\n"
     ]
    },
    {
     "name": "stdout",
     "output_type": "stream",
     "text": [
      "Optimization terminated successfully.\n",
      "         Current function value: 0.525555\n",
      "         Iterations 6\n",
      "Optimization terminated successfully.\n",
      "         Current function value: 0.522770\n",
      "         Iterations 6\n",
      "[-0.91542172  0.83363423 -0.06999424 -0.76926613  0.62122087  0.02688035\n",
      "  1.28519899  1.31829695]\n"
     ]
    },
    {
     "name": "stderr",
     "output_type": "stream",
     "text": [
      "/home/erichschulman/anaconda3/lib/python3.9/site-packages/statsmodels/base/model.py:547: HessianInversionWarning: Inverting hessian failed, no bse or cov_params available\n",
      "  warnings.warn('Inverting hessian failed, no bse or cov_params '\n",
      "/home/erichschulman/anaconda3/lib/python3.9/site-packages/statsmodels/base/model.py:566: ConvergenceWarning: Maximum Likelihood optimization failed to converge. Check mle_retvals\n",
      "  warnings.warn(\"Maximum Likelihood optimization failed to \"\n"
     ]
    },
    {
     "name": "stdout",
     "output_type": "stream",
     "text": [
      "Optimization terminated successfully.\n",
      "         Current function value: 0.525555\n",
      "         Iterations 6\n",
      "Optimization terminated successfully.\n",
      "         Current function value: 0.522770\n",
      "         Iterations 6\n",
      "[-0.91542172  0.83363423 -0.06999424 -0.76926613  0.62122087  0.02688035\n",
      "  1.28519899  1.31829695]\n"
     ]
    },
    {
     "name": "stderr",
     "output_type": "stream",
     "text": [
      "/home/erichschulman/anaconda3/lib/python3.9/site-packages/statsmodels/base/model.py:547: HessianInversionWarning: Inverting hessian failed, no bse or cov_params available\n",
      "  warnings.warn('Inverting hessian failed, no bse or cov_params '\n",
      "/home/erichschulman/anaconda3/lib/python3.9/site-packages/statsmodels/base/model.py:566: ConvergenceWarning: Maximum Likelihood optimization failed to converge. Check mle_retvals\n",
      "  warnings.warn(\"Maximum Likelihood optimization failed to \"\n"
     ]
    },
    {
     "name": "stdout",
     "output_type": "stream",
     "text": [
      "Optimization terminated successfully.\n",
      "         Current function value: 0.525555\n",
      "         Iterations 6\n",
      "Optimization terminated successfully.\n",
      "         Current function value: 0.522770\n",
      "         Iterations 6\n",
      "[-0.91542172  0.83363423 -0.06999424 -0.76926613  0.62122087  0.02688035\n",
      "  1.28519899  1.31829695]\n"
     ]
    },
    {
     "name": "stderr",
     "output_type": "stream",
     "text": [
      "/home/erichschulman/anaconda3/lib/python3.9/site-packages/statsmodels/base/model.py:547: HessianInversionWarning: Inverting hessian failed, no bse or cov_params available\n",
      "  warnings.warn('Inverting hessian failed, no bse or cov_params '\n",
      "/home/erichschulman/anaconda3/lib/python3.9/site-packages/statsmodels/base/model.py:566: ConvergenceWarning: Maximum Likelihood optimization failed to converge. Check mle_retvals\n",
      "  warnings.warn(\"Maximum Likelihood optimization failed to \"\n"
     ]
    },
    {
     "name": "stdout",
     "output_type": "stream",
     "text": [
      "Optimization terminated successfully.\n",
      "         Current function value: 0.525555\n",
      "         Iterations 6\n",
      "Optimization terminated successfully.\n",
      "         Current function value: 0.522770\n",
      "         Iterations 6\n",
      "[-0.91542172  0.83363423 -0.06999424 -0.76926613  0.62122087  0.02688035\n",
      "  1.28519899  1.31829695]\n"
     ]
    },
    {
     "name": "stderr",
     "output_type": "stream",
     "text": [
      "/home/erichschulman/anaconda3/lib/python3.9/site-packages/statsmodels/base/model.py:547: HessianInversionWarning: Inverting hessian failed, no bse or cov_params available\n",
      "  warnings.warn('Inverting hessian failed, no bse or cov_params '\n",
      "/home/erichschulman/anaconda3/lib/python3.9/site-packages/statsmodels/base/model.py:566: ConvergenceWarning: Maximum Likelihood optimization failed to converge. Check mle_retvals\n",
      "  warnings.warn(\"Maximum Likelihood optimization failed to \"\n"
     ]
    },
    {
     "name": "stdout",
     "output_type": "stream",
     "text": [
      "Optimization terminated successfully.\n",
      "         Current function value: 0.525555\n",
      "         Iterations 6\n",
      "Optimization terminated successfully.\n",
      "         Current function value: 0.522770\n",
      "         Iterations 6\n",
      "[-0.91542172  0.83363423 -0.06999424 -0.76926613  0.62122087  0.02688035\n",
      "  1.28519899  1.31829695]\n"
     ]
    },
    {
     "name": "stderr",
     "output_type": "stream",
     "text": [
      "/home/erichschulman/anaconda3/lib/python3.9/site-packages/statsmodels/base/model.py:547: HessianInversionWarning: Inverting hessian failed, no bse or cov_params available\n",
      "  warnings.warn('Inverting hessian failed, no bse or cov_params '\n",
      "/home/erichschulman/anaconda3/lib/python3.9/site-packages/statsmodels/base/model.py:566: ConvergenceWarning: Maximum Likelihood optimization failed to converge. Check mle_retvals\n",
      "  warnings.warn(\"Maximum Likelihood optimization failed to \"\n"
     ]
    },
    {
     "name": "stdout",
     "output_type": "stream",
     "text": [
      "regular: test, llr, omega ----\n",
      "6.448955996262684 96.06088800956829 0.27415679026572204\n",
      "---- \n",
      "Optimization terminated successfully.\n",
      "         Current function value: 0.525555\n",
      "         Iterations 6\n",
      "Optimization terminated successfully.\n",
      "         Current function value: 0.522770\n",
      "         Iterations 6\n",
      "[-0.91542172  0.83363423 -0.06999424 -0.76926613  0.62122087  0.02688035\n",
      "  1.28519899  1.31829695]\n"
     ]
    },
    {
     "name": "stderr",
     "output_type": "stream",
     "text": [
      "/home/erichschulman/anaconda3/lib/python3.9/site-packages/statsmodels/base/model.py:547: HessianInversionWarning: Inverting hessian failed, no bse or cov_params available\n",
      "  warnings.warn('Inverting hessian failed, no bse or cov_params '\n",
      "/home/erichschulman/anaconda3/lib/python3.9/site-packages/statsmodels/base/model.py:566: ConvergenceWarning: Maximum Likelihood optimization failed to converge. Check mle_retvals\n",
      "  warnings.warn(\"Maximum Likelihood optimization failed to \"\n"
     ]
    },
    {
     "name": "stdout",
     "output_type": "stream",
     "text": [
      "Optimization terminated successfully.\n",
      "         Current function value: 0.525555\n",
      "         Iterations 6\n",
      "Optimization terminated successfully.\n",
      "         Current function value: 0.522770\n",
      "         Iterations 6\n",
      "[-0.91542172  0.83363423 -0.06999424 -0.76926613  0.62122087  0.02688035\n",
      "  1.28519899  1.31829695]\n"
     ]
    },
    {
     "name": "stderr",
     "output_type": "stream",
     "text": [
      "/home/erichschulman/anaconda3/lib/python3.9/site-packages/statsmodels/base/model.py:547: HessianInversionWarning: Inverting hessian failed, no bse or cov_params available\n",
      "  warnings.warn('Inverting hessian failed, no bse or cov_params '\n",
      "/home/erichschulman/anaconda3/lib/python3.9/site-packages/statsmodels/base/model.py:566: ConvergenceWarning: Maximum Likelihood optimization failed to converge. Check mle_retvals\n",
      "  warnings.warn(\"Maximum Likelihood optimization failed to \"\n"
     ]
    },
    {
     "name": "stdout",
     "output_type": "stream",
     "text": [
      "Optimization terminated successfully.\n",
      "         Current function value: 0.525555\n",
      "         Iterations 6\n",
      "Optimization terminated successfully.\n",
      "         Current function value: 0.522770\n",
      "         Iterations 6\n",
      "[-0.91542172  0.83363423 -0.06999424 -0.76926613  0.62122087  0.02688035\n",
      "  1.28519899  1.31829695]\n"
     ]
    },
    {
     "name": "stderr",
     "output_type": "stream",
     "text": [
      "/home/erichschulman/anaconda3/lib/python3.9/site-packages/statsmodels/base/model.py:547: HessianInversionWarning: Inverting hessian failed, no bse or cov_params available\n",
      "  warnings.warn('Inverting hessian failed, no bse or cov_params '\n",
      "/home/erichschulman/anaconda3/lib/python3.9/site-packages/statsmodels/base/model.py:566: ConvergenceWarning: Maximum Likelihood optimization failed to converge. Check mle_retvals\n",
      "  warnings.warn(\"Maximum Likelihood optimization failed to \"\n"
     ]
    },
    {
     "name": "stdout",
     "output_type": "stream",
     "text": [
      "Optimization terminated successfully.\n",
      "         Current function value: 0.525555\n",
      "         Iterations 6\n",
      "Optimization terminated successfully.\n",
      "         Current function value: 0.522770\n",
      "         Iterations 6\n",
      "[-0.91542172  0.83363423 -0.06999424 -0.76926613  0.62122087  0.02688035\n",
      "  1.28519899  1.31829695]\n"
     ]
    },
    {
     "name": "stderr",
     "output_type": "stream",
     "text": [
      "/home/erichschulman/anaconda3/lib/python3.9/site-packages/statsmodels/base/model.py:547: HessianInversionWarning: Inverting hessian failed, no bse or cov_params available\n",
      "  warnings.warn('Inverting hessian failed, no bse or cov_params '\n",
      "/home/erichschulman/anaconda3/lib/python3.9/site-packages/statsmodels/base/model.py:566: ConvergenceWarning: Maximum Likelihood optimization failed to converge. Check mle_retvals\n",
      "  warnings.warn(\"Maximum Likelihood optimization failed to \"\n"
     ]
    },
    {
     "name": "stdout",
     "output_type": "stream",
     "text": [
      "Optimization terminated successfully.\n",
      "         Current function value: 0.525555\n",
      "         Iterations 6\n",
      "Optimization terminated successfully.\n",
      "         Current function value: 0.522770\n",
      "         Iterations 6\n",
      "[-0.91542172  0.83363423 -0.06999424 -0.76926613  0.62122087  0.02688035\n",
      "  1.28519899  1.31829695]\n"
     ]
    },
    {
     "name": "stderr",
     "output_type": "stream",
     "text": [
      "/home/erichschulman/anaconda3/lib/python3.9/site-packages/statsmodels/base/model.py:547: HessianInversionWarning: Inverting hessian failed, no bse or cov_params available\n",
      "  warnings.warn('Inverting hessian failed, no bse or cov_params '\n",
      "/home/erichschulman/anaconda3/lib/python3.9/site-packages/statsmodels/base/model.py:566: ConvergenceWarning: Maximum Likelihood optimization failed to converge. Check mle_retvals\n",
      "  warnings.warn(\"Maximum Likelihood optimization failed to \"\n"
     ]
    },
    {
     "name": "stdout",
     "output_type": "stream",
     "text": [
      "Optimization terminated successfully.\n",
      "         Current function value: 0.525555\n",
      "         Iterations 6\n",
      "Optimization terminated successfully.\n",
      "         Current function value: 0.522770\n",
      "         Iterations 6\n",
      "[-0.91542172  0.83363423 -0.06999424 -0.76926613  0.62122087  0.02688035\n",
      "  1.28519899  1.31829695]\n"
     ]
    },
    {
     "name": "stderr",
     "output_type": "stream",
     "text": [
      "/home/erichschulman/anaconda3/lib/python3.9/site-packages/statsmodels/base/model.py:547: HessianInversionWarning: Inverting hessian failed, no bse or cov_params available\n",
      "  warnings.warn('Inverting hessian failed, no bse or cov_params '\n",
      "/home/erichschulman/anaconda3/lib/python3.9/site-packages/statsmodels/base/model.py:566: ConvergenceWarning: Maximum Likelihood optimization failed to converge. Check mle_retvals\n",
      "  warnings.warn(\"Maximum Likelihood optimization failed to \"\n"
     ]
    },
    {
     "name": "stdout",
     "output_type": "stream",
     "text": [
      "\\begin{center}\n",
      "\\begin{tabular}{ccccc}\n",
      "\\toprule\n",
      "\\textbf{Version} & \\textbf{Result} & \\textbf{90 \\% CI} & \\textbf{95 \\% CI} & \\textbf{99 \\% CI} \\\\ \\midrule\n",
      "Shi (2015) & H1 & [4.414, 8.516] & [3.667, 9.263] & [2.068, 10.863] \\\\\n",
      "Classical & H1 & [4.804, 8.094] & [4.490, 8.408] & [3.873, 9.025] \\\\\n",
      "Bootstrap & H1 & [5.088, 7.800] & [4.984, 8.601] & [4.209, 8.035] \\\\\n",
      "\\bottomrule\n",
      "\\end{tabular}\n",
      "\\end{center}\n",
      "None\n"
     ]
    }
   ],
   "source": [
    "print(selection_tests.test_table(y,x,selection_tests.setup_test))"
   ]
  },
  {
   "cell_type": "code",
   "execution_count": null,
   "metadata": {},
   "outputs": [],
   "source": []
  },
  {
   "cell_type": "code",
   "execution_count": null,
   "metadata": {},
   "outputs": [],
   "source": []
  },
  {
   "cell_type": "code",
   "execution_count": null,
   "metadata": {},
   "outputs": [],
   "source": []
  }
 ],
 "metadata": {
  "kernelspec": {
   "display_name": "Python 3 (ipykernel)",
   "language": "python",
   "name": "python3"
  },
  "language_info": {
   "codemirror_mode": {
    "name": "ipython",
    "version": 3
   },
   "file_extension": ".py",
   "mimetype": "text/x-python",
   "name": "python",
   "nbconvert_exporter": "python",
   "pygments_lexer": "ipython3",
   "version": "3.9.7"
  }
 },
 "nbformat": 4,
 "nbformat_minor": 4
}
