{
 "cells": [
  {
   "cell_type": "code",
   "execution_count": 1,
   "metadata": {},
   "outputs": [],
   "source": [
    "# Import libraries\n",
    "import pandas as pd\n",
    "import numpy as np\n",
    "from geopy.geocoders import Nominatim\n",
    "import geopy.distance\n",
    "from geopy.distance import geodesic"
   ]
  },
  {
   "cell_type": "code",
   "execution_count": 2,
   "metadata": {},
   "outputs": [],
   "source": [
    "# Read csv files\n",
    "warehouse_csv = pd.read_csv('distr.csv')\n",
    "entry_loc_csv = pd.read_csv('entry_loc.csv')"
   ]
  },
  {
   "cell_type": "code",
   "execution_count": 3,
   "metadata": {},
   "outputs": [],
   "source": [
    "# Set up geolocator\n",
    "geolocator = Nominatim(user_agent=\"user\",timeout=10)"
   ]
  },
  {
   "cell_type": "code",
   "execution_count": 4,
   "metadata": {},
   "outputs": [],
   "source": [
    "warehouse_loc = warehouse_csv.copy()\n",
    "warehouse_loc['lat'] = np.nan\n",
    "warehouse_loc['lon'] = np.nan\n",
    "\n",
    "# Find coordinates for warehouses\n",
    "for index, row in warehouse_loc.iterrows():\n",
    "    location_results = geolocator.geocode(row['city']+', '+row['state'], exactly_one=False)\n",
    "    if location_results is not None:\n",
    "        row['lat'] = location_results[0][1][0]\n",
    "        row['lon'] = location_results[0][1][1]\n",
    "    warehouse_loc.loc[index] = row\n",
    "      \n",
    "warehouse_loc.to_csv('warehouse_loc.csv')"
   ]
  },
  {
   "cell_type": "code",
   "execution_count": 5,
   "metadata": {},
   "outputs": [],
   "source": [
    "# Drop NaN observations\n",
    "entry_loc_csv = entry_loc_csv.dropna(subset=['lat', 'lon'])\n",
    "\n",
    "# Create a tuple for the coordinates\n",
    "warehouse_loc['lat_long'] = warehouse_loc[['lat', 'lon']].apply(tuple, axis=1)\n",
    "entry_loc_csv['lat_long'] = entry_loc_csv[['lat', 'lon']].apply(tuple, axis=1)"
   ]
  },
  {
   "cell_type": "code",
   "execution_count": 6,
   "metadata": {},
   "outputs": [],
   "source": [
    "entry_loc_csv1 = entry_loc_csv.copy()\n",
    "\n",
    "# Find difference between warehouses and markets\n",
    "for i, row1 in warehouse_loc.iterrows(): \n",
    "    distances = []\n",
    "    col_name = str(row1['store']) + \" - \" + str(row1['city'])\n",
    "    for j, row2 in entry_loc_csv1.iterrows():\n",
    "        distances.append(geopy.distance.geodesic(row2['lat_long'], row1['lat_long']).km)\n",
    "    entry_loc_csv1[col_name] = distances\n",
    "    distances.clear()"
   ]
  },
  {
   "cell_type": "code",
   "execution_count": 7,
   "metadata": {},
   "outputs": [],
   "source": [
    "# Find minimum distance between each store and all warehouses\n",
    "LOW_cols = entry_loc_csv1.columns[entry_loc_csv1.columns.str.contains('LOW - ')]\n",
    "entry_loc_csv1['low warehouse distance'] = entry_loc_csv1[LOW_cols].min(axis=1)\n",
    "\n",
    "HD_cols = entry_loc_csv1.columns[entry_loc_csv1.columns.str.contains('HD - ')]\n",
    "entry_loc_csv1['hd warehouse distance'] = entry_loc_csv1[HD_cols].min(axis=1)"
   ]
  },
  {
   "cell_type": "code",
   "execution_count": 8,
   "metadata": {},
   "outputs": [],
   "source": [
    "entry_loc_csv1.to_csv('entry_loc2.csv')"
   ]
  },
  {
   "cell_type": "code",
   "execution_count": null,
   "metadata": {},
   "outputs": [],
   "source": []
  }
 ],
 "metadata": {
  "kernelspec": {
   "display_name": "Python 3",
   "language": "python",
   "name": "python3"
  },
  "language_info": {
   "codemirror_mode": {
    "name": "ipython",
    "version": 3
   },
   "file_extension": ".py",
   "mimetype": "text/x-python",
   "name": "python",
   "nbconvert_exporter": "python",
   "pygments_lexer": "ipython3",
   "version": "3.7.4"
  }
 },
 "nbformat": 4,
 "nbformat_minor": 4
}
