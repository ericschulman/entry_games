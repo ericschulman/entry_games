{
 "cells": [
  {
   "cell_type": "code",
   "execution_count": 1,
   "metadata": {},
   "outputs": [],
   "source": [
    "#get the lat lon of HD/Lowes HQ? maybe hardcode?\n",
    "#LOW Mooresville, NC 35.5859° N, 80.8081° W\n",
    "#HD Altanta GA 33.7490° N, 84.3880° W\n",
    "import pandas as pd\n",
    "import numpy as np\n",
    "from geopy.geocoders import Nominatim\n",
    "import geopy.distance"
   ]
  },
  {
   "cell_type": "code",
   "execution_count": 2,
   "metadata": {},
   "outputs": [],
   "source": [
    "entry_data = pd.read_csv(\"entry.csv\",sep='\\t')\n",
    "states = pd.read_csv('states.csv')\n",
    "states = states.rename(columns={'STATE':'state'})\n",
    "entry_data = entry_data.merge(states,on='state')"
   ]
  },
  {
   "cell_type": "code",
   "execution_count": 3,
   "metadata": {},
   "outputs": [],
   "source": [
    "#set up geolocator\n",
    "geolocator = Nominatim(user_agent=\"user\",timeout=10)\n",
    "low_loc = geolocator.geocode('Mooresville, NC', exactly_one=False)[0][1]\n",
    "hd_loc = geolocator.geocode('Atlanta, GA', exactly_one=False)[0][1]"
   ]
  },
  {
   "cell_type": "code",
   "execution_count": 4,
   "metadata": {},
   "outputs": [],
   "source": [
    "def lat_lon_dist( coord1 , coord2 ):\n",
    "    lat1,lon1 = coord1\n",
    "    lat2,lon2 = coord2\n",
    "    R = 6373.0\n",
    "\n",
    "    dlon = lon2 - lon1\n",
    "    dlat = lat2 - lat1\n",
    "\n",
    "    a = sin(dlat / 2)**2 + cos(lat1) * cos(lat2) * sin(dlon / 2)**2\n",
    "    c = 2 * atan2(sqrt(a), sqrt(1 - a))\n",
    "\n",
    "    return R * c\n",
    "\n",
    "entry_data_loc = entry_data.copy()\n",
    "entry_data_loc['lat'] = np.nan\n",
    "entry_data_loc['lon'] = np.nan\n",
    "entry_data_loc['low_dist'] = np.nan\n",
    "entry_data_loc['hd_dist'] = np.nan\n",
    "\n",
    "\n",
    "for index, row in entry_data_loc.iterrows():\n",
    "    location_results = geolocator.geocode(row['city']+', '+row['STUSAB'], exactly_one=False)\n",
    "    if location_results is not None:\n",
    "        row['lat'] = location_results[0][1][0]\n",
    "        row['lon'] = location_results[0][1][1]\n",
    "        row['low_dist'] = geopy.distance.geodesic(location_results[0][1], low_loc).km\n",
    "        row['hd_dist'] = geopy.distance.geodesic(location_results[0][1], hd_loc).km\n",
    "    entry_data_loc.loc[index] = row\n",
    "    \n",
    "entry_data_loc.to_csv('entry_loc.csv')"
   ]
  },
  {
   "cell_type": "code",
   "execution_count": null,
   "metadata": {},
   "outputs": [],
   "source": []
  },
  {
   "cell_type": "code",
   "execution_count": null,
   "metadata": {},
   "outputs": [],
   "source": []
  }
 ],
 "metadata": {
  "kernelspec": {
   "display_name": "Python 3",
   "language": "python",
   "name": "python3"
  },
  "language_info": {
   "codemirror_mode": {
    "name": "ipython",
    "version": 3
   },
   "file_extension": ".py",
   "mimetype": "text/x-python",
   "name": "python",
   "nbconvert_exporter": "python",
   "pygments_lexer": "ipython3",
   "version": "3.7.4"
  }
 },
 "nbformat": 4,
 "nbformat_minor": 2
}
