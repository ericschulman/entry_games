{
 "cells": [
  {
   "cell_type": "code",
   "execution_count": 87,
   "metadata": {},
   "outputs": [],
   "source": [
    "#get the lat lon of HD/Lowes HQ? maybe hardcode?\n",
    "#LOW Mooresville, NC 35.5859° N, 80.8081° W\n",
    "#HD Altanta GA 33.7490° N, 84.3880° W\n",
    "import pandas as pd\n",
    "import numpy as np\n",
    "from geopy.geocoders import Nominatim\n",
    "import geopy.distance"
   ]
  },
  {
   "cell_type": "code",
   "execution_count": 88,
   "metadata": {},
   "outputs": [],
   "source": [
    "entry_data = pd.read_csv(\"entry.csv\",sep='\\t')\n",
    "states = pd.read_csv('states.csv')\n",
    "states = states.rename(columns={'STATE':'state'})\n",
    "entry_data = entry_data.merge(states,on='state')"
   ]
  },
  {
   "cell_type": "code",
   "execution_count": 89,
   "metadata": {},
   "outputs": [],
   "source": [
    "#set up geolocator\n",
    "geolocator = Nominatim(user_agent=\"user\",timeout=10)\n",
    "low_loc = geolocator.geocode('Mooresville, NC', exactly_one=False)[0][1]\n",
    "hd_loc = geolocator.geocode('Atlanta, GA', exactly_one=False)[0][1]"
   ]
  },
  {
   "cell_type": "code",
   "execution_count": 92,
   "metadata": {},
   "outputs": [
    {
     "name": "stdout",
     "output_type": "stream",
     "text": [
      "                      city  state  HD  LOW  population  income_per_capita  \\\n",
      "0        Aullville village     29   0    0         106              18648   \n",
      "1            Gibbs village     29   0    0         107              13140   \n",
      "2        West Line village     29   0    0         107              27050   \n",
      "3             De Witt city     29   0    0         108              15269   \n",
      "4      Arrow Point village     29   0    0         111              34155   \n",
      "...                    ...    ...  ..  ...         ...                ...   \n",
      "26927  South Portland city     23   2    1       25515              36385   \n",
      "26928          Bangor city     23   1    1       32098              28769   \n",
      "26929        Lewiston city     23   0    0       36097              24541   \n",
      "26930        Portland city     23   0    0       66735              34877   \n",
      "26931      Washington city     11   1    0      684498              53321   \n",
      "\n",
      "       under44_1  under44_2  under44_3  older65_1  older_65_2 STUSAB  \\\n",
      "0           11.0       27.0       13.0        6.0         1.0     MO   \n",
      "1           14.0        6.0       15.0       10.0         3.0     MO   \n",
      "2           17.0        5.0       19.0        8.0         0.0     MO   \n",
      "3            5.0       11.0       23.0       14.0         8.0     MO   \n",
      "4            0.0       12.0        5.0       25.0         9.0     MO   \n",
      "...          ...        ...        ...        ...         ...    ...   \n",
      "26927     2835.0     3232.0     3291.0     2502.0      1661.0     ME   \n",
      "26928     3758.0     5820.0     3516.0     2518.0      2757.0     ME   \n",
      "26929     4555.0     4515.0     3913.0     3294.0      3259.0     ME   \n",
      "26930     6588.0    14510.0     8914.0     5096.0      4126.0     ME   \n",
      "26931    75780.0   159716.0    99176.0    46920.0     34792.0     DC   \n",
      "\n",
      "                 STATE_NAME  STATENS        lat        lon     low_dist  \\\n",
      "0                  Missouri  1779791  39.017975 -93.677779  1201.501432   \n",
      "1                  Missouri  1779791        NaN        NaN          NaN   \n",
      "2                  Missouri  1779791        NaN        NaN          NaN   \n",
      "3                  Missouri  1779791        NaN        NaN          NaN   \n",
      "4                  Missouri  1779791        NaN        NaN          NaN   \n",
      "...                     ...      ...        ...        ...          ...   \n",
      "26927                 Maine  1779787        NaN        NaN          NaN   \n",
      "26928                 Maine  1779787        NaN        NaN          NaN   \n",
      "26929                 Maine  1779787        NaN        NaN          NaN   \n",
      "26930                 Maine  1779787        NaN        NaN          NaN   \n",
      "26931  District of Columbia  1702382        NaN        NaN          NaN   \n",
      "\n",
      "           hd_dist  \n",
      "0      1010.837575  \n",
      "1              NaN  \n",
      "2              NaN  \n",
      "3              NaN  \n",
      "4              NaN  \n",
      "...            ...  \n",
      "26927          NaN  \n",
      "26928          NaN  \n",
      "26929          NaN  \n",
      "26930          NaN  \n",
      "26931          NaN  \n",
      "\n",
      "[26932 rows x 18 columns]\n"
     ]
    }
   ],
   "source": [
    "def lat_lon_dist( coord1 , coord2 ):\n",
    "    lat1,lon1 = coord1\n",
    "    lat2,lon2 = coord2\n",
    "    R = 6373.0\n",
    "\n",
    "    dlon = lon2 - lon1\n",
    "    dlat = lat2 - lat1\n",
    "\n",
    "    a = sin(dlat / 2)**2 + cos(lat1) * cos(lat2) * sin(dlon / 2)**2\n",
    "    c = 2 * atan2(sqrt(a), sqrt(1 - a))\n",
    "\n",
    "    return R * c\n",
    "\n",
    "entry_data_loc = entry_data.copy()\n",
    "entry_data_loc['lat'] = np.nan\n",
    "entry_data_loc['lon'] = np.nan\n",
    "entry_data_loc['low_dist'] = np.nan\n",
    "entry_data_loc['hd_dist'] = np.nan\n",
    "\n",
    "\n",
    "for index, row in entry_data_loc.iterrows():\n",
    "    location_results = geolocator.geocode(row['city']+', '+row['STUSAB'], exactly_one=False)\n",
    "    row['lat'] = location_results[0][1][0]\n",
    "    row['lon'] = location_results[0][1][1]\n",
    "    row['low_dist'] = geopy.distance.geodesic(location_results[0][1], low_loc).km\n",
    "    row['hd_dist'] = geopy.distance.geodesic(location_results[0][1], hd_loc).km\n",
    "    entry_data_loc.loc[index] = row\n",
    "    break\n",
    "\n",
    "print(entry_data_loc)"
   ]
  },
  {
   "cell_type": "code",
   "execution_count": null,
   "metadata": {},
   "outputs": [],
   "source": []
  },
  {
   "cell_type": "code",
   "execution_count": null,
   "metadata": {},
   "outputs": [],
   "source": []
  }
 ],
 "metadata": {
  "kernelspec": {
   "display_name": "Python 3",
   "language": "python",
   "name": "python3"
  },
  "language_info": {
   "codemirror_mode": {
    "name": "ipython",
    "version": 3
   },
   "file_extension": ".py",
   "mimetype": "text/x-python",
   "name": "python",
   "nbconvert_exporter": "python",
   "pygments_lexer": "ipython3",
   "version": "3.7.4"
  }
 },
 "nbformat": 4,
 "nbformat_minor": 2
}
