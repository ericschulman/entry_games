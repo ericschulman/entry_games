{
 "cells": [
  {
   "cell_type": "code",
   "execution_count": 1,
   "metadata": {},
   "outputs": [],
   "source": [
    "import numpy as np\n",
    "import pandas as pd\n",
    "import matplotlib.pyplot as plt\n",
    "import statsmodels.api as sm\n",
    "from statsmodels.base.model import GenericLikelihoodModel"
   ]
  },
  {
   "cell_type": "code",
   "execution_count": 2,
   "metadata": {},
   "outputs": [
    {
     "name": "stdout",
     "output_type": "stream",
     "text": [
      "[[1.02249148e-01 7.38074615e-01 4.30174902e-01 ... 1.30472685e-02\n",
      "  4.16400966e-01 8.38399679e-02]\n",
      " [9.99994521e-01 9.83880884e-01 2.77281082e-01 ... 9.48701080e-02\n",
      "  1.99204050e-05 7.01310296e-01]]\n"
     ]
    }
   ],
   "source": [
    "def contraction(params,x,p):\n",
    "    #beta and x are kind of parameters. x is the empirical distribution of x?\n",
    "    k = int(x.shape[1]/2)\n",
    "    util1 = np.dot(x[:,0:k], params[0:k])  + params[k]*p[0]\n",
    "    util2 = np.dot(x[:,k:], params[k+1:2*k+1]) + params[2*k+1]*p[1]\n",
    "    contr_result = [np.exp(util1)/(1+np.exp(util1)),np.exp(util2)/(1+np.exp(util2))]\n",
    "    return np.array(contr_result)\n",
    "\n",
    "#actually caclualte an equilibrium in this game\n",
    "N=1000\n",
    "ps = np.array([.5,.5])\n",
    "betas = np.array([1,-2, 2,-1])\n",
    "\n",
    "#set up xs\n",
    "xs = np.random.normal(scale=2, size=(N,2)) #assumes xs are independent? could use a copula?\n",
    "xs = pd.DataFrame(xs,columns = ['x11','x12'])\n",
    "xs = np.array(xs)\n",
    "\n",
    "print(contraction(betas,xs,ps))"
   ]
  },
  {
   "cell_type": "code",
   "execution_count": 3,
   "metadata": {},
   "outputs": [
    {
     "name": "stdout",
     "output_type": "stream",
     "text": [
      "[0.36417055 0.47246493]\n",
      "[0.366 0.481]\n"
     ]
    }
   ],
   "source": [
    "def contraction_map(betas,x,p):\n",
    "    \"\"\"final result is beliefs of firm1/firm2\"\"\"\n",
    "    for i in range(50):\n",
    "        #print('b1: %.4f, p2: %.4f'%tuple(p))\n",
    "        p = contraction(betas,x,p).mean(axis=1)\n",
    "        p = np.flip(p)\n",
    "        #print('p1: %.4f, p2: %.4f'%tuple(p))\n",
    "        #print('----- end of iteration %s ----'%i)\n",
    "    return p\n",
    "\n",
    "result_ps = contraction_map(betas,xs,ps)\n",
    "us = np.random.logistic(size=(1000,2))\n",
    "\n",
    "k = int(xs.shape[1]/2)\n",
    "es = np.random.logistic(0, 1, (2,N) )\n",
    "y1 = 1*(np.dot(xs[:,0:k], betas[0:k])  + betas[k]*result_ps[0] + es[0,:] >= 0)\n",
    "y2 = 1*(np.dot(xs[:,k:], betas[k+1:2*k+1]) + betas[2*k+1]*result_ps[1] + es[1,:] >= 0)\n",
    "ys = np.array([y1,y2]).transpose()\n",
    "print(np.flip(result_ps))\n",
    "print(ys.mean(axis=0))"
   ]
  },
  {
   "cell_type": "code",
   "execution_count": 4,
   "metadata": {},
   "outputs": [
    {
     "name": "stdout",
     "output_type": "stream",
     "text": [
      "      y1   y2       x11       x12\n",
      "0    1.0  1.0 -1.172480  6.307312\n",
      "1    0.0  1.0  2.035985  2.305749\n",
      "2    1.0  0.0  0.718862 -0.228994\n",
      "3    0.0  1.0 -4.292273  0.342973\n",
      "4    0.0  1.0  0.791628  2.960968\n",
      "..   ...  ...       ...       ...\n",
      "995  0.0  1.0  0.272040  0.915798\n",
      "996  0.0  1.0 -2.132422  0.478582\n",
      "997  0.0  0.0 -3.326043 -0.877785\n",
      "998  0.0  0.0  0.662434 -5.161873\n",
      "999  1.0  1.0 -1.391281  0.676773\n",
      "\n",
      "[1000 rows x 4 columns]\n"
     ]
    }
   ],
   "source": [
    "result_df = np.concatenate( (ys,xs ) ,axis=1)\n",
    "result_df = pd.DataFrame(result_df, columns=['y1','y2','x11','x12'])\n",
    "print(result_df)\n",
    "result_df.to_csv('monte_carlo.csv')"
   ]
  },
  {
   "cell_type": "code",
   "execution_count": 15,
   "metadata": {},
   "outputs": [
    {
     "name": "stdout",
     "output_type": "stream",
     "text": [
      "(1000, 2)\n",
      "Optimization terminated successfully.\n",
      "         Current function value: 0.736559\n",
      "         Iterations: 239\n",
      "         Function evaluations: 475\n",
      "                            BayesNashLogit Results                            \n",
      "==============================================================================\n",
      "Dep. Variable:           ['y1', 'y2']   Log-Likelihood:                -736.56\n",
      "Model:                 BayesNashLogit   AIC:                             1477.\n",
      "Method:            Maximum Likelihood   BIC:                             1487.\n",
      "Date:                Fri, 30 Apr 2021                                         \n",
      "Time:                        13:14:51                                         \n",
      "No. Observations:                1000                                         \n",
      "Df Residuals:                     998                                         \n",
      "Df Model:                           1                                         \n",
      "==============================================================================\n",
      "                 coef    std err          z      P>|z|      [0.025      0.975]\n",
      "------------------------------------------------------------------------------\n",
      "b11            1.0448      0.068     15.402      0.000       0.912       1.178\n",
      "d1            -1.9917      0.201     -9.911      0.000      -2.386      -1.598\n",
      "b12            1.7904      0.116     15.409      0.000       1.563       2.018\n",
      "d2            -0.6780      0.276     -2.453      0.014      -1.220      -0.136\n",
      "==============================================================================\n"
     ]
    }
   ],
   "source": [
    "class BayesNashLogit(GenericLikelihoodModel):\n",
    "    \n",
    "    def nloglikeobs(self, params):\n",
    "        n = self.exog.shape[0]\n",
    "        k = int(self.exog.shape[1]/2)\n",
    "        \n",
    "        p = self.endog.mean(axis=0)\n",
    "        p = contraction_map(params,self.exog,p)\n",
    "        \n",
    "        likelihood = contraction(params,self.exog,p).transpose()\n",
    "        ll = self.endog*np.log(likelihood) + (1-self.endog)*np.log(1-likelihood)\n",
    "        return -1*ll.sum(axis=1)\n",
    "        \n",
    "        \n",
    "    \n",
    "    def fit(self, **kwds):\n",
    "        \"\"\"fit the likelihood function using the right start parameters\"\"\"\n",
    "        start_params = np.ones(self.exog.shape[1]+2)\n",
    "        return super(BayesNashLogit, self).fit(start_params=start_params,**kwds)\n",
    "\n",
    "        \n",
    "        \n",
    "N = result_df.shape[0]\n",
    "ys = result_df[['y1','y2']]\n",
    "xs = result_df[['x11' ,'x12']]\n",
    "print(xs.shape)\n",
    "\n",
    "model = BayesNashLogit(ys,xs)\n",
    "model.loglikeobs(np.ones(xs.shape[1]+2))\n",
    "model_fit = model.fit(xtol=1e-12,ftol=1e-12)\n",
    "print(model_fit.summary(xname=[\"b11\",\"d1\",\"b12\",\"d2\"]))\n"
   ]
  },
  {
   "cell_type": "code",
   "execution_count": null,
   "metadata": {},
   "outputs": [],
   "source": [
    "#attempt at standard errors...\n",
    "H = np.linalg.inv(model.hessian(model_fit.params)/N)\n",
    "diag = np.diagonal(np.linalg.inv(model.hessian(model_fit.params)))\n",
    "print(np.sqrt(-1*diag))"
   ]
  },
  {
   "cell_type": "code",
   "execution_count": null,
   "metadata": {},
   "outputs": [],
   "source": [
    "# Modify the variables\n",
    "entry_data = pd.read_csv(\"merged_entry.csv\")\n",
    "entry_data.loc[entry_data['HD'] > 0.0, 'HD_1'] = 1\n",
    "entry_data.loc[entry_data['LO'] > 0.0, 'LO_1'] = 1\n",
    "entry_data['income_2'] = np.log(1 + entry_data['income_per_capita'])\n",
    "entry_data['population_2'] = np.log(1 + entry_data['population'])\n",
    "entry_data['under44_1_2'] = np.log(1 + entry_data['under44_1'])\n",
    "entry_data['under44_2_2'] = np.log(1 + entry_data['under44_2'])\n",
    "entry_data['under44_3_2'] = np.log(1 + entry_data['under44_3'])\n",
    "entry_data['older65_1_2'] = np.log(1 + entry_data['older65_1'])\n",
    "entry_data['older65_2_2'] = np.log(1 + entry_data['older_65_2'])\n",
    "entry_data = entry_data.fillna(0)"
   ]
  },
  {
   "cell_type": "code",
   "execution_count": 11,
   "metadata": {},
   "outputs": [
    {
     "name": "stdout",
     "output_type": "stream",
     "text": [
      "Warning: Maximum number of iterations has been exceeded.\n"
     ]
    },
    {
     "name": "stderr",
     "output_type": "stream",
     "text": [
      "C:\\Users\\himan\\anaconda3\\lib\\site-packages\\statsmodels\\base\\model.py:567: ConvergenceWarning: Maximum Likelihood optimization failed to converge. Check mle_retvals\n",
      "  warn(\"Maximum Likelihood optimization failed to converge. \"\n"
     ]
    },
    {
     "data": {
      "text/html": [
       "<table class=\"simpletable\">\n",
       "<caption>BayesNashLogit Results</caption>\n",
       "<tr>\n",
       "  <th>Dep. Variable:</th>     <td>['HD_1', 'LO_1']</td>  <th>  Log-Likelihood:    </th> <td> -2730.7</td>\n",
       "</tr>\n",
       "<tr>\n",
       "  <th>Model:</th>              <td>BayesNashLogit</td>   <th>  AIC:               </th> <td>   5465.</td>\n",
       "</tr>\n",
       "<tr>\n",
       "  <th>Method:</th>           <td>Maximum Likelihood</td> <th>  BIC:               </th> <td>   5477.</td>\n",
       "</tr>\n",
       "<tr>\n",
       "  <th>Date:</th>              <td>Mon, 19 Apr 2021</td>  <th>                     </th>     <td> </td>   \n",
       "</tr>\n",
       "<tr>\n",
       "  <th>Time:</th>                  <td>10:09:57</td>      <th>                     </th>     <td> </td>   \n",
       "</tr>\n",
       "<tr>\n",
       "  <th>No. Observations:</th>       <td>  2155</td>       <th>                     </th>     <td> </td>   \n",
       "</tr>\n",
       "<tr>\n",
       "  <th>Df Residuals:</th>           <td>  2153</td>       <th>                     </th>     <td> </td>   \n",
       "</tr>\n",
       "<tr>\n",
       "  <th>Df Model:</th>               <td>     1</td>       <th>                     </th>     <td> </td>   \n",
       "</tr>\n",
       "</table>\n",
       "<table class=\"simpletable\">\n",
       "<tr>\n",
       "        <td></td>          <th>coef</th>     <th>std err</th>      <th>z</th>      <th>P>|z|</th>  <th>[0.025</th>    <th>0.975]</th>  \n",
       "</tr>\n",
       "<tr>\n",
       "  <th>income_2</th>     <td>   -0.2697</td> <td>    0.040</td> <td>   -6.752</td> <td> 0.000</td> <td>   -0.348</td> <td>   -0.191</td>\n",
       "</tr>\n",
       "<tr>\n",
       "  <th>population_2</th> <td>    0.2743</td> <td>    0.038</td> <td>    7.155</td> <td> 0.000</td> <td>    0.199</td> <td>    0.350</td>\n",
       "</tr>\n",
       "<tr>\n",
       "  <th>income_2</th>     <td>    2.1167</td> <td>    0.301</td> <td>    7.033</td> <td> 0.000</td> <td>    1.527</td> <td>    2.707</td>\n",
       "</tr>\n",
       "<tr>\n",
       "  <th>population_2</th> <td>   -0.2629</td> <td>    0.037</td> <td>   -7.144</td> <td> 0.000</td> <td>   -0.335</td> <td>   -0.191</td>\n",
       "</tr>\n",
       "<tr>\n",
       "  <th>par0</th>         <td>    0.1446</td> <td>    0.034</td> <td>    4.286</td> <td> 0.000</td> <td>    0.078</td> <td>    0.211</td>\n",
       "</tr>\n",
       "<tr>\n",
       "  <th>par1</th>         <td>    1.6739</td> <td>    0.220</td> <td>    7.614</td> <td> 0.000</td> <td>    1.243</td> <td>    2.105</td>\n",
       "</tr>\n",
       "</table>"
      ],
      "text/plain": [
       "<class 'statsmodels.iolib.summary.Summary'>\n",
       "\"\"\"\n",
       "                            BayesNashLogit Results                            \n",
       "==============================================================================\n",
       "Dep. Variable:       ['HD_1', 'LO_1']   Log-Likelihood:                -2730.7\n",
       "Model:                 BayesNashLogit   AIC:                             5465.\n",
       "Method:            Maximum Likelihood   BIC:                             5477.\n",
       "Date:                Mon, 19 Apr 2021                                         \n",
       "Time:                        10:09:57                                         \n",
       "No. Observations:                2155                                         \n",
       "Df Residuals:                    2153                                         \n",
       "Df Model:                           1                                         \n",
       "================================================================================\n",
       "                   coef    std err          z      P>|z|      [0.025      0.975]\n",
       "--------------------------------------------------------------------------------\n",
       "income_2        -0.2697      0.040     -6.752      0.000      -0.348      -0.191\n",
       "population_2     0.2743      0.038      7.155      0.000       0.199       0.350\n",
       "income_2         2.1167      0.301      7.033      0.000       1.527       2.707\n",
       "population_2    -0.2629      0.037     -7.144      0.000      -0.335      -0.191\n",
       "par0             0.1446      0.034      4.286      0.000       0.078       0.211\n",
       "par1             1.6739      0.220      7.614      0.000       1.243       2.105\n",
       "================================================================================\n",
       "\"\"\""
      ]
     },
     "execution_count": 11,
     "metadata": {},
     "output_type": "execute_result"
    }
   ],
   "source": [
    "# Fit the model\n",
    "N = entry_data.shape[0]\n",
    "x = entry_data[['income_2','population_2','income_2','population_2']].copy()\n",
    "y = entry_data[['HD_1','LO_1']]\n",
    "\n",
    "model = BayesNashLogit(y,x).fit(xtol=1e-6,ftol=1e-6)\n",
    "model.summary()"
   ]
  },
  {
   "cell_type": "code",
   "execution_count": null,
   "metadata": {},
   "outputs": [],
   "source": []
  }
 ],
 "metadata": {
  "kernelspec": {
   "display_name": "Python 3",
   "language": "python",
   "name": "python3"
  },
  "language_info": {
   "codemirror_mode": {
    "name": "ipython",
    "version": 3
   },
   "file_extension": ".py",
   "mimetype": "text/x-python",
   "name": "python",
   "nbconvert_exporter": "python",
   "pygments_lexer": "ipython3",
   "version": "3.7.4"
  }
 },
 "nbformat": 4,
 "nbformat_minor": 2
}
