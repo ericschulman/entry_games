{
 "cells": [
  {
   "cell_type": "code",
   "execution_count": 1,
   "metadata": {},
   "outputs": [],
   "source": [
    "import numpy as np\n",
    "import pandas as pd\n",
    "import matplotlib.pyplot as plt\n",
    "import statsmodels.api as sm\n",
    "from statsmodels.base.model import GenericLikelihoodModel"
   ]
  },
  {
   "cell_type": "code",
   "execution_count": 2,
   "metadata": {},
   "outputs": [
    {
     "name": "stdout",
     "output_type": "stream",
     "text": [
      "[[0.31853016 0.67224594 0.05784818 ... 0.53149543 0.01986203 0.07804578]\n",
      " [0.79185404 0.99999001 0.0024764  ... 0.90815367 0.0340166  0.86508021]]\n"
     ]
    }
   ],
   "source": [
    "def contraction(params,x,p):\n",
    "    #beta and x are kind of parameters. x is the empirical distribution of x?\n",
    "    k = int(x.shape[1]/2)\n",
    "    util1 = np.dot(x[:,0:k], params[0:k])  + params[k]*p[0]\n",
    "    util2 = np.dot(x[:,k:], params[k+1:2*k+1]) + params[2*k+1]*p[1]\n",
    "    contr_result = [np.exp(util1)/(1+np.exp(util1)),np.exp(util2)/(1+np.exp(util2))]\n",
    "    return np.array(contr_result)\n",
    "\n",
    "#actually caclualte an equilibrium in this game\n",
    "N=1000\n",
    "ps = np.array([.5,.5])\n",
    "betas = np.array([1,-2, 2,-1])\n",
    "\n",
    "#set up xs\n",
    "xs = np.random.normal(scale=2, size=(N,2)) #assumes xs are independent? could use a copula?\n",
    "xs = pd.DataFrame(xs,columns = ['x11','x12'])\n",
    "xs = np.array(xs)\n",
    "\n",
    "print(contraction(betas,xs,ps))"
   ]
  },
  {
   "cell_type": "code",
   "execution_count": 3,
   "metadata": {},
   "outputs": [
    {
     "name": "stdout",
     "output_type": "stream",
     "text": [
      "[0.36783766 0.47134179]\n",
      "[0.352 0.449]\n"
     ]
    }
   ],
   "source": [
    "def contraction_map(betas,x,p):\n",
    "    \"\"\"final result is beliefs of firm1/firm2\"\"\"\n",
    "    for i in range(50):\n",
    "        #print('b1: %.4f, p2: %.4f'%tuple(p))\n",
    "        p = contraction(betas,x,p).mean(axis=1)\n",
    "        p = np.flip(p)\n",
    "        #print('p1: %.4f, p2: %.4f'%tuple(p))\n",
    "        #print('----- end of iteration %s ----'%i)\n",
    "    return p\n",
    "\n",
    "result_ps = contraction_map(betas,xs,ps)\n",
    "us = np.random.logistic(size=(1000,2))\n",
    "\n",
    "k = int(xs.shape[1]/2)\n",
    "es = np.random.logistic(0, 1, (2,N) )\n",
    "y1 = 1*(np.dot(xs[:,0:k], betas[0:k])  + betas[k]*result_ps[0] + es[0,:] >= 0)\n",
    "y2 = 1*(np.dot(xs[:,k:], betas[k+1:2*k+1]) + betas[2*k+1]*result_ps[1] + es[1,:] >= 0)\n",
    "ys = np.array([y1,y2]).transpose()\n",
    "print(np.flip(result_ps))\n",
    "print(ys.mean(axis=0))"
   ]
  },
  {
   "cell_type": "code",
   "execution_count": 4,
   "metadata": {},
   "outputs": [
    {
     "name": "stdout",
     "output_type": "stream",
     "text": [
      "      y1   y2       x11       x12\n",
      "0    0.0  1.0  0.239465  0.918069\n",
      "1    0.0  1.0  1.718361  6.006896\n",
      "2    0.0  0.0 -1.790344 -2.749234\n",
      "3    1.0  1.0  2.403576  0.774506\n",
      "4    1.0  0.0  2.137133 -2.482338\n",
      "..   ...  ...       ...       ...\n",
      "995  0.0  1.0 -0.063944  1.311125\n",
      "996  1.0  0.0 -2.163377 -1.125970\n",
      "997  1.0  1.0  1.126149  1.395648\n",
      "998  0.0  0.0 -2.898883 -1.423149\n",
      "999  0.0  1.0 -1.469200  1.179071\n",
      "\n",
      "[1000 rows x 4 columns]\n"
     ]
    }
   ],
   "source": [
    "result_df = np.concatenate( (ys,xs ) ,axis=1)\n",
    "result_df = pd.DataFrame(result_df, columns=['y1','y2','x11','x12'])\n",
    "print(result_df)\n",
    "result_df.to_csv('monte_carlo.csv')"
   ]
  },
  {
   "cell_type": "code",
   "execution_count": 8,
   "metadata": {},
   "outputs": [
    {
     "name": "stdout",
     "output_type": "stream",
     "text": [
      "Optimization terminated successfully.\n",
      "         Current function value: 0.713641\n",
      "         Iterations: 234\n",
      "         Function evaluations: 475\n",
      "                            BayesNashLogit Results                            \n",
      "==============================================================================\n",
      "Dep. Variable:           ['y1', 'y2']   Log-Likelihood:                -713.64\n",
      "Model:                 BayesNashLogit   AIC:                             1431.\n",
      "Method:            Maximum Likelihood   BIC:                             1441.\n",
      "Date:                Wed, 07 Apr 2021                                         \n",
      "Time:                        15:34:33                                         \n",
      "No. Observations:                1000                                         \n",
      "Df Residuals:                     998                                         \n",
      "Df Model:                           1                                         \n",
      "==============================================================================\n",
      "                 coef    std err          z      P>|z|      [0.025      0.975]\n",
      "------------------------------------------------------------------------------\n",
      "b11            0.9888      0.064     15.403      0.000       0.863       1.115\n",
      "d1            -2.3378      0.218    -10.736      0.000      -2.765      -1.911\n",
      "b12            1.9407      0.127     15.234      0.000       1.691       2.190\n",
      "d2            -1.7255      0.322     -5.353      0.000      -2.357      -1.094\n",
      "==============================================================================\n"
     ]
    }
   ],
   "source": [
    "class BayesNashLogit(GenericLikelihoodModel):\n",
    "    \n",
    "    def nloglikeobs(self, params):\n",
    "        n = self.exog.shape[0]\n",
    "        k = int(self.exog.shape[1]/2)\n",
    "        \n",
    "        p = self.endog.mean(axis=0)\n",
    "        p = contraction_map(params,self.exog,p)\n",
    "        \n",
    "        likelihood = contraction(params,self.exog,p).transpose()\n",
    "        ll = self.endog*np.log(likelihood) + (1-self.endog)*np.log(1-likelihood)\n",
    "        \n",
    "        return -1*ll.sum()\n",
    "        \n",
    "        \n",
    "    \n",
    "    def fit(self, **kwds):\n",
    "        \"\"\"fit the likelihood function using the right start parameters\"\"\"\n",
    "        start_params = np.ones(self.exog.shape[1]+2)\n",
    "        return super(BayesNashLogit, self).fit(start_params=start_params,**kwds)\n",
    "\n",
    "        \n",
    "        \n",
    "N = result_df.shape[0]\n",
    "ys = result_df[['y1','y2']]\n",
    "xs = result_df[['x11' ,'x12']]\n",
    "\n",
    "\n",
    "model = BayesNashLogit(ys,xs)\n",
    "model_fit = model.fit(xtol=1e-12,ftol=1e-12)\n",
    "print(model_fit.summary(xname=[\"b11\",\"d1\",\"b12\",\"d2\"]))"
   ]
  },
  {
   "cell_type": "code",
   "execution_count": 9,
   "metadata": {},
   "outputs": [
    {
     "name": "stdout",
     "output_type": "stream",
     "text": [
      "[0.06419419 0.21774813 0.12739173 0.32234286]\n"
     ]
    }
   ],
   "source": [
    "#attempt at standard errors...\n",
    "H = np.linalg.inv(model.hessian(model_fit.params)/N)\n",
    "diag = np.diagonal(np.linalg.inv(model.hessian(model_fit.params)))\n",
    "print(np.sqrt(-1*diag))"
   ]
  },
  {
   "cell_type": "code",
   "execution_count": null,
   "metadata": {},
   "outputs": [],
   "source": []
  }
 ],
 "metadata": {
  "kernelspec": {
   "display_name": "Python 3",
   "language": "python",
   "name": "python3"
  },
  "language_info": {
   "codemirror_mode": {
    "name": "ipython",
    "version": 3
   },
   "file_extension": ".py",
   "mimetype": "text/x-python",
   "name": "python",
   "nbconvert_exporter": "python",
   "pygments_lexer": "ipython3",
   "version": "3.7.4"
  }
 },
 "nbformat": 4,
 "nbformat_minor": 2
}
