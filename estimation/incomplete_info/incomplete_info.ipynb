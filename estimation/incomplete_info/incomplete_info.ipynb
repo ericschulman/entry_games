{
 "cells": [
  {
   "cell_type": "code",
   "execution_count": 1,
   "metadata": {},
   "outputs": [],
   "source": [
    "import numpy as np\n",
    "import pandas as pd\n",
    "import matplotlib.pyplot as plt"
   ]
  },
  {
   "cell_type": "code",
   "execution_count": 2,
   "metadata": {},
   "outputs": [
    {
     "name": "stdout",
     "output_type": "stream",
     "text": [
      "[0.2414617  0.38156182]\n"
     ]
    }
   ],
   "source": [
    "def contraction(delta,p):\n",
    "    return np.exp(delta*p)/(1+np.exp(delta*p))\n",
    "\n",
    "def contraction_map(delta,p):\n",
    "    \"\"\"final result is beliefs of firm1/firm2\"\"\"\n",
    "    for i in range(20):\n",
    "        #print('b1: %.4f, p2: %.4f'%tuple(p))\n",
    "        p = contraction(delta,p)\n",
    "        p = np.flip(p)\n",
    "    return p\n",
    "        #print('p1: %.4f, p2: %.4f'%tuple(p))\n",
    "        #print('----- end of iteration %s ----'%i)\n",
    "    \n",
    "pr = np.array([1, 0])\n",
    "params =  np.array([-2, -3])\n",
    "result = contraction_map(params,pr)\n",
    "print(result) #"
   ]
  },
  {
   "cell_type": "code",
   "execution_count": 3,
   "metadata": {},
   "outputs": [
    {
     "data": {
      "text/plain": [
       "<matplotlib.legend.Legend at 0x7f8155924040>"
      ]
     },
     "execution_count": 3,
     "metadata": {},
     "output_type": "execute_result"
    },
    {
     "data": {
      "image/png": "[encoded data removed]",
      "text/plain": [
       "<Figure size 432x288 with 1 Axes>"
      ]
     },
     "metadata": {
      "needs_background": "light"
     },
     "output_type": "display_data"
    }
   ],
   "source": [
    "results = []\n",
    "for params_incr in np.arange(0,2,.1):\n",
    "    params_this_iter = params \n",
    "    params_this_iter = params[1] - params_incr\n",
    "    pr = np.array([1, 0])\n",
    "    result = contraction_map(params_this_iter,pr)\n",
    "    results.append(result)\n",
    "    \n",
    "results = np.array(results)\n",
    "    \n",
    "plt.plot(params[1] - np.arange(0,2,.1), results[:,0],label='firm 2' )\n",
    "plt.plot(params[1] - np.arange(0,2,.1), results[:,1],label='firm 1' )\n",
    "plt.legend()"
   ]
  },
  {
   "cell_type": "code",
   "execution_count": 4,
   "metadata": {},
   "outputs": [
    {
     "name": "stdout",
     "output_type": "stream",
     "text": [
      "[0.368 0.325]\n"
     ]
    }
   ],
   "source": [
    "#actually caclualte an equilibrium in this game\n",
    "u = np.random.logistic(size=(1000,2))\n",
    "y = ( (params*result + u) >=0 ).astype(int)\n",
    "print(y.sum(axis=0)/1000)"
   ]
  },
  {
   "cell_type": "code",
   "execution_count": null,
   "metadata": {},
   "outputs": [],
   "source": []
  }
 ],
 "metadata": {
  "kernelspec": {
   "display_name": "Python 3 (ipykernel)",
   "language": "python",
   "name": "python3"
  },
  "language_info": {
   "codemirror_mode": {
    "name": "ipython",
    "version": 3
   },
   "file_extension": ".py",
   "mimetype": "text/x-python",
   "name": "python",
   "nbconvert_exporter": "python",
   "pygments_lexer": "ipython3",
   "version": "3.9.7"
  }
 },
 "nbformat": 4,
 "nbformat_minor": 2
}
