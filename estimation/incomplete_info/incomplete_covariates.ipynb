{
 "cells": [
  {
   "cell_type": "code",
   "execution_count": 34,
   "metadata": {},
   "outputs": [],
   "source": [
    "import numpy as np\n",
    "import pandas as pd\n",
    "import matplotlib.pyplot as plt"
   ]
  },
  {
   "cell_type": "code",
   "execution_count": 35,
   "metadata": {},
   "outputs": [
    {
     "name": "stdout",
     "output_type": "stream",
     "text": [
      "[0.2180611  0.49536045]\n"
     ]
    }
   ],
   "source": [
    "def contraction(delta,p,beta,x):\n",
    "    #beta and x are kind of parameters. x is the empirical distribution of x?\n",
    "    return (np.exp(delta*p+beta*x)/(1+np.exp(delta*p+beta*x))).mean(axis=0)\n",
    "\n",
    "ps = np.array([1, 0])\n",
    "deltas =  np.array([-2, -2])\n",
    "betas = np.array([1, 1])\n",
    "xs = np.random.normal(scale=2, size=(1000,2)) #assumes xs are independent? could use a copula?\n",
    "\n",
    "print(contraction(deltas,ps,betas,xs))"
   ]
  },
  {
   "cell_type": "code",
   "execution_count": 36,
   "metadata": {},
   "outputs": [
    {
     "name": "stdout",
     "output_type": "stream",
     "text": [
      "[0.37954973 0.38507806]\n"
     ]
    }
   ],
   "source": [
    "def contraction_map(delta,p,beta,x):\n",
    "    \"\"\"final result is beliefs of firm1/firm2\"\"\"\n",
    "    for i in range(20):\n",
    "        #print('b1: %.4f, p2: %.4f'%tuple(p))\n",
    "        p = contraction(delta,p,beta,x)\n",
    "        p = np.flip(p)\n",
    "        #print('p1: %.4f, p2: %.4f'%tuple(p))\n",
    "        #print('----- end of iteration %s ----'%i)\n",
    "    return p\n",
    "\n",
    "result = contraction_map(deltas,ps,betas,xs)\n",
    "print(result)"
   ]
  },
  {
   "cell_type": "code",
   "execution_count": 37,
   "metadata": {},
   "outputs": [
    {
     "name": "stdout",
     "output_type": "stream",
     "text": [
      "[0.375 0.412]\n"
     ]
    }
   ],
   "source": [
    "#actually caclualte an equilibrium in this game\n",
    "us = np.random.logistic(size=(1000,2))\n",
    "ys = ( (deltas*result + betas*xs + us) >=0 ).astype(int)\n",
    "print(ys.sum(axis=0)/1000)"
   ]
  },
  {
   "cell_type": "code",
   "execution_count": 38,
   "metadata": {},
   "outputs": [
    {
     "name": "stdout",
     "output_type": "stream",
     "text": [
      "[[ 0.          1.          0.36623034  2.86029817]\n",
      " [ 0.          0.         -0.45379263 -2.15397429]\n",
      " [ 0.          0.         -1.348806    0.85871343]\n",
      " ...\n",
      " [ 0.          0.         -2.58206671  0.88452194]\n",
      " [ 1.          0.          1.05818777 -2.37293872]\n",
      " [ 1.          1.          0.99022009  1.85173192]]\n"
     ]
    }
   ],
   "source": [
    "print(np.concatenate( (ys,xs ) ,axis=1))"
   ]
  },
  {
   "cell_type": "code",
   "execution_count": null,
   "metadata": {},
   "outputs": [],
   "source": []
  }
 ],
 "metadata": {
  "kernelspec": {
   "display_name": "Python 3",
   "language": "python",
   "name": "python3"
  },
  "language_info": {
   "codemirror_mode": {
    "name": "ipython",
    "version": 3
   },
   "file_extension": ".py",
   "mimetype": "text/x-python",
   "name": "python",
   "nbconvert_exporter": "python",
   "pygments_lexer": "ipython3",
   "version": "3.7.4"
  }
 },
 "nbformat": 4,
 "nbformat_minor": 2
}
