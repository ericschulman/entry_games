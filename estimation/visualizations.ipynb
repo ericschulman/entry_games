{
 "cells": [
  {
   "cell_type": "code",
   "execution_count": null,
   "metadata": {},
   "outputs": [],
   "source": [
    "%matplotlib inline\n",
    "import numpy as np\n",
    "import pandas as pd\n",
    "import matplotlib.pyplot as plt\n",
    "import os\n",
    "os.environ['PROJ_LIB'] = '/home/erichschulman/anaconda3/share/proj' #'C:/Users/himan/anaconda3/Library/share/proj'\n",
    "from mpl_toolkits.basemap import Basemap"
   ]
  },
  {
   "cell_type": "code",
   "execution_count": null,
   "metadata": {},
   "outputs": [],
   "source": [
    "entry_loc = pd.read_csv(\"../data/entry_loc2.csv\")\n",
    "\n",
    "#drop outliers for now...\n",
    "print(entry_loc[(entry_loc['HD'] >= 1) | (entry_loc['LOW'] >= 1)][['lat','lon']].max())\n",
    "print(entry_loc[(entry_loc['HD'] >= 1) | (entry_loc['LOW'] >= 1)][['lat','lon']].min())\n",
    "\n",
    "entry_loc = entry_loc[entry_loc['lon'] <= -30]\n",
    "entry_loc = entry_loc[ (entry_loc['lat'] >= 25) & (entry_loc['lat'] <= 50) ]\n",
    "\n",
    "#print(entry_loc)\n",
    "warehouses_loc = pd.read_csv(\"warehouse_loc.csv\")\n"
   ]
  },
  {
   "cell_type": "code",
   "execution_count": null,
   "metadata": {},
   "outputs": [],
   "source": [
    "fig = plt.figure(figsize=(15/8*5.5, 15/8*4))\n",
    "m = Basemap(projection='lcc', resolution=None,\n",
    "            width=5.5E6, height=4E6, \n",
    "            lat_0=37, lon_0=-96,)\n",
    "m.etopo(scale=0.5, alpha=0.5)\n",
    "\n",
    "#BOTH\n",
    "x,y = m( np.array(entry_loc[(entry_loc['HD'] >= 1) & (entry_loc['LOW'] >= 1)]['lon']),\n",
    "        np.array(entry_loc[(entry_loc['HD'] >= 1) & (entry_loc['LOW'] >= 1)]['lat']))\n",
    "plt.scatter(x,y , label='LOW and HD',alpha=.7,color='brown') \n",
    "\n",
    "\n",
    "#ONLY LOW\n",
    "x,y = m( np.array(entry_loc[(entry_loc['LOW'] >= 1) & (entry_loc['HD'] ==0) ]['lon']),\n",
    "        np.array(entry_loc[(entry_loc['LOW'] >= 1) & (entry_loc['HD'] ==0)]['lat']))\n",
    "plt.scatter(x,y , label='LOW',alpha=.7,color='blue') \n",
    "\n",
    "#ONLY HD\n",
    "x,y = m( np.array(entry_loc[(entry_loc['HD'] >= 1) & (entry_loc['LOW'] ==0) ]['lon']),\n",
    "        np.array(entry_loc[(entry_loc['HD'] >= 1) & (entry_loc['LOW'] ==0) ]['lat']))\n",
    "plt.scatter(x,y , label='HD',alpha=.7,color='orange') \n",
    "\n",
    "\n",
    "# LOW WAREHOUSE\n",
    "x,y = m( np.array(warehouses_loc[warehouses_loc['store'] == 'LOW']['lon']),\n",
    "        np.array(warehouses_loc[warehouses_loc['store'] == 'LOW']['lat']))\n",
    "plt.scatter(x,y, label='LOW Warehouse',alpha=1,color='green') \n",
    "\n",
    "\n",
    "#HD WAREHOUSE\n",
    "x,y = m( np.array(warehouses_loc[warehouses_loc['store'] == 'HD']['lon']),\n",
    "        np.array(warehouses_loc[warehouses_loc['store'] == 'HD']['lat']))\n",
    "plt.scatter(x,y , label='HD Warehouse',alpha=1,color='red') \n",
    "\n",
    "\n",
    "#why are there locations in south america?\n",
    "\n",
    "\n",
    "plt.legend()\n",
    "plt.savefig('entry.png',bbox_inches='tight' )\n",
    "plt.show()"
   ]
  },
  {
   "cell_type": "code",
   "execution_count": null,
   "metadata": {},
   "outputs": [],
   "source": []
  },
  {
   "cell_type": "code",
   "execution_count": null,
   "metadata": {},
   "outputs": [],
   "source": []
  },
  {
   "cell_type": "code",
   "execution_count": null,
   "metadata": {},
   "outputs": [],
   "source": []
  }
 ],
 "metadata": {
  "kernelspec": {
   "display_name": "Python 3 (ipykernel)",
   "language": "python",
   "name": "python3"
  },
  "language_info": {
   "codemirror_mode": {
    "name": "ipython",
    "version": 3
   },
   "file_extension": ".py",
   "mimetype": "text/x-python",
   "name": "python",
   "nbconvert_exporter": "python",
   "pygments_lexer": "ipython3",
   "version": "3.9.7"
  }
 },
 "nbformat": 4,
 "nbformat_minor": 4
}
