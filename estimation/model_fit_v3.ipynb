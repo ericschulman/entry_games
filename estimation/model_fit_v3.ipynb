{
 "cells": [
  {
   "cell_type": "code",
   "execution_count": 8,
   "metadata": {},
   "outputs": [
    {
     "name": "stdout",
     "output_type": "stream",
     "text": [
      "The autoreload extension is already loaded. To reload it, use:\n",
      "  %reload_ext autoreload\n"
     ]
    }
   ],
   "source": [
    "%load_ext autoreload\n",
    "%autoreload 2\n",
    "\n",
    "import numpy as np\n",
    "import pandas as pd\n",
    "import datetime\n",
    "#graphing\n",
    "import matplotlib.pyplot as plt\n",
    "#stats\n",
    "import statsmodels.api as sm\n",
    "from statsmodels.base.model import GenericLikelihoodModel\n",
    "\n",
    "#import testing\n",
    "import sys\n",
    "sys.path.append(\"../\")\n",
    "import selection_tests"
   ]
  },
  {
   "cell_type": "code",
   "execution_count": 9,
   "metadata": {},
   "outputs": [],
   "source": [
    "# Add warehouse data\n",
    "entry3_data = pd.read_csv(\"entry_loc3_w_filter.csv\")\n",
    "entry3_data = entry3_data.dropna()\n",
    "entry3_data['HD entry'] = 1*(entry3_data['HD'] > 0)\n",
    "entry3_data['LOW entry'] = 1*(entry3_data['LOW'] > 0)\n",
    "entry3_data['log income'] = np.log(1 + entry3_data['income_per_capita'])\n",
    "entry3_data['log population'] = np.log(1 + entry3_data['population'])\n",
    "entry3_data['log hd warehouse'] = np.log(1 + entry3_data['hd warehouse distance'])\n",
    "entry3_data['log low warehouse'] = np.log(1 + entry3_data['low warehouse distance'])\n",
    "entry3_data = sm.add_constant(entry3_data)"
   ]
  },
  {
   "cell_type": "code",
   "execution_count": 10,
   "metadata": {},
   "outputs": [
    {
     "name": "stdout",
     "output_type": "stream",
     "text": [
      "Optimization terminated successfully.\n",
      "         Current function value: 0.510998\n",
      "         Iterations 6\n",
      "Optimization terminated successfully.\n",
      "         Current function value: 0.568007\n",
      "         Iterations 6\n",
      "Warning: Maximum number of iterations has been exceeded.\n"
     ]
    },
    {
     "name": "stderr",
     "output_type": "stream",
     "text": [
      "C:\\Users\\himan\\anaconda3\\lib\\site-packages\\statsmodels\\base\\model.py:566: ConvergenceWarning: Maximum Likelihood optimization failed to converge. Check mle_retvals\n",
      "  warnings.warn(\"Maximum Likelihood optimization failed to \"\n"
     ]
    },
    {
     "data": {
      "text/html": [
       "<table class=\"simpletable\">\n",
       "<caption>NashLogit Results</caption>\n",
       "<tr>\n",
       "  <th>Dep. Variable:</th>    <td>['HD entry', 'LOW entry']</td> <th>  Log-Likelihood:    </th> <td> -974.13</td>\n",
       "</tr>\n",
       "<tr>\n",
       "  <th>Model:</th>                    <td>NashLogit</td>         <th>  AIC:               </th> <td>   1958.</td>\n",
       "</tr>\n",
       "<tr>\n",
       "  <th>Method:</th>              <td>Maximum Likelihood</td>     <th>  BIC:               </th> <td>   1982.</td>\n",
       "</tr>\n",
       "<tr>\n",
       "  <th>Date:</th>                 <td>Thu, 12 Aug 2021</td>      <th>                     </th>     <td> </td>   \n",
       "</tr>\n",
       "<tr>\n",
       "  <th>Time:</th>                     <td>14:13:29</td>          <th>                     </th>     <td> </td>   \n",
       "</tr>\n",
       "<tr>\n",
       "  <th>No. Observations:</th>          <td>   896</td>           <th>                     </th>     <td> </td>   \n",
       "</tr>\n",
       "<tr>\n",
       "  <th>Df Residuals:</th>              <td>   891</td>           <th>                     </th>     <td> </td>   \n",
       "</tr>\n",
       "<tr>\n",
       "  <th>Df Model:</th>                  <td>     4</td>           <th>                     </th>     <td> </td>   \n",
       "</tr>\n",
       "</table>\n",
       "<table class=\"simpletable\">\n",
       "<tr>\n",
       "          <td></td>             <th>coef</th>     <th>std err</th>      <th>z</th>      <th>P>|z|</th>  <th>[0.025</th>    <th>0.975]</th>  \n",
       "</tr>\n",
       "<tr>\n",
       "  <th>const</th>             <td>  -22.2065</td> <td>    3.664</td> <td>   -6.061</td> <td> 0.000</td> <td>  -29.388</td> <td>  -15.025</td>\n",
       "</tr>\n",
       "<tr>\n",
       "  <th>log income</th>        <td>    0.9618</td> <td>    0.361</td> <td>    2.665</td> <td> 0.008</td> <td>    0.254</td> <td>    1.669</td>\n",
       "</tr>\n",
       "<tr>\n",
       "  <th>log population</th>    <td>    1.1273</td> <td>    0.266</td> <td>    4.235</td> <td> 0.000</td> <td>    0.606</td> <td>    1.649</td>\n",
       "</tr>\n",
       "<tr>\n",
       "  <th>log hd warehouse</th>  <td>    0.0901</td> <td>    0.073</td> <td>    1.227</td> <td> 0.220</td> <td>   -0.054</td> <td>    0.234</td>\n",
       "</tr>\n",
       "<tr>\n",
       "  <th>const</th>             <td>   -5.1813</td> <td>    5.446</td> <td>   -0.951</td> <td> 0.341</td> <td>  -15.856</td> <td>    5.493</td>\n",
       "</tr>\n",
       "<tr>\n",
       "  <th>log income</th>        <td>   -0.2656</td> <td>    0.414</td> <td>   -0.642</td> <td> 0.521</td> <td>   -1.076</td> <td>    0.545</td>\n",
       "</tr>\n",
       "<tr>\n",
       "  <th>log population</th>    <td>    0.8527</td> <td>    0.242</td> <td>    3.530</td> <td> 0.000</td> <td>    0.379</td> <td>    1.326</td>\n",
       "</tr>\n",
       "<tr>\n",
       "  <th>log low warehouse</th> <td>   -0.1973</td> <td>    0.077</td> <td>   -2.560</td> <td> 0.010</td> <td>   -0.348</td> <td>   -0.046</td>\n",
       "</tr>\n",
       "<tr>\n",
       "  <th>par0</th>              <td>    0.7167</td> <td>    1.050</td> <td>    0.683</td> <td> 0.495</td> <td>   -1.341</td> <td>    2.774</td>\n",
       "</tr>\n",
       "<tr>\n",
       "  <th>par1</th>              <td> 4.562e-05</td> <td>    1.240</td> <td> 3.68e-05</td> <td> 1.000</td> <td>   -2.431</td> <td>    2.431</td>\n",
       "</tr>\n",
       "</table>"
      ],
      "text/plain": [
       "<class 'statsmodels.iolib.summary.Summary'>\n",
       "\"\"\"\n",
       "                                  NashLogit Results                                  \n",
       "=====================================================================================\n",
       "Dep. Variable:     ['HD entry', 'LOW entry']   Log-Likelihood:                -974.13\n",
       "Model:                             NashLogit   AIC:                             1958.\n",
       "Method:                   Maximum Likelihood   BIC:                             1982.\n",
       "Date:                       Thu, 12 Aug 2021                                         \n",
       "Time:                               14:13:29                                         \n",
       "No. Observations:                        896                                         \n",
       "Df Residuals:                            891                                         \n",
       "Df Model:                                  4                                         \n",
       "=====================================================================================\n",
       "                        coef    std err          z      P>|z|      [0.025      0.975]\n",
       "-------------------------------------------------------------------------------------\n",
       "const               -22.2065      3.664     -6.061      0.000     -29.388     -15.025\n",
       "log income            0.9618      0.361      2.665      0.008       0.254       1.669\n",
       "log population        1.1273      0.266      4.235      0.000       0.606       1.649\n",
       "log hd warehouse      0.0901      0.073      1.227      0.220      -0.054       0.234\n",
       "const                -5.1813      5.446     -0.951      0.341     -15.856       5.493\n",
       "log income           -0.2656      0.414     -0.642      0.521      -1.076       0.545\n",
       "log population        0.8527      0.242      3.530      0.000       0.379       1.326\n",
       "log low warehouse    -0.1973      0.077     -2.560      0.010      -0.348      -0.046\n",
       "par0                  0.7167      1.050      0.683      0.495      -1.341       2.774\n",
       "par1               4.562e-05      1.240   3.68e-05      1.000      -2.431       2.431\n",
       "=====================================================================================\n",
       "\"\"\""
      ]
     },
     "execution_count": 10,
     "metadata": {},
     "output_type": "execute_result"
    }
   ],
   "source": [
    "# Fit the NashLogit model\n",
    "x = entry3_data[['const','log income','log population','log hd warehouse',\n",
    "                 'const','log income','log population','log low warehouse']].copy()\n",
    "y = entry3_data[['HD entry','LOW entry']]\n",
    "NashLogit_model = selection_tests.NashLogit(y,x).fit(xtol=1e-6,ftol=1e-6)\n",
    "NashLogit_model.summary()"
   ]
  },
  {
   "cell_type": "code",
   "execution_count": 11,
   "metadata": {},
   "outputs": [
    {
     "name": "stderr",
     "output_type": "stream",
     "text": [
      "C:\\Users\\himan\\git\\entry\\estimation\\selection_tests.py:103: RuntimeWarning: divide by zero encountered in log\n",
      "  (1-self.endog)*np.log(1-likelihood)\n",
      "C:\\Users\\himan\\git\\entry\\estimation\\selection_tests.py:103: RuntimeWarning: invalid value encountered in multiply\n",
      "  (1-self.endog)*np.log(1-likelihood)\n"
     ]
    },
    {
     "name": "stdout",
     "output_type": "stream",
     "text": [
      "Warning: Maximum number of iterations has been exceeded.\n"
     ]
    },
    {
     "name": "stderr",
     "output_type": "stream",
     "text": [
      "C:\\Users\\himan\\anaconda3\\lib\\site-packages\\statsmodels\\base\\model.py:547: HessianInversionWarning: Inverting hessian failed, no bse or cov_params available\n",
      "  warnings.warn('Inverting hessian failed, no bse or cov_params '\n",
      "C:\\Users\\himan\\anaconda3\\lib\\site-packages\\statsmodels\\base\\model.py:566: ConvergenceWarning: Maximum Likelihood optimization failed to converge. Check mle_retvals\n",
      "  warnings.warn(\"Maximum Likelihood optimization failed to \"\n"
     ]
    },
    {
     "data": {
      "text/html": [
       "<table class=\"simpletable\">\n",
       "<caption>BayesNashLogit Results</caption>\n",
       "<tr>\n",
       "  <th>Dep. Variable:</th>    <td>['HD entry', 'LOW entry']</td> <th>  Log-Likelihood:    </th> <td> -1161.4</td>\n",
       "</tr>\n",
       "<tr>\n",
       "  <th>Model:</th>                 <td>BayesNashLogit</td>       <th>  AIC:               </th> <td>   2333.</td>\n",
       "</tr>\n",
       "<tr>\n",
       "  <th>Method:</th>              <td>Maximum Likelihood</td>     <th>  BIC:               </th> <td>   2357.</td>\n",
       "</tr>\n",
       "<tr>\n",
       "  <th>Date:</th>                 <td>Thu, 12 Aug 2021</td>      <th>                     </th>     <td> </td>   \n",
       "</tr>\n",
       "<tr>\n",
       "  <th>Time:</th>                     <td>14:13:33</td>          <th>                     </th>     <td> </td>   \n",
       "</tr>\n",
       "<tr>\n",
       "  <th>No. Observations:</th>          <td>   896</td>           <th>                     </th>     <td> </td>   \n",
       "</tr>\n",
       "<tr>\n",
       "  <th>Df Residuals:</th>              <td>   891</td>           <th>                     </th>     <td> </td>   \n",
       "</tr>\n",
       "<tr>\n",
       "  <th>Df Model:</th>                  <td>     4</td>           <th>                     </th>     <td> </td>   \n",
       "</tr>\n",
       "</table>\n",
       "<table class=\"simpletable\">\n",
       "<tr>\n",
       "          <td></td>             <th>coef</th>     <th>std err</th>      <th>z</th>      <th>P>|z|</th>  <th>[0.025</th>    <th>0.975]</th>  \n",
       "</tr>\n",
       "<tr>\n",
       "  <th>const</th>             <td>    1.4191</td> <td>      nan</td> <td>      nan</td> <td>   nan</td> <td>      nan</td> <td>      nan</td>\n",
       "</tr>\n",
       "<tr>\n",
       "  <th>log income</th>        <td>   -2.2855</td> <td>      nan</td> <td>      nan</td> <td>   nan</td> <td>      nan</td> <td>      nan</td>\n",
       "</tr>\n",
       "<tr>\n",
       "  <th>log population</th>    <td>    1.9012</td> <td>      nan</td> <td>      nan</td> <td>   nan</td> <td>      nan</td> <td>      nan</td>\n",
       "</tr>\n",
       "<tr>\n",
       "  <th>log hd warehouse</th>  <td>    0.1242</td> <td>      nan</td> <td>      nan</td> <td>   nan</td> <td>      nan</td> <td>      nan</td>\n",
       "</tr>\n",
       "<tr>\n",
       "  <th>const</th>             <td>    4.4111</td> <td>      nan</td> <td>      nan</td> <td>   nan</td> <td>      nan</td> <td>      nan</td>\n",
       "</tr>\n",
       "<tr>\n",
       "  <th>log income</th>        <td>   -1.7514</td> <td>      nan</td> <td>      nan</td> <td>   nan</td> <td>      nan</td> <td>      nan</td>\n",
       "</tr>\n",
       "<tr>\n",
       "  <th>log population</th>    <td>    1.0281</td> <td>      nan</td> <td>      nan</td> <td>   nan</td> <td>      nan</td> <td>      nan</td>\n",
       "</tr>\n",
       "<tr>\n",
       "  <th>log low warehouse</th> <td>    0.9466</td> <td>      nan</td> <td>      nan</td> <td>   nan</td> <td>      nan</td> <td>      nan</td>\n",
       "</tr>\n",
       "<tr>\n",
       "  <th>par0</th>              <td>   -6.0311</td> <td>      nan</td> <td>      nan</td> <td>   nan</td> <td>      nan</td> <td>      nan</td>\n",
       "</tr>\n",
       "<tr>\n",
       "  <th>par1</th>              <td>    2.4038</td> <td>      nan</td> <td>      nan</td> <td>   nan</td> <td>      nan</td> <td>      nan</td>\n",
       "</tr>\n",
       "</table>"
      ],
      "text/plain": [
       "<class 'statsmodels.iolib.summary.Summary'>\n",
       "\"\"\"\n",
       "                                BayesNashLogit Results                               \n",
       "=====================================================================================\n",
       "Dep. Variable:     ['HD entry', 'LOW entry']   Log-Likelihood:                -1161.4\n",
       "Model:                        BayesNashLogit   AIC:                             2333.\n",
       "Method:                   Maximum Likelihood   BIC:                             2357.\n",
       "Date:                       Thu, 12 Aug 2021                                         \n",
       "Time:                               14:13:33                                         \n",
       "No. Observations:                        896                                         \n",
       "Df Residuals:                            891                                         \n",
       "Df Model:                                  4                                         \n",
       "=====================================================================================\n",
       "                        coef    std err          z      P>|z|      [0.025      0.975]\n",
       "-------------------------------------------------------------------------------------\n",
       "const                 1.4191        nan        nan        nan         nan         nan\n",
       "log income           -2.2855        nan        nan        nan         nan         nan\n",
       "log population        1.9012        nan        nan        nan         nan         nan\n",
       "log hd warehouse      0.1242        nan        nan        nan         nan         nan\n",
       "const                 4.4111        nan        nan        nan         nan         nan\n",
       "log income           -1.7514        nan        nan        nan         nan         nan\n",
       "log population        1.0281        nan        nan        nan         nan         nan\n",
       "log low warehouse     0.9466        nan        nan        nan         nan         nan\n",
       "par0                 -6.0311        nan        nan        nan         nan         nan\n",
       "par1                  2.4038        nan        nan        nan         nan         nan\n",
       "=====================================================================================\n",
       "\"\"\""
      ]
     },
     "execution_count": 11,
     "metadata": {},
     "output_type": "execute_result"
    }
   ],
   "source": [
    "# Fit the BayesNashLogit model\n",
    "x = entry3_data[['const','log income','log population','log hd warehouse', \n",
    "                 'const','log income','log population','log low warehouse']].copy()\n",
    "y = entry3_data[['HD entry','LOW entry']]\n",
    "BayesNashLogit_model = selection_tests.BayesNashLogit(y,x).fit(xtol=1e-6,ftol=1e-6)\n",
    "BayesNashLogit_model.summary()"
   ]
  },
  {
   "cell_type": "code",
   "execution_count": 12,
   "metadata": {},
   "outputs": [
    {
     "name": "stdout",
     "output_type": "stream",
     "text": [
      "Optimization terminated successfully.\n",
      "         Current function value: 0.534271\n",
      "         Iterations 6\n",
      "Optimization terminated successfully.\n",
      "         Current function value: 0.569472\n",
      "         Iterations 6\n"
     ]
    },
    {
     "name": "stderr",
     "output_type": "stream",
     "text": [
      "C:\\Users\\himan\\anaconda3\\lib\\site-packages\\statsmodels\\base\\model.py:547: HessianInversionWarning: Inverting hessian failed, no bse or cov_params available\n",
      "  warnings.warn('Inverting hessian failed, no bse or cov_params '\n",
      "C:\\Users\\himan\\anaconda3\\lib\\site-packages\\statsmodels\\base\\model.py:566: ConvergenceWarning: Maximum Likelihood optimization failed to converge. Check mle_retvals\n",
      "  warnings.warn(\"Maximum Likelihood optimization failed to \"\n",
      "C:\\Users\\himan\\anaconda3\\lib\\site-packages\\statsmodels\\base\\model.py:566: ConvergenceWarning: Maximum Likelihood optimization failed to converge. Check mle_retvals\n",
      "  warnings.warn(\"Maximum Likelihood optimization failed to \"\n"
     ]
    },
    {
     "data": {
      "text/plain": [
       "1"
      ]
     },
     "execution_count": 12,
     "metadata": {},
     "output_type": "execute_result"
    }
   ],
   "source": [
    "# Fit the regular test model\n",
    "# Fit the BayesNashLogit model\n",
    "x = entry3_data[['log income','log population','log hd warehouse', \n",
    "                 'log income','log population','log low warehouse']].copy()\n",
    "y = entry3_data[['HD entry','LOW entry']]\n",
    "regular_test_model = selection_tests.regular_test(y,x,selection_tests.setup_test)\n",
    "regular_test_model"
   ]
  },
  {
   "cell_type": "code",
   "execution_count": 13,
   "metadata": {},
   "outputs": [
    {
     "name": "stdout",
     "output_type": "stream",
     "text": [
      "Optimization terminated successfully.\n",
      "         Current function value: 0.534271\n",
      "         Iterations 6\n",
      "Optimization terminated successfully.\n",
      "         Current function value: 0.569472\n",
      "         Iterations 6\n"
     ]
    },
    {
     "name": "stderr",
     "output_type": "stream",
     "text": [
      "C:\\Users\\himan\\anaconda3\\lib\\site-packages\\statsmodels\\base\\model.py:547: HessianInversionWarning: Inverting hessian failed, no bse or cov_params available\n",
      "  warnings.warn('Inverting hessian failed, no bse or cov_params '\n",
      "C:\\Users\\himan\\anaconda3\\lib\\site-packages\\statsmodels\\base\\model.py:566: ConvergenceWarning: Maximum Likelihood optimization failed to converge. Check mle_retvals\n",
      "  warnings.warn(\"Maximum Likelihood optimization failed to \"\n",
      "C:\\Users\\himan\\anaconda3\\lib\\site-packages\\statsmodels\\base\\model.py:566: ConvergenceWarning: Maximum Likelihood optimization failed to converge. Check mle_retvals\n",
      "  warnings.warn(\"Maximum Likelihood optimization failed to \"\n"
     ]
    },
    {
     "data": {
      "text/plain": [
       "1"
      ]
     },
     "execution_count": 13,
     "metadata": {},
     "output_type": "execute_result"
    }
   ],
   "source": [
    "# Fit the bootstrap test model\n",
    "x = entry3_data[['log income','log population','log hd warehouse', 'log income','log population','log low warehouse']].copy()\n",
    "y = entry3_data[['HD entry','LOW entry']]\n",
    "bootstrap_test_model = selection_tests.bootstrap_test(y,x,selection_tests.setup_test, trials=100)\n",
    "bootstrap_test_model"
   ]
  },
  {
   "cell_type": "code",
   "execution_count": null,
   "metadata": {},
   "outputs": [],
   "source": []
  }
 ],
 "metadata": {
  "kernelspec": {
   "display_name": "Python 3",
   "language": "python",
   "name": "python3"
  },
  "language_info": {
   "codemirror_mode": {
    "name": "ipython",
    "version": 3
   },
   "file_extension": ".py",
   "mimetype": "text/x-python",
   "name": "python",
   "nbconvert_exporter": "python",
   "pygments_lexer": "ipython3",
   "version": "3.8.3"
  }
 },
 "nbformat": 4,
 "nbformat_minor": 4
}
