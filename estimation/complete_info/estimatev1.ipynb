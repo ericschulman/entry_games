{
 "cells": [
  {
   "cell_type": "code",
   "execution_count": 1,
   "metadata": {},
   "outputs": [],
   "source": [
    "import pandas as pd\n",
    "import math\n",
    "import numpy as np\n",
    "import matplotlib.pyplot as plt\n",
    "import statsmodels.api as sm\n",
    "from statsmodels.base.model import GenericLikelihoodModel"
   ]
  },
  {
   "cell_type": "code",
   "execution_count": 2,
   "metadata": {},
   "outputs": [],
   "source": [
    "data = pd.read_csv(\"monte_carlo2.csv\")"
   ]
  },
  {
   "cell_type": "code",
   "execution_count": 3,
   "metadata": {},
   "outputs": [
    {
     "name": "stdout",
     "output_type": "stream",
     "text": [
      "Warning: Maximum number of iterations has been exceeded.\n",
      "                              NashLogit Results                               \n",
      "==============================================================================\n",
      "Dep. Variable:           ['y1', 'y2']   Log-Likelihood:                -612.04\n",
      "Model:                      NashLogit   AIC:                             1230.\n",
      "Method:            Maximum Likelihood   BIC:                             1245.\n",
      "Date:                Wed, 12 May 2021                                         \n",
      "Time:                        17:54:03                                         \n",
      "No. Observations:                1000                                         \n",
      "Df Residuals:                     997                                         \n",
      "Df Model:                           2                                         \n",
      "==============================================================================\n",
      "                 coef    std err          z      P>|z|      [0.025      0.975]\n",
      "------------------------------------------------------------------------------\n",
      "b01            0.9525      0.204      4.677      0.000       0.553       1.352\n",
      "b11            3.9044      0.270     14.449      0.000       3.375       4.434\n",
      "d1            -2.7935      0.306     -9.142      0.000      -3.392      -2.195\n",
      "b02            1.5496      0.154     10.076      0.000       1.248       1.851\n",
      "b12            2.7726      0.181     15.303      0.000       2.417       3.128\n",
      "d2            -1.7796      0.236     -7.543      0.000      -2.242      -1.317\n",
      "rho           15.7883   1262.445      0.013      0.990   -2458.559    2490.136\n",
      "==============================================================================\n"
     ]
    },
    {
     "name": "stderr",
     "output_type": "stream",
     "text": [
      "/home/erichschulman/anaconda3/lib/python3.7/site-packages/statsmodels/base/model.py:512: ConvergenceWarning: Maximum Likelihood optimization failed to converge. Check mle_retvals\n",
      "  \"Check mle_retvals\", ConvergenceWarning)\n"
     ]
    }
   ],
   "source": [
    "class NashLogit(GenericLikelihoodModel):\n",
    "    \n",
    "    def nloglikeobs(self, params):\n",
    "        n = self.exog.shape[0]\n",
    "        k = int(self.exog.shape[1]/2)\n",
    "        \n",
    "        p = []\n",
    "        \n",
    "        for bound in [[0,0],[1,1],[0,1],[1,0]]:\n",
    "            util1 = np.dot(self.exog[:,0:k], params[0:k])  + params[k]*bound[1]\n",
    "            util2 = np.dot(self.exog[:,k:], params[k+1:2*k+1]) + params[2*k+1]*bound[0]\n",
    "            prob = np.exp(util1)**bound[0]/( 1.+np.exp(util1) )\n",
    "            prob = prob*np.exp(util2)**bound[1]/( 1.+np.exp(util2) )\n",
    "            p.append(prob)\n",
    "\n",
    "        p00 = (1 - self.endog[:,0])*(1 - self.endog[:,1])\n",
    "        p11 = self.endog[:,0]*self.endog[:,1]\n",
    "        p10 = self.endog[:,0]* (1 - self.endog[:,1])\n",
    "        p01 = (1 - self.endog[:,0]) * self.endog[:,1]\n",
    "        \n",
    "        lambd = np.exp(params[6])/(1+np.exp(params[6]))        \n",
    "        ll = p00 * p[0] + p11 *p[1]\n",
    "        ll = ll + p01 * ( lambd * p[2] + (1-lambd)*(1 - p[0] - p[1] - p[3] ) )\n",
    "        ll = ll + p10 * ( (1-lambd) *p[3] + lambd*(1 - p[0] - p[1] - p[2] ) )\n",
    "\n",
    "        return -np.log(ll).sum()\n",
    "        \n",
    "        \n",
    "    \n",
    "    def fit(self, **kwds):\n",
    "        \"\"\"fit the likelihood function using the right start parameters\"\"\"\n",
    "        start_params = np.ones(self.exog.shape[1]+3)\n",
    "        start_params = np.array([1, 4, -3 ,2, 3, -2 ,-1])\n",
    "        return super(NashLogit, self).fit(start_params=start_params,**kwds)\n",
    "\n",
    "        \n",
    "        \n",
    "N = data.shape[0]\n",
    "y = data[['y1','y2']]\n",
    "x = data[['x1','x2']]\n",
    "\n",
    "x.insert(0,'x01',np.ones(N))\n",
    "x.insert(2,'x02',np.ones(N))\n",
    "\n",
    "model = NashLogit(y,x)\n",
    "model = model.fit()\n",
    "print(model.summary(xname=[\"b01\",\"b11\",\"d1\",\"b02\",\"b12\",\"d2\",\"rho\"]))"
   ]
  },
  {
   "cell_type": "code",
   "execution_count": null,
   "metadata": {},
   "outputs": [],
   "source": []
  },
  {
   "cell_type": "code",
   "execution_count": null,
   "metadata": {},
   "outputs": [],
   "source": []
  }
 ],
 "metadata": {
  "kernelspec": {
   "display_name": "Python 3",
   "language": "python",
   "name": "python3"
  },
  "language_info": {
   "codemirror_mode": {
    "name": "ipython",
    "version": 3
   },
   "file_extension": ".py",
   "mimetype": "text/x-python",
   "name": "python",
   "nbconvert_exporter": "python",
   "pygments_lexer": "ipython3",
   "version": "3.7.4"
  }
 },
 "nbformat": 4,
 "nbformat_minor": 2
}
