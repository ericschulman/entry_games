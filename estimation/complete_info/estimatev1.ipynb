{
 "cells": [
  {
   "cell_type": "code",
   "execution_count": 1,
   "metadata": {},
   "outputs": [],
   "source": [
    "import pandas as pd\n",
    "import math\n",
    "import numpy as np\n",
    "import matplotlib.pyplot as plt\n",
    "import statsmodels.api as sm\n",
    "from statsmodels.base.model import GenericLikelihoodModel"
   ]
  },
  {
   "cell_type": "code",
   "execution_count": 2,
   "metadata": {},
   "outputs": [],
   "source": [
    "data = pd.read_csv(\"monte_carlo.csv\")"
   ]
  },
  {
   "cell_type": "code",
   "execution_count": 3,
   "metadata": {},
   "outputs": [
    {
     "name": "stdout",
     "output_type": "stream",
     "text": [
      "Warning: Maximum number of iterations has been exceeded.\n",
      "                              NashLogit Results                               \n",
      "==============================================================================\n",
      "Dep. Variable:           ['y1', 'y2']   Log-Likelihood:                -615.99\n",
      "Model:                      NashLogit   AIC:                             1238.\n",
      "Method:            Maximum Likelihood   BIC:                             1253.\n",
      "Date:                Fri, 05 Mar 2021                                         \n",
      "Time:                        14:31:14                                         \n",
      "No. Observations:                1000                                         \n",
      "Df Residuals:                     997                                         \n",
      "Df Model:                           2                                         \n",
      "==============================================================================\n",
      "                 coef    std err          z      P>|z|      [0.025      0.975]\n",
      "------------------------------------------------------------------------------\n",
      "b01            0.9698      0.190      5.111      0.000       0.598       1.342\n",
      "b11            4.0206      0.287     13.991      0.000       3.457       4.584\n",
      "d1            -2.6693      0.306     -8.720      0.000      -3.269      -2.069\n",
      "b02            1.9379      0.196      9.880      0.000       1.553       2.322\n",
      "b12            3.0074      0.201     14.972      0.000       2.614       3.401\n",
      "d2            -1.8237      0.244     -7.472      0.000      -2.302      -1.345\n",
      "rho          -11.5583    172.209     -0.067      0.946    -349.082     325.965\n",
      "==============================================================================\n"
     ]
    },
    {
     "name": "stderr",
     "output_type": "stream",
     "text": [
      "/home/erichschulman/anaconda3/lib/python3.7/site-packages/statsmodels/base/model.py:512: ConvergenceWarning: Maximum Likelihood optimization failed to converge. Check mle_retvals\n",
      "  \"Check mle_retvals\", ConvergenceWarning)\n"
     ]
    }
   ],
   "source": [
    "class NashLogit(GenericLikelihoodModel):\n",
    "    \n",
    "    def nloglikeobs(self, params):\n",
    "        n = self.exog.shape[0]\n",
    "        k = int(self.exog.shape[1]/2)\n",
    "        \n",
    "        p = []\n",
    "        \n",
    "        for bound in [[0,0],[1,1],[0,1],[1,0]]:\n",
    "            util1 = np.dot(self.exog[:,0:k], params[0:k])  + params[k]*bound[1]\n",
    "            util2 = np.dot(self.exog[:,k:], params[k+1:2*k+1]) + params[2*k+1]*bound[0]\n",
    "            prob = np.exp(util1)**bound[0]/( 1.+np.exp(util1) )\n",
    "            prob = prob*np.exp(util2)**bound[1]/( 1.+np.exp(util2) )\n",
    "            p.append(prob)\n",
    "\n",
    "        p00 = (1 - self.endog[:,0])*(1 - self.endog[:,1])\n",
    "        p11 = self.endog[:,0]*self.endog[:,1]\n",
    "        p10 = self.endog[:,0]* (1 - self.endog[:,1])\n",
    "        p01 = (1 - self.endog[:,0]) * self.endog[:,1]\n",
    "        \n",
    "        lambd = np.exp(params[6])/(1+np.exp(params[6]))        \n",
    "        ll = p00 * p[0] + p11 *p[1]\n",
    "        ll = ll + p01 * ( lambd * p[2] + (1-lambd)*(1 - p[0] - p[1] - p[3] ) )\n",
    "        ll = ll + p10 * ( (1-lambd) *p[3] + lambd*(1 - p[0] - p[1] - p[2] ) )\n",
    "\n",
    "        return -np.log(ll).sum()\n",
    "        \n",
    "        \n",
    "    \n",
    "    def fit(self, **kwds):\n",
    "        \"\"\"fit the likelihood function using the right start parameters\"\"\"\n",
    "        start_params = np.ones(self.exog.shape[1]+3)\n",
    "        start_params = np.array([1, 4, -3 ,2, 3, -2 ,-1])\n",
    "        return super(NashLogit, self).fit(start_params=start_params,**kwds)\n",
    "\n",
    "        \n",
    "        \n",
    "N = data.shape[0]\n",
    "y = data[['y1','y2']]\n",
    "x = data[['x1','x2']]\n",
    "\n",
    "x.insert(0,'x01',np.ones(N))\n",
    "x.insert(2,'x02',np.ones(N))\n",
    "\n",
    "model = NashLogit(y,x)\n",
    "model = model.fit()\n",
    "print(model.summary(xname=[\"b01\",\"b11\",\"d1\",\"b02\",\"b12\",\"d2\",\"rho\"]))"
   ]
  },
  {
   "cell_type": "code",
   "execution_count": null,
   "metadata": {},
   "outputs": [],
   "source": []
  },
  {
   "cell_type": "code",
   "execution_count": null,
   "metadata": {},
   "outputs": [],
   "source": []
  }
 ],
 "metadata": {
  "kernelspec": {
   "display_name": "Python 3",
   "language": "python",
   "name": "python3"
  },
  "language_info": {
   "codemirror_mode": {
    "name": "ipython",
    "version": 3
   },
   "file_extension": ".py",
   "mimetype": "text/x-python",
   "name": "python",
   "nbconvert_exporter": "python",
   "pygments_lexer": "ipython3",
   "version": "3.7.4"
  }
 },
 "nbformat": 4,
 "nbformat_minor": 2
}
