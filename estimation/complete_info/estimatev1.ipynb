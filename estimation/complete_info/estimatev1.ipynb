{
 "cells": [
  {
   "cell_type": "code",
   "execution_count": 1,
   "metadata": {},
   "outputs": [],
   "source": [
    "import pandas as pd\n",
    "import math\n",
    "import numpy as np\n",
    "import matplotlib.pyplot as plt\n",
    "import statsmodels.api as sm\n",
    "from statsmodels.base.model import GenericLikelihoodModel"
   ]
  },
  {
   "cell_type": "code",
   "execution_count": 2,
   "metadata": {},
   "outputs": [],
   "source": [
    "data = pd.read_csv(\"monte_carlo.csv\")"
   ]
  },
  {
   "cell_type": "code",
   "execution_count": 30,
   "metadata": {},
   "outputs": [
    {
     "name": "stdout",
     "output_type": "stream",
     "text": [
      "Optimization terminated successfully.\n",
      "         Current function value: 0.613891\n",
      "         Iterations: 372\n",
      "         Function evaluations: 582\n",
      "                              NashLogit Results                               \n",
      "==============================================================================\n",
      "Dep. Variable:           ['y1', 'y2']   Log-Likelihood:                -122.78\n",
      "Model:                      NashLogit   AIC:                             251.6\n",
      "Method:            Maximum Likelihood   BIC:                             261.5\n",
      "Date:                Wed, 08 Apr 2020                                         \n",
      "Time:                        18:47:40                                         \n",
      "No. Observations:                 200                                         \n",
      "Df Residuals:                     197                                         \n",
      "Df Model:                           2                                         \n",
      "==============================================================================\n",
      "                 coef    std err          z      P>|z|      [0.025      0.975]\n",
      "------------------------------------------------------------------------------\n",
      "b01            0.9826      0.463      2.124      0.034       0.076       1.889\n",
      "b11            4.5374      0.776      5.849      0.000       3.017       6.058\n",
      "d1            -2.8087      0.746     -3.763      0.000      -4.272      -1.346\n",
      "b02            1.7777      0.411      4.327      0.000       0.972       2.583\n",
      "b12            2.6539      0.409      6.487      0.000       1.852       3.456\n",
      "d2            -1.6317      0.583     -2.797      0.005      -2.775      -0.488\n",
      "rho           -0.8091      2.359     -0.343      0.732      -5.433       3.815\n",
      "==============================================================================\n"
     ]
    }
   ],
   "source": [
    "class NashLogit(GenericLikelihoodModel):\n",
    "    \n",
    "    def nloglikeobs(self, params):\n",
    "        n = self.exog.shape[0]\n",
    "        k = int(self.exog.shape[1]/2)\n",
    "        \n",
    "        p = []\n",
    "        \n",
    "        for bound in [[0,0],[1,1],[0,1],[1,0]]:\n",
    "            util1 = np.dot(self.exog[:,0:k], params[0:k])  + params[k]*bound[1]\n",
    "            util2 = np.dot(self.exog[:,k:], params[k+1:2*k+1]) + params[2*k+1]*bound[0]\n",
    "            prob = np.exp(util1)**bound[0]/( 1.+np.exp(util1) )\n",
    "            prob = prob*np.exp(util2)**bound[1]/( 1.+np.exp(util2) )\n",
    "            p.append(prob)\n",
    "\n",
    "        p00 = (1 - self.endog[:,0])*(1 - self.endog[:,1])\n",
    "        p11 = self.endog[:,0]*self.endog[:,1]\n",
    "        p10 = self.endog[:,0]* (1 - self.endog[:,1])\n",
    "        p01 = (1 - self.endog[:,0]) * self.endog[:,1]\n",
    "        \n",
    "        lambd = np.exp(params[6])/(1+np.exp(params[6]))        \n",
    "        ll = p00 * p[0] + p11 *p[1]\n",
    "        ll = ll + p01 * ( lambd * p[2] + (1-lambd)*(1 - p[0] - p[1] - p[3] ) )\n",
    "        ll = ll + p10 * ( (1-lambd) *p[3] + lambd*(1 - p[0] - p[1] - p[2] ) )\n",
    "\n",
    "        return -np.log(ll).sum()\n",
    "        \n",
    "        \n",
    "    \n",
    "    def fit(self, **kwds):\n",
    "        \"\"\"fit the likelihood function using the right start parameters\"\"\"\n",
    "        start_params = np.ones(self.exog.shape[1]+3)\n",
    "        start_params = np.array([1, 4, -3 ,2, 3, -2 ,-1])\n",
    "        return super(NashLogit, self).fit(start_params=start_params,**kwds)\n",
    "\n",
    "        \n",
    "        \n",
    "N = data.shape[0]\n",
    "y = data[['y1','y2']]\n",
    "x = data[['x1','x2']]\n",
    "\n",
    "x.insert(0,'x01',np.ones(N))\n",
    "x.insert(2,'x02',np.ones(N))\n",
    "\n",
    "model = NashLogit(y,x)\n",
    "model = model.fit()\n",
    "print(model.summary(xname=[\"b01\",\"b11\",\"d1\",\"b02\",\"b12\",\"d2\",\"rho\"]))"
   ]
  },
  {
   "cell_type": "code",
   "execution_count": 31,
   "metadata": {},
   "outputs": [
    {
     "name": "stdout",
     "output_type": "stream",
     "text": [
      "Optimization terminated successfully.\n",
      "         Current function value: 0.593793\n",
      "         Iterations: 348\n",
      "         Function evaluations: 542\n",
      "                              NashLogit Results                               \n",
      "==============================================================================\n",
      "Dep. Variable:           ['y1', 'y2']   Log-Likelihood:                -593.79\n",
      "Model:                      NashLogit   AIC:                             1194.\n",
      "Method:            Maximum Likelihood   BIC:                             1208.\n",
      "Date:                Wed, 08 Apr 2020                                         \n",
      "Time:                        18:47:54                                         \n",
      "No. Observations:                1000                                         \n",
      "Df Residuals:                     997                                         \n",
      "Df Model:                           2                                         \n",
      "==============================================================================\n",
      "                 coef    std err          z      P>|z|      [0.025      0.975]\n",
      "------------------------------------------------------------------------------\n",
      "b01            1.2824      0.208      6.169      0.000       0.875       1.690\n",
      "b11            3.9734      0.293     13.548      0.000       3.399       4.548\n",
      "d1            -3.3131      0.332     -9.968      0.000      -3.965      -2.662\n",
      "b02            2.0065      0.206      9.764      0.000       1.604       2.409\n",
      "b12            3.0995      0.211     14.681      0.000       2.686       3.513\n",
      "d2            -1.9425      0.274     -7.090      0.000      -2.480      -1.406\n",
      "rho           -2.2190      1.761     -1.260      0.208      -5.671       1.233\n",
      "==============================================================================\n"
     ]
    }
   ],
   "source": [
    "data = pd.read_csv(\"monte_carlo_1000.csv\")\n",
    "N = data.shape[0]\n",
    "y = data[['y1','y2']]\n",
    "x = data[['x1','x2']]\n",
    "\n",
    "x.insert(0,'x01',np.ones(N))\n",
    "x.insert(2,'x02',np.ones(N))\n",
    "\n",
    "model_1000 = NashLogit(y,x)\n",
    "model_1000 = model_1000.fit()\n",
    "print(model_1000.summary(xname=[\"b01\",\"b11\",\"d1\",\"b02\",\"b12\",\"d2\",\"rho\"]))"
   ]
  },
  {
   "cell_type": "code",
   "execution_count": null,
   "metadata": {},
   "outputs": [],
   "source": []
  },
  {
   "cell_type": "code",
   "execution_count": null,
   "metadata": {},
   "outputs": [],
   "source": []
  }
 ],
 "metadata": {
  "kernelspec": {
   "display_name": "Python 3",
   "language": "python",
   "name": "python3"
  },
  "language_info": {
   "codemirror_mode": {
    "name": "ipython",
    "version": 3
   },
   "file_extension": ".py",
   "mimetype": "text/x-python",
   "name": "python",
   "nbconvert_exporter": "python",
   "pygments_lexer": "ipython3",
   "version": "3.7.4"
  }
 },
 "nbformat": 4,
 "nbformat_minor": 2
}
