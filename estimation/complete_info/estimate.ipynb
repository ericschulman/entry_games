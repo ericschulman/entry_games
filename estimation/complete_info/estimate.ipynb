{
 "cells": [
  {
   "cell_type": "code",
   "execution_count": 6,
   "metadata": {},
   "outputs": [],
   "source": [
    "import pandas as pd\n",
    "import math\n",
    "import numpy as np\n",
    "import matplotlib.pyplot as plt\n",
    "import statsmodels.api as sm\n",
    "from statsmodels.base.model import GenericLikelihoodModel"
   ]
  },
  {
   "cell_type": "code",
   "execution_count": 7,
   "metadata": {},
   "outputs": [],
   "source": [
    "data = pd.read_csv(\"monte_carlo.csv\")"
   ]
  },
  {
   "cell_type": "code",
   "execution_count": 12,
   "metadata": {},
   "outputs": [
    {
     "name": "stdout",
     "output_type": "stream",
     "text": [
      "Optimization terminated successfully.\n",
      "         Current function value: 0.966744\n",
      "         Iterations: 131\n",
      "         Function evaluations: 231\n",
      "                              NashLogit Results                               \n",
      "==============================================================================\n",
      "Dep. Variable:           ['y1', 'y2']   Log-Likelihood:                -966.74\n",
      "Model:                      NashLogit   AIC:                             1937.\n",
      "Method:            Maximum Likelihood   BIC:                             1947.\n",
      "Date:                Wed, 07 Apr 2021                                         \n",
      "Time:                        15:55:55                                         \n",
      "No. Observations:                1000                                         \n",
      "Df Residuals:                     998                                         \n",
      "Df Model:                           1                                         \n",
      "==============================================================================\n",
      "                 coef    std err          z      P>|z|      [0.025      0.975]\n",
      "------------------------------------------------------------------------------\n",
      "b11            0.9116      0.059     15.529      0.000       0.797       1.027\n",
      "d1            -0.5939      0.141     -4.202      0.000      -0.871      -0.317\n",
      "b12            0.8628      0.057     15.116      0.000       0.751       0.975\n",
      "d2            -0.7329      0.140     -5.229      0.000      -1.008      -0.458\n",
      "==============================================================================\n"
     ]
    }
   ],
   "source": [
    "class NashLogit(GenericLikelihoodModel):\n",
    "    \n",
    "    def nloglikeobs(self, params):\n",
    "        n = self.exog.shape[0]\n",
    "        k = int(self.exog.shape[1]/2)\n",
    "        p = np.zeros((2,2,n))\n",
    "\n",
    "        for a_j in [0,1]:\n",
    "            util1 = np.dot(self.exog[:,0:k], params[0:k])  + params[k]*a_j\n",
    "            util2 = np.dot(self.exog[:,k:], params[k+1:2*k+1]) + params[2*k+1]*a_j\n",
    "            p[0,a_j,:] = 1 /(1 + np.exp(util1))\n",
    "            p[1,a_j,:] = 1 /(1 + np.exp(util2))\n",
    "        \n",
    "        lamb = .5\n",
    "        \n",
    "        #solve for probablity of nash\n",
    "        mult_eq = np.maximum( ( p[0,1,:]  - p[0,0,:] )*(  p[1,1,:] - p[1,0,:] ),0)\n",
    "        prob01 = ( p[0,1,:] )*( 1 - p[1,0,:] ) - (1-lamb)*mult_eq\n",
    "        prob10 = ( 1 - p[0,0,:] )*( p[1,1,:] ) - (lamb)*mult_eq\n",
    "        prob00 = p[0,0,:] * p[1,0,:]\n",
    "        prob11 = ( 1 - p[0,1,:] )*( 1 - p[1,1,:] )\n",
    "\n",
    "        #compute empirical likelihood\n",
    "        p00 = (1 - self.endog[:,0])*(1 - self.endog[:,1])\n",
    "        p11 = self.endog[:,0]*self.endog[:,1]\n",
    "        p10 = self.endog[:,0]* (1 - self.endog[:,1])\n",
    "        p01 = (1 - self.endog[:,0]) * self.endog[:,1]\n",
    "\n",
    "        ll = p00 * prob00 + p11 *prob11 + p01 * prob01 + p10 * prob10\n",
    "        \n",
    "       \n",
    "        return -np.log(np.maximum(ll,1e-12)).sum()\n",
    "        \n",
    "        \n",
    "    \n",
    "    def fit(self, **kwds):\n",
    "        \"\"\"fit the likelihood function using the right start parameters\"\"\"\n",
    "        start_params = np.ones(self.exog.shape[1]+2)\n",
    "        return super(NashLogit, self).fit(start_params=start_params,**kwds)\n",
    "\n",
    "        \n",
    "        \n",
    "N = data.shape[0]\n",
    "y = data[['y1','y2']]\n",
    "x = data[['x1','x2']]\n",
    "\n",
    "model = NashLogit(y,x)\n",
    "model = model.fit()\n",
    "print(model.summary(xname=[\"b11\",\"d1\",\"b12\",\"d2\"]))"
   ]
  },
  {
   "cell_type": "code",
   "execution_count": null,
   "metadata": {},
   "outputs": [],
   "source": []
  },
  {
   "cell_type": "code",
   "execution_count": null,
   "metadata": {},
   "outputs": [],
   "source": []
  }
 ],
 "metadata": {
  "kernelspec": {
   "display_name": "Python 3",
   "language": "python",
   "name": "python3"
  },
  "language_info": {
   "codemirror_mode": {
    "name": "ipython",
    "version": 3
   },
   "file_extension": ".py",
   "mimetype": "text/x-python",
   "name": "python",
   "nbconvert_exporter": "python",
   "pygments_lexer": "ipython3",
   "version": "3.7.4"
  }
 },
 "nbformat": 4,
 "nbformat_minor": 2
}
