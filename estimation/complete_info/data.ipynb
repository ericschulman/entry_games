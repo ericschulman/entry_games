{
 "cells": [
  {
   "cell_type": "code",
   "execution_count": 51,
   "metadata": {},
   "outputs": [],
   "source": [
    "using Distributions\n",
    "using Optim"
   ]
  },
  {
   "cell_type": "code",
   "execution_count": 52,
   "metadata": {},
   "outputs": [],
   "source": [
    "delta1, delta2 = -3 , -2\n",
    "beta1, beta2 = [1 4], [2 3]\n",
    "rho = -2\n",
    "lambda = exp(rho)/(1+exp(rho))\n",
    "\n",
    "N = 1000\n",
    "Y = zeros(N,2)\n",
    "X = zeros(N,2)\n",
    "\n",
    "io = open(\"monte_carlo.csv\", \"w\")\n",
    "println(io, \"y1,y2,x1,x2\")\n",
    "\n",
    "for i=1:N\n",
    "    x1,x2 = rand(Normal(0.0, 1.0),3)\n",
    "    e1,e2 = rand(Logistic(),2)\n",
    "    select = rand(Categorical([lambda, (1-lambda)]))\n",
    "    \n",
    "    #see logit response i.e. definitely 11\n",
    "    eq = []\n",
    "    for y_init=[[0 0],[1 1],[0 1],[1 0]]\n",
    "        y1,y2 = sum(beta1.*[1 x1]) + delta1*y_init[2] + e1 >= 0, sum(beta2.*[1 x2]) +delta2*y_init[1] + e2 >= 0\n",
    "        \n",
    "        if false\n",
    "            println( \"$(1*y1) $(1*y2),$(y_init)\" )\n",
    "            println(sum(beta1.*[1 x1]) + delta1*y_init[2] + e1,\" \", sum(beta2.*[1 x2]) +delta2*y_init[1] + e2)\n",
    "            println(\"-----\")\n",
    "        end\n",
    "            \n",
    "        if (y1==y_init[1]) & (y2==y_init[2])\n",
    "            append!(eq,[y_init])\n",
    "        end\n",
    "    end\n",
    "    #println( eq )\n",
    "    #println( \"========\")\n",
    "    y1, y2 = eq[1]\n",
    "    if size(eq)[1] >= 2\n",
    "        y1, y2 = eq[select]\n",
    "    end\n",
    "    Y[i,:] =[y1 y2]\n",
    "    X[i,:] =[x1 x2]\n",
    "    println(io, \"$(y1),$(y2),$(x1),$(x2)\")\n",
    "end\n",
    "\n",
    "close(io)"
   ]
  },
  {
   "cell_type": "code",
   "execution_count": 53,
   "metadata": {
    "scrolled": false
   },
   "outputs": [
    {
     "data": {
      "text/plain": [
       "619.5547948089882"
      ]
     },
     "execution_count": 53,
     "metadata": {},
     "output_type": "execute_result"
    }
   ],
   "source": [
    "function ll_obj(params;xs=0,ys=0)\n",
    "    n = size(xs)[1]\n",
    "    k = Integer(size(X)[2]/2) + 1\n",
    "    p = zeros(2,2,n)\n",
    "\n",
    "    #solve for the conditional probability firm i does not enter\n",
    "    #index 1- firm, index2 - firm -i's action\n",
    "    for a_j=0:1\n",
    "        util1 = params[1] .+ xs[:,1].*params[2]  .+ a_j.*params[3]\n",
    "        util2 = params[4] .+ xs[:,2].*params[5]  .+ a_j.*params[6]\n",
    "        p[1,a_j+1,:] = 1 ./(1 .+ exp.(util1))\n",
    "        p[2,a_j+1,:] = 1 ./(1 .+ exp.(util2))\n",
    "    end\n",
    "    \n",
    "    lambda = exp(params[7])/(1+exp(params[7]))\n",
    " \n",
    "    #solve for probablity of nash\n",
    "    mult_eq = max.(( p[1,2,:]  .- p[1,1,:] ) .* (  p[2,2,:] .- p[2,1,:] ),0)\n",
    "    prob01 = ( p[1,2,:] ) .* ( 1 .- p[2,1,:] ) - (1-lambda).*mult_eq\n",
    "    prob10 = ( 1 .- p[1,1,:] ) .* ( p[2,2,:] ) - (lambda).*mult_eq\n",
    "    prob00 = p[1,1,:] .* p[2,1,:]\n",
    "    prob11 = ( 1 .- p[1,2,:] ) .* ( 1 .- p[2,2,:] )\n",
    "    \n",
    "    #compute empirical likelihood\n",
    "    p00 = (1 .- ys[:,1]).*(1 .- ys[:,2])\n",
    "    p11 = ys[:,1].*ys[:,2]\n",
    "    p10 = ys[:,1].* (1 .- ys[:,2])\n",
    "    p01 = (1 .- ys[:,1]) .* ys[:,2]\n",
    "    \n",
    "    ll = p00 .* prob00 + p11 .*prob11 .+ p01 .* prob01 .+ p10 .* prob10\n",
    "\n",
    "    return -sum(log.(max.(ll,0)))    \n",
    "end\n",
    "\n",
    "ll_obj([1 4 -3 2 3 -2 -2];xs=X,ys=Y)"
   ]
  },
  {
   "cell_type": "code",
   "execution_count": 54,
   "metadata": {},
   "outputs": [
    {
     "name": "stdout",
     "output_type": "stream",
     "text": [
      "0.9999092063235617\n",
      "0.4999773010656488\n",
      "1.7498865073892105"
     ]
    }
   ],
   "source": [
    "a = 10\n",
    "b =(exp(a)/(1+exp(a)))^2 + 1/4 + 1/2*exp(a)/(1+exp(a))\n",
    "println( (exp(a)/(1+exp(a)))^2 )\n",
    "println( 1/2*exp(a)/(1+exp(a)) )\n",
    "print(b)"
   ]
  },
  {
   "cell_type": "code",
   "execution_count": 55,
   "metadata": {},
   "outputs": [
    {
     "name": "stdout",
     "output_type": "stream",
     "text": [
      "[0.969911 4.02015 -2.66917 1.93822 3.00727 -1.82395 -24.6406]615.987924116095"
     ]
    }
   ],
   "source": [
    "function maximum_likelihood(params;xs=0,ys=0)\n",
    "    ll_trial(params) = ll_obj(params;xs=xs,ys=ys)\n",
    "    return optimize(ll_trial, params, LBFGS())\n",
    "end\n",
    "\n",
    "result =  maximum_likelihood([1 4 -3 2 3 -2 -2.];xs=X,ys=Y)\n",
    "print(result.minimizer)\n",
    "print(result.minimum)"
   ]
  },
  {
   "cell_type": "code",
   "execution_count": null,
   "metadata": {},
   "outputs": [],
   "source": []
  },
  {
   "cell_type": "code",
   "execution_count": null,
   "metadata": {},
   "outputs": [],
   "source": []
  }
 ],
 "metadata": {
  "kernelspec": {
   "display_name": "Julia 1.0.5",
   "language": "julia",
   "name": "julia-1.0"
  },
  "language_info": {
   "file_extension": ".jl",
   "mimetype": "application/julia",
   "name": "julia",
   "version": "1.0.5"
  }
 },
 "nbformat": 4,
 "nbformat_minor": 2
}
