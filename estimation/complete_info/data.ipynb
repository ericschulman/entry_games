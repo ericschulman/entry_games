{
 "cells": [
  {
   "cell_type": "code",
   "execution_count": 9,
   "metadata": {},
   "outputs": [],
   "source": [
    "using Distributions\n",
    "using Optim"
   ]
  },
  {
   "cell_type": "code",
   "execution_count": 10,
   "metadata": {},
   "outputs": [],
   "source": [
    "delta1, delta2 = -3 , -2\n",
    "beta1, beta2 = [1 4], [2 3]\n",
    "rho = -2\n",
    "lambda = .5\n",
    "#lambda = exp(rho)/(1+exp(rho))\n",
    "\n",
    "N = 1000\n",
    "Y = zeros(N,2)\n",
    "X = zeros(N,2)\n",
    "\n",
    "io = open(\"monte_carlo2.csv\", \"w\")\n",
    "println(io, \"y1,y2,x1,x2\")\n",
    "\n",
    "for i=1:N\n",
    "    x1,x2 = rand(Normal(0.0, 1.0),3)\n",
    "    e1,e2 = rand(Logistic(),2)\n",
    "    select = rand(Categorical([lambda, (1-lambda)]))\n",
    "    \n",
    "    #see logit response i.e. definitely 11\n",
    "    eq = []\n",
    "    for y_init=[[0 0],[1 1],[0 1],[1 0]]\n",
    "        y1,y2 = sum(beta1.*[1 x1]) + delta1*y_init[2] + e1 >= 0, sum(beta2.*[1 x2]) +delta2*y_init[1] + e2 >= 0\n",
    "        \n",
    "        if false\n",
    "            println( \"$(1*y1) $(1*y2),$(y_init)\" )\n",
    "            println(sum(beta1.*[1 x1]) + delta1*y_init[2] + e1,\" \", sum(beta2.*[1 x2]) +delta2*y_init[1] + e2)\n",
    "            println(\"-----\")\n",
    "        end\n",
    "            \n",
    "        if (y1==y_init[1]) & (y2==y_init[2])\n",
    "            append!(eq,[y_init])\n",
    "        end\n",
    "    end\n",
    "    #println( eq )\n",
    "    #println( \"========\")\n",
    "    y1, y2 = eq[1]\n",
    "    if size(eq)[1] >= 2\n",
    "        y1, y2 = eq[select]\n",
    "    end\n",
    "    Y[i,:] =[y1 y2]\n",
    "    X[i,:] =[x1 x2]\n",
    "    println(io, \"$(y1),$(y2),$(x1),$(x2)\")\n",
    "end\n",
    "\n",
    "close(io)"
   ]
  },
  {
   "cell_type": "code",
   "execution_count": 2,
   "metadata": {
    "scrolled": false
   },
   "outputs": [
    {
     "name": "stderr",
     "output_type": "stream",
     "text": [
      "Internal error: encountered unexpected error in runtime:\n",
      "InterruptException()\n",
      "jl_mutex_unlock at /buildworker/worker/package_linux64/build/src/locks.h:138 [inlined]\n",
      "jl_typeinf_end at /buildworker/worker/package_linux64/build/src/gf.c:2568\n",
      "typeinf_ext at ./compiler/typeinfer.jl:575\n",
      "typeinf_ext at ./compiler/typeinfer.jl:611\n",
      "jfptr_typeinf_ext_1.clone_1 at /home/erichschulman/julia-1.0.3/lib/julia/sys.so (unknown line)\n",
      "jl_apply_generic at /buildworker/worker/package_linux64/build/src/gf.c:2184\n",
      "jl_apply at /buildworker/worker/package_linux64/build/src/julia.h:1537 [inlined]\n",
      "jl_apply_with_saved_exception_state at /buildworker/worker/package_linux64/build/src/rtutils.c:257\n",
      "jl_type_infer at /buildworker/worker/package_linux64/build/src/gf.c:275\n",
      "jl_compile_method_internal at /buildworker/worker/package_linux64/build/src/gf.c:1786 [inlined]\n",
      "jl_fptr_trampoline at /buildworker/worker/package_linux64/build/src/gf.c:1830\n",
      "jl_apply_generic at /buildworker/worker/package_linux64/build/src/gf.c:2184\n",
      "copy at ./broadcast.jl:794\n",
      "materialize at ./broadcast.jl:756\n",
      "shift_linenum at /home/erichschulman/.julia/packages/SoftGlobalScope/u4UzH/src/SoftGlobalScope.jl:186 [inlined]\n",
      "_broadcast_getindex_evalf at ./broadcast.jl:582\n",
      "unknown function (ip: 0x7f2480140f7e)\n",
      "jl_apply_generic at /buildworker/worker/package_linux64/build/src/gf.c:2184\n",
      "_broadcast_getindex at ./broadcast.jl:555\n",
      "getindex at ./broadcast.jl:515 [inlined]\n",
      "copyto_nonleaf! at ./broadcast.jl:931\n",
      "unknown function (ip: 0x7f2480141c5c)\n",
      "jl_apply_generic at /buildworker/worker/package_linux64/build/src/gf.c:2184\n",
      "copy at ./broadcast.jl:794\n",
      "materialize at ./broadcast.jl:756\n",
      "shift_linenum at /home/erichschulman/.julia/packages/SoftGlobalScope/u4UzH/src/SoftGlobalScope.jl:186\n",
      "unknown function (ip: 0x7f248013fcde)\n",
      "add_linenum at /home/erichschulman/.julia/packages/SoftGlobalScope/u4UzH/src/SoftGlobalScope.jl:193\n",
      "unknown function (ip: 0x7f248013e8fe)\n",
      "softscope_include_string at /home/erichschulman/.julia/packages/SoftGlobalScope/u4UzH/src/SoftGlobalScope.jl:216\n",
      "execute_request at /home/erichschulman/.julia/packages/IJulia/gI2uA/src/execute_request.jl:67\n",
      "jl_fptr_trampoline at /buildworker/worker/package_linux64/build/src/gf.c:1831\n",
      "jl_apply_generic at /buildworker/worker/package_linux64/build/src/gf.c:2184\n",
      "jl_apply at /buildworker/worker/package_linux64/build/src/julia.h:1537 [inlined]\n",
      "jl_f__apply at /buildworker/worker/package_linux64/build/src/builtins.c:556\n",
      "jl_f__apply_latest at /buildworker/worker/package_linux64/build/src/builtins.c:594\n",
      "#invokelatest#1 at ./essentials.jl:697 [inlined]\n",
      "invokelatest at ./essentials.jl:696 [inlined]\n",
      "eventloop at /home/erichschulman/.julia/packages/IJulia/gI2uA/src/eventloop.jl:8\n",
      "#15 at ./task.jl:259\n",
      "jl_fptr_trampoline at /buildworker/worker/package_linux64/build/src/gf.c:1831\n",
      "jl_apply_generic at /buildworker/worker/package_linux64/build/src/gf.c:2184\n",
      "jl_apply at /buildworker/worker/package_linux64/build/src/julia.h:1537 [inlined]\n",
      "start_task at /buildworker/worker/package_linux64/build/src/task.c:268\n",
      "unknown function (ip: 0xffffffffffffffff)\n",
      "Internal error: encountered unexpected error in runtime:\n",
      "InterruptException()\n",
      "jl_mutex_unlock at /buildworker/worker/package_linux64/build/src/locks.h:138 [inlined]\n",
      "jl_typeinf_end at /buildworker/worker/package_linux64/build/src/gf.c:2568\n",
      "typeinf_ext at ./compiler/typeinfer.jl:575\n",
      "typeinf_ext at ./compiler/typeinfer.jl:611\n",
      "jfptr_typeinf_ext_1.clone_1 at /home/erichschulman/julia-1.0.3/lib/julia/sys.so (unknown line)\n",
      "jl_apply_generic at /buildworker/worker/package_linux64/build/src/gf.c:2184\n",
      "jl_apply at /buildworker/worker/package_linux64/build/src/julia.h:1537 [inlined]\n",
      "jl_apply_with_saved_exception_state at /buildworker/worker/package_linux64/build/src/rtutils.c:257\n",
      "jl_type_infer at /buildworker/worker/package_linux64/build/src/gf.c:275\n",
      "jl_compile_method_internal at /buildworker/worker/package_linux64/build/src/gf.c:1786 [inlined]\n",
      "jl_fptr_trampoline at /buildworker/worker/package_linux64/build/src/gf.c:1830\n",
      "jl_apply_generic at /buildworker/worker/package_linux64/build/src/gf.c:2184\n",
      "do_call at /buildworker/worker/package_linux64/build/src/interpreter.c:324\n",
      "eval_value at /buildworker/worker/package_linux64/build/src/interpreter.c:430\n",
      "eval_stmt_value at /buildworker/worker/package_linux64/build/src/interpreter.c:363 [inlined]\n",
      "eval_body at /buildworker/worker/package_linux64/build/src/interpreter.c:682\n",
      "jl_interpret_toplevel_thunk_callback at /buildworker/worker/package_linux64/build/src/interpreter.c:806\n",
      "unknown function (ip: 0xfffffffffffffffe)\n",
      "unknown function (ip: 0x7f2442ea6b2f)\n",
      "unknown function (ip: 0xffffffffffffffff)\n",
      "jl_interpret_toplevel_thunk at /buildworker/worker/package_linux64/build/src/interpreter.c:815\n",
      "jl_toplevel_eval_flex at /buildworker/worker/package_linux64/build/src/toplevel.c:805\n",
      "jl_toplevel_eval_in at /buildworker/worker/package_linux64/build/src/builtins.c:622\n",
      "eval at ./boot.jl:319 [inlined]\n",
      "softscope_include_string at /home/erichschulman/.julia/packages/SoftGlobalScope/u4UzH/src/SoftGlobalScope.jl:217\n",
      "execute_request at /home/erichschulman/.julia/packages/IJulia/gI2uA/src/execute_request.jl:67\n",
      "jl_fptr_trampoline at /buildworker/worker/package_linux64/build/src/gf.c:1831\n",
      "jl_apply_generic at /buildworker/worker/package_linux64/build/src/gf.c:2184\n",
      "jl_apply at /buildworker/worker/package_linux64/build/src/julia.h:1537 [inlined]\n",
      "jl_f__apply at /buildworker/worker/package_linux64/build/src/builtins.c:556\n",
      "jl_f__apply_latest at /buildworker/worker/package_linux64/build/src/builtins.c:594\n",
      "#invokelatest#1 at ./essentials.jl:697 [inlined]\n",
      "invokelatest at ./essentials.jl:696 [inlined]\n",
      "eventloop at /home/erichschulman/.julia/packages/IJulia/gI2uA/src/eventloop.jl:8\n",
      "#15 at ./task.jl:259\n",
      "jl_fptr_trampoline at /buildworker/worker/package_linux64/build/src/gf.c:1831\n",
      "jl_apply_generic at /buildworker/worker/package_linux64/build/src/gf.c:2184\n",
      "jl_apply at /buildworker/worker/package_linux64/build/src/julia.h:1537 [inlined]\n",
      "start_task at /buildworker/worker/package_linux64/build/src/task.c:268\n",
      "unknown function (ip: 0xffffffffffffffff)\n"
     ]
    },
    {
     "ename": "UndefVarError",
     "evalue": "UndefVarError: X not defined",
     "output_type": "error",
     "traceback": [
      "UndefVarError: X not defined",
      "",
      "Stacktrace:",
      " [1] top-level scope at In[2]:34"
     ]
    }
   ],
   "source": [
    "function ll_obj(params;xs=0,ys=0)\n",
    "    n = size(xs)[1]\n",
    "    k = Integer(size(X)[2]/2) + 1\n",
    "    p = zeros(2,2,n)\n",
    "\n",
    "    #solve for the conditional probability firm i does not enter\n",
    "    #index 1- firm, index2 - firm -i's action\n",
    "    for a_j=0:1\n",
    "        util1 = params[1] .+ xs[:,1].*params[2]  .+ a_j.*params[3]\n",
    "        util2 = params[4] .+ xs[:,2].*params[5]  .+ a_j.*params[6]\n",
    "        p[1,a_j+1,:] = 1 ./(1 .+ exp.(util1))\n",
    "        p[2,a_j+1,:] = 1 ./(1 .+ exp.(util2))\n",
    "    end\n",
    "    \n",
    "    lambda = exp(params[7])/(1+exp(params[7]))\n",
    " \n",
    "    #solve for probablity of nash\n",
    "    mult_eq = max.(( p[1,2,:]  .- p[1,1,:] ) .* (  p[2,2,:] .- p[2,1,:] ),0)\n",
    "    prob01 = ( p[1,2,:] ) .* ( 1 .- p[2,1,:] ) - (1-lambda).*mult_eq\n",
    "    prob10 = ( 1 .- p[1,1,:] ) .* ( p[2,2,:] ) - (lambda).*mult_eq\n",
    "    prob00 = p[1,1,:] .* p[2,1,:]\n",
    "    prob11 = ( 1 .- p[1,2,:] ) .* ( 1 .- p[2,2,:] )\n",
    "    \n",
    "    #compute empirical likelihood\n",
    "    p00 = (1 .- ys[:,1]).*(1 .- ys[:,2])\n",
    "    p11 = ys[:,1].*ys[:,2]\n",
    "    p10 = ys[:,1].* (1 .- ys[:,2])\n",
    "    p01 = (1 .- ys[:,1]) .* ys[:,2]\n",
    "    \n",
    "    ll = p00 .* prob00 + p11 .*prob11 .+ p01 .* prob01 .+ p10 .* prob10\n",
    "\n",
    "    return -sum(log.(max.(ll,0)))    \n",
    "end\n",
    "\n",
    "ll_obj([1 4 -3 2 3 -2 -2];xs=X,ys=Y)"
   ]
  },
  {
   "cell_type": "code",
   "execution_count": 3,
   "metadata": {},
   "outputs": [
    {
     "name": "stdout",
     "output_type": "stream",
     "text": [
      "0.9999092063235617\n",
      "0.4999773010656488\n",
      "1.7498865073892105"
     ]
    }
   ],
   "source": [
    "a = 10\n",
    "b =(exp(a)/(1+exp(a)))^2 + 1/4 + 1/2*exp(a)/(1+exp(a))\n",
    "println( (exp(a)/(1+exp(a)))^2 )\n",
    "println( 1/2*exp(a)/(1+exp(a)) )\n",
    "print(b)"
   ]
  },
  {
   "cell_type": "code",
   "execution_count": 55,
   "metadata": {},
   "outputs": [
    {
     "name": "stdout",
     "output_type": "stream",
     "text": [
      "[0.969911 4.02015 -2.66917 1.93822 3.00727 -1.82395 -24.6406]615.987924116095"
     ]
    }
   ],
   "source": [
    "function maximum_likelihood(params;xs=0,ys=0)\n",
    "    ll_trial(params) = ll_obj(params;xs=xs,ys=ys)\n",
    "    return optimize(ll_trial, params, LBFGS())\n",
    "end\n",
    "\n",
    "result =  maximum_likelihood([1 4 3 2 3 2 -2.];xs=X,ys=Y)\n",
    "print(result.minimizer)\n",
    "print(result.minimum)"
   ]
  },
  {
   "cell_type": "code",
   "execution_count": null,
   "metadata": {},
   "outputs": [],
   "source": []
  },
  {
   "cell_type": "code",
   "execution_count": null,
   "metadata": {},
   "outputs": [],
   "source": []
  }
 ],
 "metadata": {
  "kernelspec": {
   "display_name": "Julia 1.4.1",
   "language": "julia",
   "name": "julia-1.4"
  },
  "language_info": {
   "file_extension": ".jl",
   "mimetype": "application/julia",
   "name": "julia",
   "version": "1.4.1"
  }
 },
 "nbformat": 4,
 "nbformat_minor": 2
}
