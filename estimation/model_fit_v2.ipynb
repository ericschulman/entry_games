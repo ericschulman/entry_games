{
 "cells": [
  {
   "cell_type": "code",
   "execution_count": 1,
   "metadata": {},
   "outputs": [],
   "source": [
    "%load_ext autoreload\n",
    "%autoreload 2\n",
    "\n",
    "import numpy as np\n",
    "import pandas as pd\n",
    "import datetime\n",
    "#graphing\n",
    "import matplotlib.pyplot as plt\n",
    "#stats\n",
    "import statsmodels.api as sm\n",
    "from statsmodels.base.model import GenericLikelihoodModel\n",
    "\n",
    "#import testing\n",
    "import sys\n",
    "sys.path.append(\"../\")\n",
    "import selection_tests"
   ]
  },
  {
   "cell_type": "code",
   "execution_count": 8,
   "metadata": {},
   "outputs": [],
   "source": [
    "entry_data = pd.read_csv(\"entry.csv\",sep='\\t')\n",
    "entry_data = entry_data.dropna()\n",
    "entry_data['HD_1'] = 1*(entry_data['HD'] > 0)\n",
    "entry_data['LOW_1'] = 1*(entry_data['LOW'] > 0)\n",
    "entry_data['income_2'] = np.log(1 + entry_data['income_per_capita'])\n",
    "entry_data['population_2'] = np.log(1 + entry_data['population'])\n",
    "entry_data = entry_data[ (entry_data['population']>=2000) & (entry_data['income_per_capita']>=15000) ]"
   ]
  },
  {
   "cell_type": "code",
   "execution_count": 23,
   "metadata": {},
   "outputs": [
    {
     "name": "stdout",
     "output_type": "stream",
     "text": [
      "Warning: Maximum number of iterations has been exceeded.\n"
     ]
    },
    {
     "name": "stderr",
     "output_type": "stream",
     "text": [
      "/home/erichschulman/anaconda3/lib/python3.7/site-packages/statsmodels/base/model.py:512: ConvergenceWarning: Maximum Likelihood optimization failed to converge. Check mle_retvals\n",
      "  \"Check mle_retvals\", ConvergenceWarning)\n"
     ]
    },
    {
     "data": {
      "text/html": [
       "<table class=\"simpletable\">\n",
       "<caption>NashLogit Results</caption>\n",
       "<tr>\n",
       "  <th>Dep. Variable:</th>     <td>['HD_1', 'LOW_1']</td> <th>  Log-Likelihood:    </th> <td> -5825.2</td> \n",
       "</tr>\n",
       "<tr>\n",
       "  <th>Model:</th>                 <td>NashLogit</td>     <th>  AIC:               </th> <td>1.165e+04</td>\n",
       "</tr>\n",
       "<tr>\n",
       "  <th>Method:</th>           <td>Maximum Likelihood</td> <th>  BIC:               </th> <td>1.167e+04</td>\n",
       "</tr>\n",
       "<tr>\n",
       "  <th>Date:</th>              <td>Wed, 12 May 2021</td>  <th>                     </th>     <td> </td>    \n",
       "</tr>\n",
       "<tr>\n",
       "  <th>Time:</th>                  <td>18:18:34</td>      <th>                     </th>     <td> </td>    \n",
       "</tr>\n",
       "<tr>\n",
       "  <th>No. Observations:</th>       <td> 10612</td>       <th>                     </th>     <td> </td>    \n",
       "</tr>\n",
       "<tr>\n",
       "  <th>Df Residuals:</th>           <td> 10610</td>       <th>                     </th>     <td> </td>    \n",
       "</tr>\n",
       "<tr>\n",
       "  <th>Df Model:</th>               <td>     1</td>       <th>                     </th>     <td> </td>    \n",
       "</tr>\n",
       "</table>\n",
       "<table class=\"simpletable\">\n",
       "<tr>\n",
       "        <td></td>          <th>coef</th>     <th>std err</th>      <th>z</th>      <th>P>|z|</th>  <th>[0.025</th>    <th>0.975]</th>  \n",
       "</tr>\n",
       "<tr>\n",
       "  <th>income_2</th>     <td>   -1.3215</td> <td>    0.031</td> <td>  -43.270</td> <td> 0.000</td> <td>   -1.381</td> <td>   -1.262</td>\n",
       "</tr>\n",
       "<tr>\n",
       "  <th>population_2</th> <td>    1.2294</td> <td>    0.032</td> <td>   38.827</td> <td> 0.000</td> <td>    1.167</td> <td>    1.291</td>\n",
       "</tr>\n",
       "<tr>\n",
       "  <th>income_2</th>     <td>   -0.9915</td> <td>    0.031</td> <td>  -32.084</td> <td> 0.000</td> <td>   -1.052</td> <td>   -0.931</td>\n",
       "</tr>\n",
       "<tr>\n",
       "  <th>population_2</th> <td>    0.8209</td> <td>    0.033</td> <td>   24.748</td> <td> 0.000</td> <td>    0.756</td> <td>    0.886</td>\n",
       "</tr>\n",
       "<tr>\n",
       "  <th>par0</th>         <td>    1.6982</td> <td>    0.080</td> <td>   21.259</td> <td> 0.000</td> <td>    1.542</td> <td>    1.855</td>\n",
       "</tr>\n",
       "<tr>\n",
       "  <th>par1</th>         <td> 3.876e-06</td> <td>    0.000</td> <td>    0.012</td> <td> 0.991</td> <td>   -0.001</td> <td>    0.001</td>\n",
       "</tr>\n",
       "</table>"
      ],
      "text/plain": [
       "<class 'statsmodels.iolib.summary.Summary'>\n",
       "\"\"\"\n",
       "                              NashLogit Results                               \n",
       "==============================================================================\n",
       "Dep. Variable:      ['HD_1', 'LOW_1']   Log-Likelihood:                -5825.2\n",
       "Model:                      NashLogit   AIC:                         1.165e+04\n",
       "Method:            Maximum Likelihood   BIC:                         1.167e+04\n",
       "Date:                Wed, 12 May 2021                                         \n",
       "Time:                        18:18:34                                         \n",
       "No. Observations:               10612                                         \n",
       "Df Residuals:                   10610                                         \n",
       "Df Model:                           1                                         \n",
       "================================================================================\n",
       "                   coef    std err          z      P>|z|      [0.025      0.975]\n",
       "--------------------------------------------------------------------------------\n",
       "income_2        -1.3215      0.031    -43.270      0.000      -1.381      -1.262\n",
       "population_2     1.2294      0.032     38.827      0.000       1.167       1.291\n",
       "income_2        -0.9915      0.031    -32.084      0.000      -1.052      -0.931\n",
       "population_2     0.8209      0.033     24.748      0.000       0.756       0.886\n",
       "par0             1.6982      0.080     21.259      0.000       1.542       1.855\n",
       "par1          3.876e-06      0.000      0.012      0.991      -0.001       0.001\n",
       "================================================================================\n",
       "\"\"\""
      ]
     },
     "execution_count": 23,
     "metadata": {},
     "output_type": "execute_result"
    }
   ],
   "source": [
    "# Fit the NashLogit model\n",
    "x = entry_data[['income_2','population_2','income_2','population_2']].copy()\n",
    "#x.insert(0,'const1',np.ones(entry_data.shape[0]))\n",
    "#x.insert(3,'const2',np.ones(entry_data.shape[0]))\n",
    "y = entry_data[['HD_1','LOW_1']]\n",
    "NashLogit_model = selection_tests.NashLogit(y,x).fit(xtol=1e-6,ftol=1e-6)\n",
    "NashLogit_model.summary()"
   ]
  },
  {
   "cell_type": "code",
   "execution_count": 24,
   "metadata": {},
   "outputs": [
    {
     "name": "stdout",
     "output_type": "stream",
     "text": [
      "Warning: Maximum number of iterations has been exceeded.\n"
     ]
    },
    {
     "name": "stderr",
     "output_type": "stream",
     "text": [
      "/home/erichschulman/anaconda3/lib/python3.7/site-packages/statsmodels/base/model.py:512: ConvergenceWarning: Maximum Likelihood optimization failed to converge. Check mle_retvals\n",
      "  \"Check mle_retvals\", ConvergenceWarning)\n"
     ]
    },
    {
     "data": {
      "text/html": [
       "<table class=\"simpletable\">\n",
       "<caption>BayesNashLogit Results</caption>\n",
       "<tr>\n",
       "  <th>Dep. Variable:</th>     <td>['HD_1', 'LOW_1']</td> <th>  Log-Likelihood:    </th> <td> -6046.4</td> \n",
       "</tr>\n",
       "<tr>\n",
       "  <th>Model:</th>              <td>BayesNashLogit</td>   <th>  AIC:               </th> <td>1.210e+04</td>\n",
       "</tr>\n",
       "<tr>\n",
       "  <th>Method:</th>           <td>Maximum Likelihood</td> <th>  BIC:               </th> <td>1.211e+04</td>\n",
       "</tr>\n",
       "<tr>\n",
       "  <th>Date:</th>              <td>Wed, 12 May 2021</td>  <th>                     </th>     <td> </td>    \n",
       "</tr>\n",
       "<tr>\n",
       "  <th>Time:</th>                  <td>18:19:57</td>      <th>                     </th>     <td> </td>    \n",
       "</tr>\n",
       "<tr>\n",
       "  <th>No. Observations:</th>       <td> 10612</td>       <th>                     </th>     <td> </td>    \n",
       "</tr>\n",
       "<tr>\n",
       "  <th>Df Residuals:</th>           <td> 10610</td>       <th>                     </th>     <td> </td>    \n",
       "</tr>\n",
       "<tr>\n",
       "  <th>Df Model:</th>               <td>     1</td>       <th>                     </th>     <td> </td>    \n",
       "</tr>\n",
       "</table>\n",
       "<table class=\"simpletable\">\n",
       "<tr>\n",
       "        <td></td>          <th>coef</th>     <th>std err</th>      <th>z</th>      <th>P>|z|</th>  <th>[0.025</th>    <th>0.975]</th>  \n",
       "</tr>\n",
       "<tr>\n",
       "  <th>income_2</th>     <td>   -1.3363</td> <td>    0.107</td> <td>  -12.446</td> <td> 0.000</td> <td>   -1.547</td> <td>   -1.126</td>\n",
       "</tr>\n",
       "<tr>\n",
       "  <th>population_2</th> <td>    1.2318</td> <td>    0.032</td> <td>   38.724</td> <td> 0.000</td> <td>    1.169</td> <td>    1.294</td>\n",
       "</tr>\n",
       "<tr>\n",
       "  <th>income_2</th>     <td>   -1.2570</td> <td>    0.106</td> <td>  -11.825</td> <td> 0.000</td> <td>   -1.465</td> <td>   -1.049</td>\n",
       "</tr>\n",
       "<tr>\n",
       "  <th>population_2</th> <td>    1.1097</td> <td>    0.030</td> <td>   36.448</td> <td> 0.000</td> <td>    1.050</td> <td>    1.169</td>\n",
       "</tr>\n",
       "<tr>\n",
       "  <th>par0</th>         <td>    3.0393</td> <td>    8.191</td> <td>    0.371</td> <td> 0.711</td> <td>  -13.014</td> <td>   19.093</td>\n",
       "</tr>\n",
       "<tr>\n",
       "  <th>par1</th>         <td>    1.0292</td> <td>    8.919</td> <td>    0.115</td> <td> 0.908</td> <td>  -16.452</td> <td>   18.511</td>\n",
       "</tr>\n",
       "</table>"
      ],
      "text/plain": [
       "<class 'statsmodels.iolib.summary.Summary'>\n",
       "\"\"\"\n",
       "                            BayesNashLogit Results                            \n",
       "==============================================================================\n",
       "Dep. Variable:      ['HD_1', 'LOW_1']   Log-Likelihood:                -6046.4\n",
       "Model:                 BayesNashLogit   AIC:                         1.210e+04\n",
       "Method:            Maximum Likelihood   BIC:                         1.211e+04\n",
       "Date:                Wed, 12 May 2021                                         \n",
       "Time:                        18:19:57                                         \n",
       "No. Observations:               10612                                         \n",
       "Df Residuals:                   10610                                         \n",
       "Df Model:                           1                                         \n",
       "================================================================================\n",
       "                   coef    std err          z      P>|z|      [0.025      0.975]\n",
       "--------------------------------------------------------------------------------\n",
       "income_2        -1.3363      0.107    -12.446      0.000      -1.547      -1.126\n",
       "population_2     1.2318      0.032     38.724      0.000       1.169       1.294\n",
       "income_2        -1.2570      0.106    -11.825      0.000      -1.465      -1.049\n",
       "population_2     1.1097      0.030     36.448      0.000       1.050       1.169\n",
       "par0             3.0393      8.191      0.371      0.711     -13.014      19.093\n",
       "par1             1.0292      8.919      0.115      0.908     -16.452      18.511\n",
       "================================================================================\n",
       "\"\"\""
      ]
     },
     "execution_count": 24,
     "metadata": {},
     "output_type": "execute_result"
    }
   ],
   "source": [
    "# Fit the BayesNashLogit model\n",
    "x = entry_data[['income_2','population_2','income_2','population_2']].copy()\n",
    "#x.insert(0,'const1',np.ones(entry_data.shape[0]))\n",
    "#x.insert(3,'const2',np.ones(entry_data.shape[0]))\n",
    "y = entry_data[['HD_1','LOW_1']]\n",
    "BayesNashLogit_model = selection_tests.BayesNashLogit(y,x).fit(xtol=1e-6,ftol=1e-6)\n",
    "BayesNashLogit_model.summary()"
   ]
  },
  {
   "cell_type": "code",
   "execution_count": 26,
   "metadata": {},
   "outputs": [
    {
     "name": "stderr",
     "output_type": "stream",
     "text": [
      "/home/erichschulman/anaconda3/lib/python3.7/site-packages/statsmodels/base/model.py:512: ConvergenceWarning: Maximum Likelihood optimization failed to converge. Check mle_retvals\n",
      "  \"Check mle_retvals\", ConvergenceWarning)\n"
     ]
    },
    {
     "data": {
      "text/plain": [
       "1"
      ]
     },
     "execution_count": 26,
     "metadata": {},
     "output_type": "execute_result"
    }
   ],
   "source": [
    "# Fit the regular test model\n",
    "x = entry_data[['income_2','population_2','income_2','population_2']].copy()\n",
    "y = entry_data[['HD_1','LOW_1']]\n",
    "regular_test_model = selection_tests.regular_test(y,x,selection_tests.setup_test)\n",
    "regular_test_model"
   ]
  },
  {
   "cell_type": "code",
   "execution_count": 27,
   "metadata": {},
   "outputs": [
    {
     "name": "stderr",
     "output_type": "stream",
     "text": [
      "/home/erichschulman/anaconda3/lib/python3.7/site-packages/statsmodels/base/model.py:512: ConvergenceWarning: Maximum Likelihood optimization failed to converge. Check mle_retvals\n",
      "  \"Check mle_retvals\", ConvergenceWarning)\n"
     ]
    },
    {
     "data": {
      "text/plain": [
       "1"
      ]
     },
     "execution_count": 27,
     "metadata": {},
     "output_type": "execute_result"
    }
   ],
   "source": [
    "# Fit the bootstrap test model\n",
    "x = entry_data[['income_2','population_2','income_2','population_2']].copy()\n",
    "y = entry_data[['HD_1','LOW_1']]\n",
    "bootstrap_test_model = selection_tests.bootstrap_test(y,x,selection_tests.setup_test, trials=100)\n",
    "bootstrap_test_model"
   ]
  },
  {
   "cell_type": "code",
   "execution_count": 9,
   "metadata": {},
   "outputs": [],
   "source": [
    "# Add warehouse data\n",
    "entry2_data = pd.read_csv(\"entry_loc2.csv\")\n",
    "entry2_data = entry2_data.dropna()\n",
    "entry2_data['HD_1'] = 1*(entry2_data['HD'] > 0)\n",
    "entry2_data['LOW_1'] = 1*(entry2_data['LOW'] > 0)\n",
    "entry2_data['income_2'] = np.log(1 + entry2_data['income_per_capita'])\n",
    "entry2_data['population_2'] = np.log(1 + entry2_data['population'])\n",
    "entry2_data = entry2_data[(entry2_data['population']>=2000) & (entry2_data['income_per_capita']>=15000)]"
   ]
  },
  {
   "cell_type": "code",
   "execution_count": 3,
   "metadata": {},
   "outputs": [
    {
     "name": "stderr",
     "output_type": "stream",
     "text": [
      "C:\\Users\\himan\\git\\entry\\estimation\\selection_tests.py:28: RuntimeWarning: overflow encountered in exp\n",
      "  p[0, a_j, :] = 1 / (1 + np.exp(util1))\n",
      "C:\\Users\\himan\\git\\entry\\estimation\\selection_tests.py:29: RuntimeWarning: overflow encountered in exp\n",
      "  p[1, a_j, :] = 1 / (1 + np.exp(util2))\n"
     ]
    },
    {
     "name": "stdout",
     "output_type": "stream",
     "text": [
      "Warning: Maximum number of iterations has been exceeded.\n"
     ]
    },
    {
     "name": "stderr",
     "output_type": "stream",
     "text": [
      "C:\\Users\\himan\\anaconda3\\lib\\site-packages\\statsmodels\\base\\model.py:547: HessianInversionWarning: Inverting hessian failed, no bse or cov_params available\n",
      "  warn('Inverting hessian failed, no bse or cov_params '\n",
      "C:\\Users\\himan\\anaconda3\\lib\\site-packages\\statsmodels\\base\\model.py:567: ConvergenceWarning: Maximum Likelihood optimization failed to converge. Check mle_retvals\n",
      "  warn(\"Maximum Likelihood optimization failed to converge. \"\n",
      "C:\\Users\\himan\\anaconda3\\lib\\site-packages\\scipy\\stats\\_distn_infrastructure.py:1932: RuntimeWarning: invalid value encountered in less_equal\n",
      "  cond2 = cond0 & (x <= _a)\n"
     ]
    },
    {
     "data": {
      "text/html": [
       "<table class=\"simpletable\">\n",
       "<caption>NashLogit Results</caption>\n",
       "<tr>\n",
       "  <th>Dep. Variable:</th>     <td>['HD_1', 'LOW_1']</td> <th>  Log-Likelihood:    </th> <td>-1.7623e+05</td>\n",
       "</tr>\n",
       "<tr>\n",
       "  <th>Model:</th>                 <td>NashLogit</td>     <th>  AIC:               </th>  <td>3.525e+05</td> \n",
       "</tr>\n",
       "<tr>\n",
       "  <th>Method:</th>           <td>Maximum Likelihood</td> <th>  BIC:               </th>  <td>3.525e+05</td> \n",
       "</tr>\n",
       "<tr>\n",
       "  <th>Date:</th>              <td>Mon, 14 Jun 2021</td>  <th>                     </th>      <td> </td>     \n",
       "</tr>\n",
       "<tr>\n",
       "  <th>Time:</th>                  <td>22:57:35</td>      <th>                     </th>      <td> </td>     \n",
       "</tr>\n",
       "<tr>\n",
       "  <th>No. Observations:</th>       <td>  7518</td>       <th>                     </th>      <td> </td>     \n",
       "</tr>\n",
       "<tr>\n",
       "  <th>Df Residuals:</th>           <td>  7514</td>       <th>                     </th>      <td> </td>     \n",
       "</tr>\n",
       "<tr>\n",
       "  <th>Df Model:</th>               <td>     3</td>       <th>                     </th>      <td> </td>     \n",
       "</tr>\n",
       "</table>\n",
       "<table class=\"simpletable\">\n",
       "<tr>\n",
       "             <td></td>               <th>coef</th>     <th>std err</th>      <th>z</th>      <th>P>|z|</th>  <th>[0.025</th>    <th>0.975]</th>  \n",
       "</tr>\n",
       "<tr>\n",
       "  <th>income_2</th>               <td>   -0.9046</td> <td>      nan</td> <td>      nan</td> <td>   nan</td> <td>      nan</td> <td>      nan</td>\n",
       "</tr>\n",
       "<tr>\n",
       "  <th>population_2</th>           <td>    0.8722</td> <td>      nan</td> <td>      nan</td> <td>   nan</td> <td>      nan</td> <td>      nan</td>\n",
       "</tr>\n",
       "<tr>\n",
       "  <th>hd warehouse distance</th>  <td>-6.738e-05</td> <td>      nan</td> <td>      nan</td> <td>   nan</td> <td>      nan</td> <td>      nan</td>\n",
       "</tr>\n",
       "<tr>\n",
       "  <th>income_2</th>               <td>    2.6389</td> <td>      nan</td> <td>      nan</td> <td>   nan</td> <td>      nan</td> <td>      nan</td>\n",
       "</tr>\n",
       "<tr>\n",
       "  <th>population_2</th>           <td>    0.7734</td> <td>      nan</td> <td>      nan</td> <td>   nan</td> <td>      nan</td> <td>      nan</td>\n",
       "</tr>\n",
       "<tr>\n",
       "  <th>low warehouse distance</th> <td>    1.4603</td> <td>      nan</td> <td>      nan</td> <td>   nan</td> <td>      nan</td> <td>      nan</td>\n",
       "</tr>\n",
       "<tr>\n",
       "  <th>par0</th>                   <td>    2.4024</td> <td>      nan</td> <td>      nan</td> <td>   nan</td> <td>      nan</td> <td>      nan</td>\n",
       "</tr>\n",
       "<tr>\n",
       "  <th>par1</th>                   <td>    0.4750</td> <td>      nan</td> <td>      nan</td> <td>   nan</td> <td>      nan</td> <td>      nan</td>\n",
       "</tr>\n",
       "</table>"
      ],
      "text/plain": [
       "<class 'statsmodels.iolib.summary.Summary'>\n",
       "\"\"\"\n",
       "                              NashLogit Results                               \n",
       "==============================================================================\n",
       "Dep. Variable:      ['HD_1', 'LOW_1']   Log-Likelihood:            -1.7623e+05\n",
       "Model:                      NashLogit   AIC:                         3.525e+05\n",
       "Method:            Maximum Likelihood   BIC:                         3.525e+05\n",
       "Date:                Mon, 14 Jun 2021                                         \n",
       "Time:                        22:57:35                                         \n",
       "No. Observations:                7518                                         \n",
       "Df Residuals:                    7514                                         \n",
       "Df Model:                           3                                         \n",
       "==========================================================================================\n",
       "                             coef    std err          z      P>|z|      [0.025      0.975]\n",
       "------------------------------------------------------------------------------------------\n",
       "income_2                  -0.9046        nan        nan        nan         nan         nan\n",
       "population_2               0.8722        nan        nan        nan         nan         nan\n",
       "hd warehouse distance  -6.738e-05        nan        nan        nan         nan         nan\n",
       "income_2                   2.6389        nan        nan        nan         nan         nan\n",
       "population_2               0.7734        nan        nan        nan         nan         nan\n",
       "low warehouse distance     1.4603        nan        nan        nan         nan         nan\n",
       "par0                       2.4024        nan        nan        nan         nan         nan\n",
       "par1                       0.4750        nan        nan        nan         nan         nan\n",
       "==========================================================================================\n",
       "\"\"\""
      ]
     },
     "execution_count": 3,
     "metadata": {},
     "output_type": "execute_result"
    }
   ],
   "source": [
    "# Fit the NashLogit model\n",
    "x = entry2_data[['income_2','population_2','hd warehouse distance', 'income_2','population_2','low warehouse distance']].copy()\n",
    "y = entry2_data[['HD_1','LOW_1']]\n",
    "NashLogit_model = selection_tests.NashLogit(y,x).fit(xtol=1e-6,ftol=1e-6)\n",
    "NashLogit_model.summary()"
   ]
  },
  {
   "cell_type": "code",
   "execution_count": 4,
   "metadata": {},
   "outputs": [
    {
     "name": "stderr",
     "output_type": "stream",
     "text": [
      "C:\\Users\\himan\\git\\entry\\estimation\\selection_tests.py:70: RuntimeWarning: overflow encountered in exp\n",
      "  contr_result = [np.exp(util1)/(1+np.exp(util1)),\n",
      "C:\\Users\\himan\\git\\entry\\estimation\\selection_tests.py:70: RuntimeWarning: invalid value encountered in true_divide\n",
      "  contr_result = [np.exp(util1)/(1+np.exp(util1)),\n",
      "C:\\Users\\himan\\git\\entry\\estimation\\selection_tests.py:71: RuntimeWarning: overflow encountered in exp\n",
      "  np.exp(util2)/(1+np.exp(util2))]\n",
      "C:\\Users\\himan\\git\\entry\\estimation\\selection_tests.py:71: RuntimeWarning: invalid value encountered in true_divide\n",
      "  np.exp(util2)/(1+np.exp(util2))]\n"
     ]
    },
    {
     "name": "stdout",
     "output_type": "stream",
     "text": [
      "Warning: Maximum number of iterations has been exceeded.\n"
     ]
    },
    {
     "name": "stderr",
     "output_type": "stream",
     "text": [
      "C:\\Users\\himan\\anaconda3\\lib\\site-packages\\statsmodels\\base\\model.py:547: HessianInversionWarning: Inverting hessian failed, no bse or cov_params available\n",
      "  warn('Inverting hessian failed, no bse or cov_params '\n",
      "C:\\Users\\himan\\anaconda3\\lib\\site-packages\\statsmodels\\base\\model.py:567: ConvergenceWarning: Maximum Likelihood optimization failed to converge. Check mle_retvals\n",
      "  warn(\"Maximum Likelihood optimization failed to converge. \"\n"
     ]
    },
    {
     "data": {
      "text/html": [
       "<table class=\"simpletable\">\n",
       "<caption>BayesNashLogit Results</caption>\n",
       "<tr>\n",
       "  <th>Dep. Variable:</th>     <td>['HD_1', 'LOW_1']</td> <th>  Log-Likelihood:    </th> <td>     nan</td>\n",
       "</tr>\n",
       "<tr>\n",
       "  <th>Model:</th>              <td>BayesNashLogit</td>   <th>  AIC:               </th> <td>     nan</td>\n",
       "</tr>\n",
       "<tr>\n",
       "  <th>Method:</th>           <td>Maximum Likelihood</td> <th>  BIC:               </th> <td>     nan</td>\n",
       "</tr>\n",
       "<tr>\n",
       "  <th>Date:</th>              <td>Mon, 14 Jun 2021</td>  <th>                     </th>     <td> </td>   \n",
       "</tr>\n",
       "<tr>\n",
       "  <th>Time:</th>                  <td>23:00:18</td>      <th>                     </th>     <td> </td>   \n",
       "</tr>\n",
       "<tr>\n",
       "  <th>No. Observations:</th>       <td>  7518</td>       <th>                     </th>     <td> </td>   \n",
       "</tr>\n",
       "<tr>\n",
       "  <th>Df Residuals:</th>           <td>  7514</td>       <th>                     </th>     <td> </td>   \n",
       "</tr>\n",
       "<tr>\n",
       "  <th>Df Model:</th>               <td>     3</td>       <th>                     </th>     <td> </td>   \n",
       "</tr>\n",
       "</table>\n",
       "<table class=\"simpletable\">\n",
       "<tr>\n",
       "             <td></td>               <th>coef</th>     <th>std err</th>      <th>z</th>      <th>P>|z|</th>  <th>[0.025</th>    <th>0.975]</th>  \n",
       "</tr>\n",
       "<tr>\n",
       "  <th>income_2</th>               <td>    1.0000</td> <td>      nan</td> <td>      nan</td> <td>   nan</td> <td>      nan</td> <td>      nan</td>\n",
       "</tr>\n",
       "<tr>\n",
       "  <th>population_2</th>           <td>    1.0000</td> <td>      nan</td> <td>      nan</td> <td>   nan</td> <td>      nan</td> <td>      nan</td>\n",
       "</tr>\n",
       "<tr>\n",
       "  <th>hd warehouse distance</th>  <td>    1.0000</td> <td>      nan</td> <td>      nan</td> <td>   nan</td> <td>      nan</td> <td>      nan</td>\n",
       "</tr>\n",
       "<tr>\n",
       "  <th>income_2</th>               <td>    1.0000</td> <td>      nan</td> <td>      nan</td> <td>   nan</td> <td>      nan</td> <td>      nan</td>\n",
       "</tr>\n",
       "<tr>\n",
       "  <th>population_2</th>           <td>    1.0000</td> <td>      nan</td> <td>      nan</td> <td>   nan</td> <td>      nan</td> <td>      nan</td>\n",
       "</tr>\n",
       "<tr>\n",
       "  <th>low warehouse distance</th> <td>    1.0000</td> <td>      nan</td> <td>      nan</td> <td>   nan</td> <td>      nan</td> <td>      nan</td>\n",
       "</tr>\n",
       "<tr>\n",
       "  <th>par0</th>                   <td>    1.0000</td> <td>      nan</td> <td>      nan</td> <td>   nan</td> <td>      nan</td> <td>      nan</td>\n",
       "</tr>\n",
       "<tr>\n",
       "  <th>par1</th>                   <td>    1.0000</td> <td>      nan</td> <td>      nan</td> <td>   nan</td> <td>      nan</td> <td>      nan</td>\n",
       "</tr>\n",
       "</table>"
      ],
      "text/plain": [
       "<class 'statsmodels.iolib.summary.Summary'>\n",
       "\"\"\"\n",
       "                            BayesNashLogit Results                            \n",
       "==============================================================================\n",
       "Dep. Variable:      ['HD_1', 'LOW_1']   Log-Likelihood:                    nan\n",
       "Model:                 BayesNashLogit   AIC:                               nan\n",
       "Method:            Maximum Likelihood   BIC:                               nan\n",
       "Date:                Mon, 14 Jun 2021                                         \n",
       "Time:                        23:00:18                                         \n",
       "No. Observations:                7518                                         \n",
       "Df Residuals:                    7514                                         \n",
       "Df Model:                           3                                         \n",
       "==========================================================================================\n",
       "                             coef    std err          z      P>|z|      [0.025      0.975]\n",
       "------------------------------------------------------------------------------------------\n",
       "income_2                   1.0000        nan        nan        nan         nan         nan\n",
       "population_2               1.0000        nan        nan        nan         nan         nan\n",
       "hd warehouse distance      1.0000        nan        nan        nan         nan         nan\n",
       "income_2                   1.0000        nan        nan        nan         nan         nan\n",
       "population_2               1.0000        nan        nan        nan         nan         nan\n",
       "low warehouse distance     1.0000        nan        nan        nan         nan         nan\n",
       "par0                       1.0000        nan        nan        nan         nan         nan\n",
       "par1                       1.0000        nan        nan        nan         nan         nan\n",
       "==========================================================================================\n",
       "\"\"\""
      ]
     },
     "execution_count": 4,
     "metadata": {},
     "output_type": "execute_result"
    }
   ],
   "source": [
    "# Fit the BayesNashLogit model\n",
    "x = entry2_data[['income_2','population_2','hd warehouse distance', 'income_2','population_2','low warehouse distance']].copy()\n",
    "y = entry2_data[['HD_1','LOW_1']]\n",
    "BayesNashLogit_model = selection_tests.BayesNashLogit(y,x).fit(xtol=1e-6,ftol=1e-6)\n",
    "BayesNashLogit_model.summary()"
   ]
  },
  {
   "cell_type": "code",
   "execution_count": 5,
   "metadata": {},
   "outputs": [
    {
     "name": "stderr",
     "output_type": "stream",
     "text": [
      "C:\\Users\\himan\\anaconda3\\lib\\site-packages\\statsmodels\\base\\model.py:547: HessianInversionWarning: Inverting hessian failed, no bse or cov_params available\n",
      "  warn('Inverting hessian failed, no bse or cov_params '\n",
      "C:\\Users\\himan\\anaconda3\\lib\\site-packages\\statsmodels\\base\\model.py:547: HessianInversionWarning: Inverting hessian failed, no bse or cov_params available\n",
      "  warn('Inverting hessian failed, no bse or cov_params '\n",
      "C:\\Users\\himan\\anaconda3\\lib\\site-packages\\statsmodels\\base\\model.py:567: ConvergenceWarning: Maximum Likelihood optimization failed to converge. Check mle_retvals\n",
      "  warn(\"Maximum Likelihood optimization failed to converge. \"\n"
     ]
    },
    {
     "data": {
      "text/plain": [
       "0"
      ]
     },
     "execution_count": 5,
     "metadata": {},
     "output_type": "execute_result"
    }
   ],
   "source": [
    "# Fit the regular test model\n",
    "x = entry2_data[['income_2','population_2','hd warehouse distance', 'income_2','population_2','low warehouse distance']].copy()\n",
    "y = entry2_data[['HD_1','LOW_1']]\n",
    "regular_test_model = selection_tests.regular_test(y,x,selection_tests.setup_test)\n",
    "regular_test_model"
   ]
  },
  {
   "cell_type": "code",
   "execution_count": 11,
   "metadata": {},
   "outputs": [
    {
     "name": "stderr",
     "output_type": "stream",
     "text": [
      "C:\\Users\\himan\\anaconda3\\lib\\site-packages\\statsmodels\\base\\model.py:567: ConvergenceWarning: Maximum Likelihood optimization failed to converge. Check mle_retvals\n",
      "  warn(\"Maximum Likelihood optimization failed to converge. \"\n"
     ]
    },
    {
     "data": {
      "text/plain": [
       "2"
      ]
     },
     "execution_count": 11,
     "metadata": {},
     "output_type": "execute_result"
    }
   ],
   "source": [
    "# Fit the bootstrap test model\n",
    "x = entry2_data[['income_2','population_2', 'income_2','population_2']].copy()\n",
    "y = entry2_data[['HD_1','LOW_1']]\n",
    "bootstrap_test_model = selection_tests.bootstrap_test(y,x,selection_tests.setup_test, trials=100)\n",
    "bootstrap_test_model"
   ]
  },
  {
   "cell_type": "code",
   "execution_count": null,
   "metadata": {},
   "outputs": [],
   "source": []
  }
 ],
 "metadata": {
  "kernelspec": {
   "display_name": "Python 3",
   "language": "python",
   "name": "python3"
  },
  "language_info": {
   "codemirror_mode": {
    "name": "ipython",
    "version": 3
   },
   "file_extension": ".py",
   "mimetype": "text/x-python",
   "name": "python",
   "nbconvert_exporter": "python",
   "pygments_lexer": "ipython3",
   "version": "3.8.3"
  }
 },
 "nbformat": 4,
 "nbformat_minor": 4
}
