{
 "cells": [
  {
   "cell_type": "code",
   "execution_count": 7,
   "metadata": {},
   "outputs": [
    {
     "name": "stdout",
     "output_type": "stream",
     "text": [
      "The autoreload extension is already loaded. To reload it, use:\n",
      "  %reload_ext autoreload\n"
     ]
    }
   ],
   "source": [
    "%load_ext autoreload\n",
    "%autoreload 2\n",
    "\n",
    "import numpy as np\n",
    "import pandas as pd\n",
    "import datetime\n",
    "#graphing\n",
    "import matplotlib.pyplot as plt\n",
    "#stats\n",
    "import statsmodels.api as sm\n",
    "from statsmodels.base.model import GenericLikelihoodModel\n",
    "\n",
    "#import testing\n",
    "import sys\n",
    "sys.path.append(\"../\")\n",
    "import selection_tests"
   ]
  },
  {
   "cell_type": "code",
   "execution_count": 8,
   "metadata": {},
   "outputs": [],
   "source": [
    "# Add warehouse data\n",
    "entry2_data = pd.read_csv(\"entry_loc2.csv\")\n",
    "entry2_data = entry2_data.dropna()\n",
    "entry2_data['HD entry'] = 1*(entry2_data['HD'] > 0)\n",
    "entry2_data['LOW entry'] = 1*(entry2_data['LOW'] > 0)\n",
    "entry2_data['log income'] = np.log(1 + entry2_data['income_per_capita'])\n",
    "entry2_data['log population'] = np.log(1 + entry2_data['population'])\n",
    "entry2_data['log hd warehouse'] = np.log(1 + entry2_data['hd warehouse distance'])\n",
    "entry2_data['log low warehouse'] = np.log(1 + entry2_data['low warehouse distance'])\n",
    "entry2_data = entry2_data[(entry2_data['population']>=10000) & (entry2_data['income_per_capita']>=15000)]\n",
    "entry2_data = entry2_data[(entry2_data['lon'] <= -30) & (entry2_data['lat'] >= 25) ]\n",
    "entry2_data = sm.add_constant(entry2_data)"
   ]
  },
  {
   "cell_type": "code",
   "execution_count": 17,
   "metadata": {},
   "outputs": [
    {
     "name": "stdout",
     "output_type": "stream",
     "text": [
      "Optimization terminated successfully.\n",
      "         Current function value: 0.516223\n",
      "         Iterations 6\n",
      "Optimization terminated successfully.\n",
      "         Current function value: 0.521237\n",
      "         Iterations 6\n",
      "[-1.09364059e+01 -5.08298059e-03  9.45608270e-01  8.33899479e-03\n",
      "  4.47877722e+00 -1.15220618e+00  5.79471773e-01  5.06419108e-03\n",
      "  1.33141327e+00  1.35747936e+00]\n",
      "Warning: Maximum number of iterations has been exceeded.\n"
     ]
    },
    {
     "name": "stderr",
     "output_type": "stream",
     "text": [
      "/home/erichschulman/anaconda3/lib/python3.7/site-packages/statsmodels/base/model.py:512: ConvergenceWarning: Maximum Likelihood optimization failed to converge. Check mle_retvals\n",
      "  \"Check mle_retvals\", ConvergenceWarning)\n"
     ]
    },
    {
     "data": {
      "text/html": [
       "<table class=\"simpletable\">\n",
       "<caption>NashLogit Results</caption>\n",
       "<tr>\n",
       "  <th>Dep. Variable:</th>    <td>['HD entry', 'LOW entry']</td> <th>  Log-Likelihood:    </th> <td> -3166.0</td>\n",
       "</tr>\n",
       "<tr>\n",
       "  <th>Model:</th>                    <td>NashLogit</td>         <th>  AIC:               </th> <td>   6342.</td>\n",
       "</tr>\n",
       "<tr>\n",
       "  <th>Method:</th>              <td>Maximum Likelihood</td>     <th>  BIC:               </th> <td>   6372.</td>\n",
       "</tr>\n",
       "<tr>\n",
       "  <th>Date:</th>                 <td>Wed, 30 Jun 2021</td>      <th>                     </th>     <td> </td>   \n",
       "</tr>\n",
       "<tr>\n",
       "  <th>Time:</th>                     <td>15:58:02</td>          <th>                     </th>     <td> </td>   \n",
       "</tr>\n",
       "<tr>\n",
       "  <th>No. Observations:</th>          <td>  2952</td>           <th>                     </th>     <td> </td>   \n",
       "</tr>\n",
       "<tr>\n",
       "  <th>Df Residuals:</th>              <td>  2947</td>           <th>                     </th>     <td> </td>   \n",
       "</tr>\n",
       "<tr>\n",
       "  <th>Df Model:</th>                  <td>     4</td>           <th>                     </th>     <td> </td>   \n",
       "</tr>\n",
       "</table>\n",
       "<table class=\"simpletable\">\n",
       "<tr>\n",
       "          <td></td>             <th>coef</th>     <th>std err</th>      <th>z</th>      <th>P>|z|</th>  <th>[0.025</th>    <th>0.975]</th>  \n",
       "</tr>\n",
       "<tr>\n",
       "  <th>const</th>             <td>  -12.0313</td> <td>    1.921</td> <td>   -6.264</td> <td> 0.000</td> <td>  -15.796</td> <td>   -8.267</td>\n",
       "</tr>\n",
       "<tr>\n",
       "  <th>log income</th>        <td>   -0.0071</td> <td>    0.262</td> <td>   -0.027</td> <td> 0.978</td> <td>   -0.520</td> <td>    0.506</td>\n",
       "</tr>\n",
       "<tr>\n",
       "  <th>log population</th>    <td>    1.0879</td> <td>    0.142</td> <td>    7.656</td> <td> 0.000</td> <td>    0.809</td> <td>    1.366</td>\n",
       "</tr>\n",
       "<tr>\n",
       "  <th>log hd warehouse</th>  <td>    0.0112</td> <td>    0.044</td> <td>    0.254</td> <td> 0.800</td> <td>   -0.075</td> <td>    0.098</td>\n",
       "</tr>\n",
       "<tr>\n",
       "  <th>const</th>             <td>    4.4993</td> <td>    2.384</td> <td>    1.887</td> <td> 0.059</td> <td>   -0.174</td> <td>    9.172</td>\n",
       "</tr>\n",
       "<tr>\n",
       "  <th>log income</th>        <td>   -1.1881</td> <td>    0.143</td> <td>   -8.332</td> <td> 0.000</td> <td>   -1.468</td> <td>   -0.909</td>\n",
       "</tr>\n",
       "<tr>\n",
       "  <th>log population</th>    <td>    0.6217</td> <td>    0.188</td> <td>    3.309</td> <td> 0.001</td> <td>    0.253</td> <td>    0.990</td>\n",
       "</tr>\n",
       "<tr>\n",
       "  <th>log low warehouse</th> <td>    0.0036</td> <td>    0.047</td> <td>    0.077</td> <td> 0.938</td> <td>   -0.088</td> <td>    0.095</td>\n",
       "</tr>\n",
       "<tr>\n",
       "  <th>par0</th>              <td>    0.2723</td> <td>    1.059</td> <td>    0.257</td> <td> 0.797</td> <td>   -1.803</td> <td>    2.348</td>\n",
       "</tr>\n",
       "<tr>\n",
       "  <th>par1</th>              <td>    1.1499</td> <td>    0.868</td> <td>    1.324</td> <td> 0.185</td> <td>   -0.552</td> <td>    2.852</td>\n",
       "</tr>\n",
       "</table>"
      ],
      "text/plain": [
       "<class 'statsmodels.iolib.summary.Summary'>\n",
       "\"\"\"\n",
       "                                  NashLogit Results                                  \n",
       "=====================================================================================\n",
       "Dep. Variable:     ['HD entry', 'LOW entry']   Log-Likelihood:                -3166.0\n",
       "Model:                             NashLogit   AIC:                             6342.\n",
       "Method:                   Maximum Likelihood   BIC:                             6372.\n",
       "Date:                       Wed, 30 Jun 2021                                         \n",
       "Time:                               15:58:02                                         \n",
       "No. Observations:                       2952                                         \n",
       "Df Residuals:                           2947                                         \n",
       "Df Model:                                  4                                         \n",
       "=====================================================================================\n",
       "                        coef    std err          z      P>|z|      [0.025      0.975]\n",
       "-------------------------------------------------------------------------------------\n",
       "const               -12.0313      1.921     -6.264      0.000     -15.796      -8.267\n",
       "log income           -0.0071      0.262     -0.027      0.978      -0.520       0.506\n",
       "log population        1.0879      0.142      7.656      0.000       0.809       1.366\n",
       "log hd warehouse      0.0112      0.044      0.254      0.800      -0.075       0.098\n",
       "const                 4.4993      2.384      1.887      0.059      -0.174       9.172\n",
       "log income           -1.1881      0.143     -8.332      0.000      -1.468      -0.909\n",
       "log population        0.6217      0.188      3.309      0.001       0.253       0.990\n",
       "log low warehouse     0.0036      0.047      0.077      0.938      -0.088       0.095\n",
       "par0                  0.2723      1.059      0.257      0.797      -1.803       2.348\n",
       "par1                  1.1499      0.868      1.324      0.185      -0.552       2.852\n",
       "=====================================================================================\n",
       "\"\"\""
      ]
     },
     "execution_count": 17,
     "metadata": {},
     "output_type": "execute_result"
    }
   ],
   "source": [
    "# Fit the NashLogit model\n",
    "x = entry2_data[['const','log income','log population','log hd warehouse',\n",
    "                 'const','log income','log population','log low warehouse']].copy()\n",
    "y = entry2_data[['HD entry','LOW entry']]\n",
    "NashLogit_model = selection_tests.NashLogit(y,x).fit()\n",
    "NashLogit_model.summary()"
   ]
  },
  {
   "cell_type": "code",
   "execution_count": 18,
   "metadata": {},
   "outputs": [
    {
     "name": "stdout",
     "output_type": "stream",
     "text": [
      "Optimization terminated successfully.\n",
      "         Current function value: 0.516223\n",
      "         Iterations 6\n",
      "Optimization terminated successfully.\n",
      "         Current function value: 0.521237\n",
      "         Iterations 6\n",
      "[-1.09364059e+01 -5.08298059e-03  9.45608270e-01  8.33899479e-03\n",
      "  4.47877722e+00 -1.15220618e+00  5.79471773e-01  5.06419108e-03\n",
      "  1.33141327e+00  1.35747936e+00]\n",
      "Warning: Maximum number of iterations has been exceeded.\n"
     ]
    },
    {
     "name": "stderr",
     "output_type": "stream",
     "text": [
      "/home/erichschulman/anaconda3/lib/python3.7/site-packages/statsmodels/base/model.py:492: HessianInversionWarning: Inverting hessian failed, no bse or cov_params available\n",
      "  'available', HessianInversionWarning)\n",
      "/home/erichschulman/anaconda3/lib/python3.7/site-packages/statsmodels/base/model.py:512: ConvergenceWarning: Maximum Likelihood optimization failed to converge. Check mle_retvals\n",
      "  \"Check mle_retvals\", ConvergenceWarning)\n"
     ]
    },
    {
     "data": {
      "text/html": [
       "<table class=\"simpletable\">\n",
       "<caption>BayesNashLogit Results</caption>\n",
       "<tr>\n",
       "  <th>Dep. Variable:</th>    <td>['HD entry', 'LOW entry']</td> <th>  Log-Likelihood:    </th> <td> -3271.7</td>\n",
       "</tr>\n",
       "<tr>\n",
       "  <th>Model:</th>                 <td>BayesNashLogit</td>       <th>  AIC:               </th> <td>   6553.</td>\n",
       "</tr>\n",
       "<tr>\n",
       "  <th>Method:</th>              <td>Maximum Likelihood</td>     <th>  BIC:               </th> <td>   6583.</td>\n",
       "</tr>\n",
       "<tr>\n",
       "  <th>Date:</th>                 <td>Wed, 30 Jun 2021</td>      <th>                     </th>     <td> </td>   \n",
       "</tr>\n",
       "<tr>\n",
       "  <th>Time:</th>                     <td>15:58:14</td>          <th>                     </th>     <td> </td>   \n",
       "</tr>\n",
       "<tr>\n",
       "  <th>No. Observations:</th>          <td>  2952</td>           <th>                     </th>     <td> </td>   \n",
       "</tr>\n",
       "<tr>\n",
       "  <th>Df Residuals:</th>              <td>  2947</td>           <th>                     </th>     <td> </td>   \n",
       "</tr>\n",
       "<tr>\n",
       "  <th>Df Model:</th>                  <td>     4</td>           <th>                     </th>     <td> </td>   \n",
       "</tr>\n",
       "</table>\n",
       "<table class=\"simpletable\">\n",
       "<tr>\n",
       "          <td></td>             <th>coef</th>     <th>std err</th>      <th>z</th>      <th>P>|z|</th>  <th>[0.025</th>    <th>0.975]</th>  \n",
       "</tr>\n",
       "<tr>\n",
       "  <th>const</th>             <td>  -12.6469</td> <td>      nan</td> <td>      nan</td> <td>   nan</td> <td>      nan</td> <td>      nan</td>\n",
       "</tr>\n",
       "<tr>\n",
       "  <th>log income</th>        <td>   -0.0044</td> <td>      nan</td> <td>      nan</td> <td>   nan</td> <td>      nan</td> <td>      nan</td>\n",
       "</tr>\n",
       "<tr>\n",
       "  <th>log population</th>    <td>    1.1164</td> <td>      nan</td> <td>      nan</td> <td>   nan</td> <td>      nan</td> <td>      nan</td>\n",
       "</tr>\n",
       "<tr>\n",
       "  <th>log hd warehouse</th>  <td>    0.0079</td> <td>      nan</td> <td>      nan</td> <td>   nan</td> <td>      nan</td> <td>      nan</td>\n",
       "</tr>\n",
       "<tr>\n",
       "  <th>const</th>             <td>    1.1045</td> <td>      nan</td> <td>      nan</td> <td>   nan</td> <td>      nan</td> <td>      nan</td>\n",
       "</tr>\n",
       "<tr>\n",
       "  <th>log income</th>        <td>   -1.0912</td> <td>      nan</td> <td>      nan</td> <td>   nan</td> <td>      nan</td> <td>      nan</td>\n",
       "</tr>\n",
       "<tr>\n",
       "  <th>log population</th>    <td>    0.8540</td> <td>      nan</td> <td>      nan</td> <td>   nan</td> <td>      nan</td> <td>      nan</td>\n",
       "</tr>\n",
       "<tr>\n",
       "  <th>log low warehouse</th> <td>    0.0035</td> <td>      nan</td> <td>      nan</td> <td>   nan</td> <td>      nan</td> <td>      nan</td>\n",
       "</tr>\n",
       "<tr>\n",
       "  <th>par0</th>              <td>    1.2920</td> <td>      nan</td> <td>      nan</td> <td>   nan</td> <td>      nan</td> <td>      nan</td>\n",
       "</tr>\n",
       "<tr>\n",
       "  <th>par1</th>              <td>    1.3233</td> <td>      nan</td> <td>      nan</td> <td>   nan</td> <td>      nan</td> <td>      nan</td>\n",
       "</tr>\n",
       "</table>"
      ],
      "text/plain": [
       "<class 'statsmodels.iolib.summary.Summary'>\n",
       "\"\"\"\n",
       "                                BayesNashLogit Results                               \n",
       "=====================================================================================\n",
       "Dep. Variable:     ['HD entry', 'LOW entry']   Log-Likelihood:                -3271.7\n",
       "Model:                        BayesNashLogit   AIC:                             6553.\n",
       "Method:                   Maximum Likelihood   BIC:                             6583.\n",
       "Date:                       Wed, 30 Jun 2021                                         \n",
       "Time:                               15:58:14                                         \n",
       "No. Observations:                       2952                                         \n",
       "Df Residuals:                           2947                                         \n",
       "Df Model:                                  4                                         \n",
       "=====================================================================================\n",
       "                        coef    std err          z      P>|z|      [0.025      0.975]\n",
       "-------------------------------------------------------------------------------------\n",
       "const               -12.6469        nan        nan        nan         nan         nan\n",
       "log income           -0.0044        nan        nan        nan         nan         nan\n",
       "log population        1.1164        nan        nan        nan         nan         nan\n",
       "log hd warehouse      0.0079        nan        nan        nan         nan         nan\n",
       "const                 1.1045        nan        nan        nan         nan         nan\n",
       "log income           -1.0912        nan        nan        nan         nan         nan\n",
       "log population        0.8540        nan        nan        nan         nan         nan\n",
       "log low warehouse     0.0035        nan        nan        nan         nan         nan\n",
       "par0                  1.2920        nan        nan        nan         nan         nan\n",
       "par1                  1.3233        nan        nan        nan         nan         nan\n",
       "=====================================================================================\n",
       "\"\"\""
      ]
     },
     "execution_count": 18,
     "metadata": {},
     "output_type": "execute_result"
    }
   ],
   "source": [
    "# Fit the BayesNashLogit model\n",
    "x = entry2_data[['const','log income','log population','log hd warehouse', \n",
    "                 'const','log income','log population','log low warehouse']].copy()\n",
    "y = entry2_data[['HD entry','LOW entry']]\n",
    "BayesNashLogit_model = selection_tests.BayesNashLogit(y,x).fit()\n",
    "BayesNashLogit_model.summary()"
   ]
  },
  {
   "cell_type": "code",
   "execution_count": 19,
   "metadata": {},
   "outputs": [
    {
     "name": "stdout",
     "output_type": "stream",
     "text": [
      "Optimization terminated successfully.\n",
      "         Current function value: 0.525555\n",
      "         Iterations 6\n",
      "Optimization terminated successfully.\n",
      "         Current function value: 0.522770\n",
      "         Iterations 6\n",
      "[-0.91542172  0.83363423 -0.06999424 -0.76926613  0.62122087  0.02688035\n",
      "  1.28519899  1.31829695]\n"
     ]
    },
    {
     "name": "stderr",
     "output_type": "stream",
     "text": [
      "/home/erichschulman/anaconda3/lib/python3.7/site-packages/statsmodels/base/model.py:492: HessianInversionWarning: Inverting hessian failed, no bse or cov_params available\n",
      "  'available', HessianInversionWarning)\n",
      "/home/erichschulman/anaconda3/lib/python3.7/site-packages/statsmodels/base/model.py:512: ConvergenceWarning: Maximum Likelihood optimization failed to converge. Check mle_retvals\n",
      "  \"Check mle_retvals\", ConvergenceWarning)\n"
     ]
    },
    {
     "name": "stdout",
     "output_type": "stream",
     "text": [
      "Optimization terminated successfully.\n",
      "         Current function value: 0.525555\n",
      "         Iterations 6\n",
      "Optimization terminated successfully.\n",
      "         Current function value: 0.522770\n",
      "         Iterations 6\n",
      "[-0.91542172  0.83363423 -0.06999424 -0.76926613  0.62122087  0.02688035\n",
      "  1.28519899  1.31829695]\n"
     ]
    },
    {
     "name": "stderr",
     "output_type": "stream",
     "text": [
      "/home/erichschulman/anaconda3/lib/python3.7/site-packages/statsmodels/base/model.py:512: ConvergenceWarning: Maximum Likelihood optimization failed to converge. Check mle_retvals\n",
      "  \"Check mle_retvals\", ConvergenceWarning)\n"
     ]
    },
    {
     "data": {
      "text/plain": [
       "1"
      ]
     },
     "execution_count": 19,
     "metadata": {},
     "output_type": "execute_result"
    }
   ],
   "source": [
    "# Fit the regular test model\n",
    "# Fit the BayesNashLogit model\n",
    "x = entry2_data[['log income','log population','log hd warehouse', \n",
    "                 'log income','log population','log low warehouse']].copy()\n",
    "y = entry2_data[['HD entry','LOW entry']]\n",
    "regular_test_model = selection_tests.regular_test(y,x,selection_tests.setup_test)\n",
    "regular_test_model"
   ]
  },
  {
   "cell_type": "code",
   "execution_count": 16,
   "metadata": {},
   "outputs": [
    {
     "name": "stdout",
     "output_type": "stream",
     "text": [
      "Optimization terminated successfully.\n",
      "         Current function value: 0.525555\n",
      "         Iterations 6\n",
      "Optimization terminated successfully.\n",
      "         Current function value: 0.522770\n",
      "         Iterations 6\n"
     ]
    },
    {
     "name": "stderr",
     "output_type": "stream",
     "text": [
      "/home/erichschulman/anaconda3/lib/python3.7/site-packages/statsmodels/base/model.py:492: HessianInversionWarning: Inverting hessian failed, no bse or cov_params available\n",
      "  'available', HessianInversionWarning)\n",
      "/home/erichschulman/anaconda3/lib/python3.7/site-packages/statsmodels/base/model.py:512: ConvergenceWarning: Maximum Likelihood optimization failed to converge. Check mle_retvals\n",
      "  \"Check mle_retvals\", ConvergenceWarning)\n"
     ]
    },
    {
     "name": "stdout",
     "output_type": "stream",
     "text": [
      "Optimization terminated successfully.\n",
      "         Current function value: 0.525555\n",
      "         Iterations 6\n",
      "Optimization terminated successfully.\n",
      "         Current function value: 0.522770\n",
      "         Iterations 6\n"
     ]
    },
    {
     "name": "stderr",
     "output_type": "stream",
     "text": [
      "/home/erichschulman/anaconda3/lib/python3.7/site-packages/statsmodels/base/model.py:512: ConvergenceWarning: Maximum Likelihood optimization failed to converge. Check mle_retvals\n",
      "  \"Check mle_retvals\", ConvergenceWarning)\n"
     ]
    },
    {
     "data": {
      "text/plain": [
       "1"
      ]
     },
     "execution_count": 16,
     "metadata": {},
     "output_type": "execute_result"
    }
   ],
   "source": [
    "# Fit the bootstrap test model\n",
    "x = entry2_data[['log income','log population','log hd warehouse', 'log income','log population','log low warehouse']].copy()\n",
    "y = entry2_data[['HD entry','LOW entry']]\n",
    "bootstrap_test_model = selection_tests.bootstrap_test(y,x,selection_tests.setup_test, trials=100)\n",
    "bootstrap_test_model"
   ]
  },
  {
   "cell_type": "code",
   "execution_count": null,
   "metadata": {},
   "outputs": [],
   "source": []
  },
  {
   "cell_type": "code",
   "execution_count": null,
   "metadata": {},
   "outputs": [],
   "source": []
  }
 ],
 "metadata": {
  "kernelspec": {
   "display_name": "Python 3",
   "language": "python",
   "name": "python3"
  },
  "language_info": {
   "codemirror_mode": {
    "name": "ipython",
    "version": 3
   },
   "file_extension": ".py",
   "mimetype": "text/x-python",
   "name": "python",
   "nbconvert_exporter": "python",
   "pygments_lexer": "ipython3",
   "version": "3.7.4"
  }
 },
 "nbformat": 4,
 "nbformat_minor": 4
}
