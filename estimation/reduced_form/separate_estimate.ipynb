{
 "cells": [
  {
   "cell_type": "code",
   "execution_count": 1,
   "metadata": {},
   "outputs": [],
   "source": [
    "import numpy as np\n",
    "import pandas as pd\n",
    "import matplotlib.pyplot as plt\n",
    "import statsmodels.api as sm\n",
    "from statsmodels.base.model import GenericLikelihoodModel"
   ]
  },
  {
   "cell_type": "code",
   "execution_count": 2,
   "metadata": {},
   "outputs": [
    {
     "name": "stderr",
     "output_type": "stream",
     "text": [
      "/home/erichschulman/anaconda3/lib/python3.9/site-packages/pandas/core/arraylike.py:364: RuntimeWarning: invalid value encountered in log\n",
      "  result = getattr(ufunc, method)(*inputs, **kwargs)\n"
     ]
    }
   ],
   "source": [
    "entry_data = pd.read_csv(\"../data/merged_entry.csv\")\n",
    "entry_data.loc[entry_data['HD'] > 0.0, 'HD_1'] = 1\n",
    "entry_data.loc[entry_data['LO'] > 0.0, 'LO_1'] = 1\n",
    "entry_data['income_2'] = np.log(1 + entry_data['income_per_capita'])\n",
    "entry_data['population_2'] = np.log(1 + entry_data['population'])\n",
    "entry_data = entry_data.fillna(0)"
   ]
  },
  {
   "cell_type": "code",
   "execution_count": 3,
   "metadata": {},
   "outputs": [
    {
     "data": {
      "text/html": [
       "<table class=\"simpletable\">\n",
       "<caption>OLS Regression Results</caption>\n",
       "<tr>\n",
       "  <th>Dep. Variable:</th>          <td>HD_1</td>       <th>  R-squared (uncentered):</th>      <td>   0.688</td>\n",
       "</tr>\n",
       "<tr>\n",
       "  <th>Model:</th>                   <td>OLS</td>       <th>  Adj. R-squared (uncentered):</th> <td>   0.688</td>\n",
       "</tr>\n",
       "<tr>\n",
       "  <th>Method:</th>             <td>Least Squares</td>  <th>  F-statistic:       </th>          <td>   2375.</td>\n",
       "</tr>\n",
       "<tr>\n",
       "  <th>Date:</th>             <td>Mon, 09 May 2022</td> <th>  Prob (F-statistic):</th>           <td>  0.00</td> \n",
       "</tr>\n",
       "<tr>\n",
       "  <th>Time:</th>                 <td>21:52:05</td>     <th>  Log-Likelihood:    </th>          <td> -1470.8</td>\n",
       "</tr>\n",
       "<tr>\n",
       "  <th>No. Observations:</th>      <td>  2155</td>      <th>  AIC:               </th>          <td>   2946.</td>\n",
       "</tr>\n",
       "<tr>\n",
       "  <th>Df Residuals:</th>          <td>  2153</td>      <th>  BIC:               </th>          <td>   2957.</td>\n",
       "</tr>\n",
       "<tr>\n",
       "  <th>Df Model:</th>              <td>     2</td>      <th>                     </th>              <td> </td>   \n",
       "</tr>\n",
       "<tr>\n",
       "  <th>Covariance Type:</th>      <td>nonrobust</td>    <th>                     </th>              <td> </td>   \n",
       "</tr>\n",
       "</table>\n",
       "<table class=\"simpletable\">\n",
       "<tr>\n",
       "        <td></td>          <th>coef</th>     <th>std err</th>      <th>t</th>      <th>P>|t|</th>  <th>[0.025</th>    <th>0.975]</th>  \n",
       "</tr>\n",
       "<tr>\n",
       "  <th>income_2</th>     <td>    0.0186</td> <td>    0.008</td> <td>    2.377</td> <td> 0.018</td> <td>    0.003</td> <td>    0.034</td>\n",
       "</tr>\n",
       "<tr>\n",
       "  <th>population_2</th> <td>    0.0548</td> <td>    0.008</td> <td>    6.928</td> <td> 0.000</td> <td>    0.039</td> <td>    0.070</td>\n",
       "</tr>\n",
       "</table>\n",
       "<table class=\"simpletable\">\n",
       "<tr>\n",
       "  <th>Omnibus:</th>       <td>84.678</td> <th>  Durbin-Watson:     </th> <td>   1.901</td>\n",
       "</tr>\n",
       "<tr>\n",
       "  <th>Prob(Omnibus):</th> <td> 0.000</td> <th>  Jarque-Bera (JB):  </th> <td>  92.265</td>\n",
       "</tr>\n",
       "<tr>\n",
       "  <th>Skew:</th>          <td>-0.495</td> <th>  Prob(JB):          </th> <td>9.22e-21</td>\n",
       "</tr>\n",
       "<tr>\n",
       "  <th>Kurtosis:</th>      <td> 2.780</td> <th>  Cond. No.          </th> <td>    14.8</td>\n",
       "</tr>\n",
       "</table><br/><br/>Notes:<br/>[1] R² is computed without centering (uncentered) since the model does not contain a constant.<br/>[2] Standard Errors assume that the covariance matrix of the errors is correctly specified."
      ],
      "text/plain": [
       "<class 'statsmodels.iolib.summary.Summary'>\n",
       "\"\"\"\n",
       "                                 OLS Regression Results                                \n",
       "=======================================================================================\n",
       "Dep. Variable:                   HD_1   R-squared (uncentered):                   0.688\n",
       "Model:                            OLS   Adj. R-squared (uncentered):              0.688\n",
       "Method:                 Least Squares   F-statistic:                              2375.\n",
       "Date:                Mon, 09 May 2022   Prob (F-statistic):                        0.00\n",
       "Time:                        21:52:05   Log-Likelihood:                         -1470.8\n",
       "No. Observations:                2155   AIC:                                      2946.\n",
       "Df Residuals:                    2153   BIC:                                      2957.\n",
       "Df Model:                           2                                                  \n",
       "Covariance Type:            nonrobust                                                  \n",
       "================================================================================\n",
       "                   coef    std err          t      P>|t|      [0.025      0.975]\n",
       "--------------------------------------------------------------------------------\n",
       "income_2         0.0186      0.008      2.377      0.018       0.003       0.034\n",
       "population_2     0.0548      0.008      6.928      0.000       0.039       0.070\n",
       "==============================================================================\n",
       "Omnibus:                       84.678   Durbin-Watson:                   1.901\n",
       "Prob(Omnibus):                  0.000   Jarque-Bera (JB):               92.265\n",
       "Skew:                          -0.495   Prob(JB):                     9.22e-21\n",
       "Kurtosis:                       2.780   Cond. No.                         14.8\n",
       "==============================================================================\n",
       "\n",
       "Notes:\n",
       "[1] R² is computed without centering (uncentered) since the model does not contain a constant.\n",
       "[2] Standard Errors assume that the covariance matrix of the errors is correctly specified.\n",
       "\"\"\""
      ]
     },
     "execution_count": 3,
     "metadata": {},
     "output_type": "execute_result"
    }
   ],
   "source": [
    "# Model fit for HD stores\n",
    "x = entry_data[['income_2','population_2']].copy()\n",
    "y = entry_data['HD_1']\n",
    "model1 = sm.regression.linear_model.OLS(y,x).fit()\n",
    "model1.summary()"
   ]
  },
  {
   "cell_type": "code",
   "execution_count": 4,
   "metadata": {},
   "outputs": [
    {
     "data": {
      "text/html": [
       "<table class=\"simpletable\">\n",
       "<caption>OLS Regression Results</caption>\n",
       "<tr>\n",
       "  <th>Dep. Variable:</th>          <td>LO_1</td>       <th>  R-squared (uncentered):</th>      <td>   0.514</td>\n",
       "</tr>\n",
       "<tr>\n",
       "  <th>Model:</th>                   <td>OLS</td>       <th>  Adj. R-squared (uncentered):</th> <td>   0.513</td>\n",
       "</tr>\n",
       "<tr>\n",
       "  <th>Method:</th>             <td>Least Squares</td>  <th>  F-statistic:       </th>          <td>   1137.</td>\n",
       "</tr>\n",
       "<tr>\n",
       "  <th>Date:</th>             <td>Mon, 09 May 2022</td> <th>  Prob (F-statistic):</th>           <td>  0.00</td> \n",
       "</tr>\n",
       "<tr>\n",
       "  <th>Time:</th>                 <td>21:52:05</td>     <th>  Log-Likelihood:    </th>          <td> -1647.5</td>\n",
       "</tr>\n",
       "<tr>\n",
       "  <th>No. Observations:</th>      <td>  2155</td>      <th>  AIC:               </th>          <td>   3299.</td>\n",
       "</tr>\n",
       "<tr>\n",
       "  <th>Df Residuals:</th>          <td>  2153</td>      <th>  BIC:               </th>          <td>   3310.</td>\n",
       "</tr>\n",
       "<tr>\n",
       "  <th>Df Model:</th>              <td>     2</td>      <th>                     </th>              <td> </td>   \n",
       "</tr>\n",
       "<tr>\n",
       "  <th>Covariance Type:</th>      <td>nonrobust</td>    <th>                     </th>              <td> </td>   \n",
       "</tr>\n",
       "</table>\n",
       "<table class=\"simpletable\">\n",
       "<tr>\n",
       "        <td></td>          <th>coef</th>     <th>std err</th>      <th>t</th>      <th>P>|t|</th>  <th>[0.025</th>    <th>0.975]</th>  \n",
       "</tr>\n",
       "<tr>\n",
       "  <th>income_2</th>     <td>    0.0025</td> <td>    0.009</td> <td>    0.298</td> <td> 0.766</td> <td>   -0.014</td> <td>    0.019</td>\n",
       "</tr>\n",
       "<tr>\n",
       "  <th>population_2</th> <td>    0.0527</td> <td>    0.009</td> <td>    6.132</td> <td> 0.000</td> <td>    0.036</td> <td>    0.070</td>\n",
       "</tr>\n",
       "</table>\n",
       "<table class=\"simpletable\">\n",
       "<tr>\n",
       "  <th>Omnibus:</th>       <td>15793.182</td> <th>  Durbin-Watson:     </th> <td>   1.923</td>\n",
       "</tr>\n",
       "<tr>\n",
       "  <th>Prob(Omnibus):</th>  <td> 0.000</td>   <th>  Jarque-Bera (JB):  </th> <td> 197.103</td>\n",
       "</tr>\n",
       "<tr>\n",
       "  <th>Skew:</th>           <td>-0.109</td>   <th>  Prob(JB):          </th> <td>1.58e-43</td>\n",
       "</tr>\n",
       "<tr>\n",
       "  <th>Kurtosis:</th>       <td> 1.534</td>   <th>  Cond. No.          </th> <td>    14.8</td>\n",
       "</tr>\n",
       "</table><br/><br/>Notes:<br/>[1] R² is computed without centering (uncentered) since the model does not contain a constant.<br/>[2] Standard Errors assume that the covariance matrix of the errors is correctly specified."
      ],
      "text/plain": [
       "<class 'statsmodels.iolib.summary.Summary'>\n",
       "\"\"\"\n",
       "                                 OLS Regression Results                                \n",
       "=======================================================================================\n",
       "Dep. Variable:                   LO_1   R-squared (uncentered):                   0.514\n",
       "Model:                            OLS   Adj. R-squared (uncentered):              0.513\n",
       "Method:                 Least Squares   F-statistic:                              1137.\n",
       "Date:                Mon, 09 May 2022   Prob (F-statistic):                        0.00\n",
       "Time:                        21:52:05   Log-Likelihood:                         -1647.5\n",
       "No. Observations:                2155   AIC:                                      3299.\n",
       "Df Residuals:                    2153   BIC:                                      3310.\n",
       "Df Model:                           2                                                  \n",
       "Covariance Type:            nonrobust                                                  \n",
       "================================================================================\n",
       "                   coef    std err          t      P>|t|      [0.025      0.975]\n",
       "--------------------------------------------------------------------------------\n",
       "income_2         0.0025      0.009      0.298      0.766      -0.014       0.019\n",
       "population_2     0.0527      0.009      6.132      0.000       0.036       0.070\n",
       "==============================================================================\n",
       "Omnibus:                    15793.182   Durbin-Watson:                   1.923\n",
       "Prob(Omnibus):                  0.000   Jarque-Bera (JB):              197.103\n",
       "Skew:                          -0.109   Prob(JB):                     1.58e-43\n",
       "Kurtosis:                       1.534   Cond. No.                         14.8\n",
       "==============================================================================\n",
       "\n",
       "Notes:\n",
       "[1] R² is computed without centering (uncentered) since the model does not contain a constant.\n",
       "[2] Standard Errors assume that the covariance matrix of the errors is correctly specified.\n",
       "\"\"\""
      ]
     },
     "execution_count": 4,
     "metadata": {},
     "output_type": "execute_result"
    }
   ],
   "source": [
    "# Model fit for LO stores\n",
    "x = entry_data[['income_2','population_2']].copy()\n",
    "y = entry_data['LO_1']\n",
    "model1 = sm.regression.linear_model.OLS(y,x).fit()\n",
    "model1.summary()"
   ]
  },
  {
   "cell_type": "code",
   "execution_count": null,
   "metadata": {},
   "outputs": [],
   "source": []
  }
 ],
 "metadata": {
  "kernelspec": {
   "display_name": "Python 3 (ipykernel)",
   "language": "python",
   "name": "python3"
  },
  "language_info": {
   "codemirror_mode": {
    "name": "ipython",
    "version": 3
   },
   "file_extension": ".py",
   "mimetype": "text/x-python",
   "name": "python",
   "nbconvert_exporter": "python",
   "pygments_lexer": "ipython3",
   "version": "3.9.7"
  }
 },
 "nbformat": 4,
 "nbformat_minor": 4
}
